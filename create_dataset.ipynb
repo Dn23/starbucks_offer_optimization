{
 "cells": [
  {
   "cell_type": "code",
   "execution_count": 1,
   "metadata": {},
   "outputs": [],
   "source": [
    "import pandas as pd\n",
    "import numpy as np\n",
    "import math\n",
    "import json\n",
    "% matplotlib inline\n",
    "\n",
    "# read in the json files\n",
    "portfolio = pd.read_json('data/portfolio.json', orient='records', lines=True)\n",
    "profile = pd.read_json('data/profile.json', orient='records', lines=True)\n",
    "transcript = pd.read_json('data/transcript.json', orient='records', lines=True)"
   ]
  },
  {
   "cell_type": "code",
   "execution_count": 2,
   "metadata": {},
   "outputs": [],
   "source": [
    "model_data_labels = transcript[transcript['event'] == 'offer received'][['person','value','time']].reset_index(drop = True)"
   ]
  },
  {
   "cell_type": "code",
   "execution_count": 3,
   "metadata": {},
   "outputs": [],
   "source": [
    "model_data_labels['offer_id'] = model_data_labels['value'].apply(lambda x: x.get('offer id'))\n",
    "model_data_labels['label'] = 0\n",
    "model_data_labels = model_data_labels.drop('value',axis = 1)"
   ]
  },
  {
   "cell_type": "code",
   "execution_count": 4,
   "metadata": {},
   "outputs": [
    {
     "name": "stdout",
     "output_type": "stream",
     "text": [
      "<class 'pandas.core.frame.DataFrame'>\n",
      "RangeIndex: 76277 entries, 0 to 76276\n",
      "Data columns (total 4 columns):\n",
      "person      76277 non-null object\n",
      "time        76277 non-null int64\n",
      "offer_id    76277 non-null object\n",
      "label       76277 non-null int64\n",
      "dtypes: int64(2), object(2)\n",
      "memory usage: 2.3+ MB\n"
     ]
    }
   ],
   "source": [
    "model_data_labels.info()"
   ]
  },
  {
   "cell_type": "code",
   "execution_count": 5,
   "metadata": {},
   "outputs": [
    {
     "data": {
      "text/plain": [
       "person      63288\n",
       "offer_id    63288\n",
       "dtype: int64"
      ]
     },
     "execution_count": 5,
     "metadata": {},
     "output_type": "execute_result"
    }
   ],
   "source": [
    "model_data_labels[['person','offer_id']].drop_duplicates().count()"
   ]
  },
  {
   "cell_type": "code",
   "execution_count": 6,
   "metadata": {},
   "outputs": [],
   "source": [
    "portfolio.rename(columns = {'id' : 'offer_id'},inplace = True)\n",
    "model_data_labels = pd.merge(model_data_labels,portfolio[['offer_id','duration']],on = 'offer_id')"
   ]
  },
  {
   "cell_type": "code",
   "execution_count": 7,
   "metadata": {},
   "outputs": [
    {
     "name": "stdout",
     "output_type": "stream",
     "text": [
      "<class 'pandas.core.frame.DataFrame'>\n",
      "Int64Index: 76277 entries, 0 to 76276\n",
      "Data columns (total 5 columns):\n",
      "person      76277 non-null object\n",
      "time        76277 non-null int64\n",
      "offer_id    76277 non-null object\n",
      "label       76277 non-null int64\n",
      "duration    76277 non-null int64\n",
      "dtypes: int64(3), object(2)\n",
      "memory usage: 3.5+ MB\n"
     ]
    }
   ],
   "source": [
    "model_data_labels.info()"
   ]
  },
  {
   "cell_type": "code",
   "execution_count": 8,
   "metadata": {},
   "outputs": [],
   "source": [
    "offer_viewed = transcript[transcript['event'] == 'offer viewed'][['person','value','time']].copy().reset_index(drop = True)\n",
    "offer_completed= transcript[transcript['event'] == 'offer completed'][['person','value','time']].copy().reset_index(drop = True)\n",
    "offer_viewed['offer_id'] = offer_viewed['value'].apply(lambda x: x.get('offer id'))\n",
    "offer_completed['offer_id'] = offer_completed['value'].apply(lambda x: x.get('offer_id'))"
   ]
  },
  {
   "cell_type": "code",
   "execution_count": 9,
   "metadata": {},
   "outputs": [
    {
     "name": "stdout",
     "output_type": "stream",
     "text": [
      "<class 'pandas.core.frame.DataFrame'>\n",
      "RangeIndex: 33579 entries, 0 to 33578\n",
      "Data columns (total 4 columns):\n",
      "person      33579 non-null object\n",
      "value       33579 non-null object\n",
      "time        33579 non-null int64\n",
      "offer_id    33579 non-null object\n",
      "dtypes: int64(1), object(3)\n",
      "memory usage: 1.0+ MB\n"
     ]
    }
   ],
   "source": [
    "offer_completed.info()"
   ]
  },
  {
   "cell_type": "code",
   "execution_count": 10,
   "metadata": {},
   "outputs": [],
   "source": [
    "offer_viewed_completed = pd.merge(offer_viewed[['person','offer_id','time']],\n",
    "                                  offer_completed[['person','offer_id','time']],on = ['person','offer_id'])"
   ]
  },
  {
   "cell_type": "code",
   "execution_count": 11,
   "metadata": {},
   "outputs": [
    {
     "name": "stdout",
     "output_type": "stream",
     "text": [
      "<class 'pandas.core.frame.DataFrame'>\n",
      "Int64Index: 37952 entries, 0 to 37951\n",
      "Data columns (total 4 columns):\n",
      "person      37952 non-null object\n",
      "offer_id    37952 non-null object\n",
      "time_x      37952 non-null int64\n",
      "time_y      37952 non-null int64\n",
      "dtypes: int64(2), object(2)\n",
      "memory usage: 1.4+ MB\n"
     ]
    }
   ],
   "source": [
    "offer_viewed_completed.info()"
   ]
  },
  {
   "cell_type": "code",
   "execution_count": 12,
   "metadata": {},
   "outputs": [],
   "source": [
    "offer_viewed_completed = offer_viewed_completed[offer_viewed_completed['time_x'] <= offer_viewed_completed['time_y']].copy().reset_index(drop = True)"
   ]
  },
  {
   "cell_type": "code",
   "execution_count": 13,
   "metadata": {},
   "outputs": [
    {
     "name": "stdout",
     "output_type": "stream",
     "text": [
      "<class 'pandas.core.frame.DataFrame'>\n",
      "RangeIndex: 29098 entries, 0 to 29097\n",
      "Data columns (total 4 columns):\n",
      "person      29098 non-null object\n",
      "offer_id    29098 non-null object\n",
      "time_x      29098 non-null int64\n",
      "time_y      29098 non-null int64\n",
      "dtypes: int64(2), object(2)\n",
      "memory usage: 909.4+ KB\n"
     ]
    }
   ],
   "source": [
    "offer_viewed_completed.info()"
   ]
  },
  {
   "cell_type": "code",
   "execution_count": 14,
   "metadata": {},
   "outputs": [],
   "source": [
    "offer_viewed_completed = offer_viewed_completed.rename(columns = {'person':'person_right','offer_id' : 'offer_id_right'})\n",
    "model_data_labels_completed = pd.merge(model_data_labels,offer_viewed_completed,how = 'inner',left_on = ['person','offer_id']\n",
    "                            ,right_on = ['person_right','offer_id_right'])"
   ]
  },
  {
   "cell_type": "code",
   "execution_count": 15,
   "metadata": {},
   "outputs": [
    {
     "name": "stdout",
     "output_type": "stream",
     "text": [
      "<class 'pandas.core.frame.DataFrame'>\n",
      "Int64Index: 45075 entries, 0 to 45074\n",
      "Data columns (total 9 columns):\n",
      "person            45075 non-null object\n",
      "time              45075 non-null int64\n",
      "offer_id          45075 non-null object\n",
      "label             45075 non-null int64\n",
      "duration          45075 non-null int64\n",
      "person_right      45075 non-null object\n",
      "offer_id_right    45075 non-null object\n",
      "time_x            45075 non-null int64\n",
      "time_y            45075 non-null int64\n",
      "dtypes: int64(5), object(4)\n",
      "memory usage: 3.4+ MB\n"
     ]
    }
   ],
   "source": [
    "model_data_labels_completed.info()"
   ]
  },
  {
   "cell_type": "code",
   "execution_count": 16,
   "metadata": {},
   "outputs": [],
   "source": [
    "model_data_labels_completed['time_diff'] = model_data_labels_completed['time_y'] - model_data_labels_completed['time']\n",
    "model_data_labels_completed = model_data_labels_completed[model_data_labels_completed['time_diff'] <= model_data_labels_completed['duration'] * 24].copy().reset_index(drop = True)"
   ]
  },
  {
   "cell_type": "code",
   "execution_count": 17,
   "metadata": {},
   "outputs": [
    {
     "name": "stdout",
     "output_type": "stream",
     "text": [
      "<class 'pandas.core.frame.DataFrame'>\n",
      "RangeIndex: 36416 entries, 0 to 36415\n",
      "Data columns (total 10 columns):\n",
      "person            36416 non-null object\n",
      "time              36416 non-null int64\n",
      "offer_id          36416 non-null object\n",
      "label             36416 non-null int64\n",
      "duration          36416 non-null int64\n",
      "person_right      36416 non-null object\n",
      "offer_id_right    36416 non-null object\n",
      "time_x            36416 non-null int64\n",
      "time_y            36416 non-null int64\n",
      "time_diff         36416 non-null int64\n",
      "dtypes: int64(6), object(4)\n",
      "memory usage: 2.8+ MB\n"
     ]
    }
   ],
   "source": [
    "model_data_labels_completed.info()"
   ]
  },
  {
   "cell_type": "code",
   "execution_count": 18,
   "metadata": {},
   "outputs": [],
   "source": [
    "model_data_labels_completed = model_data_labels_completed.groupby(['person','offer_id']\n",
    "                                                                  ,as_index = False)['time'].min()"
   ]
  },
  {
   "cell_type": "code",
   "execution_count": 19,
   "metadata": {},
   "outputs": [
    {
     "name": "stdout",
     "output_type": "stream",
     "text": [
      "<class 'pandas.core.frame.DataFrame'>\n",
      "Int64Index: 21372 entries, 0 to 21371\n",
      "Data columns (total 3 columns):\n",
      "person      21372 non-null object\n",
      "offer_id    21372 non-null object\n",
      "time        21372 non-null int64\n",
      "dtypes: int64(1), object(2)\n",
      "memory usage: 667.9+ KB\n"
     ]
    }
   ],
   "source": [
    "model_data_labels_completed.info()"
   ]
  },
  {
   "cell_type": "code",
   "execution_count": 20,
   "metadata": {},
   "outputs": [],
   "source": [
    "model_data_labels_completed['label_completed'] = 1\n",
    "model_data_labels = pd.merge(model_data_labels,model_data_labels_completed,how = 'left',on = ['person','offer_id','time'])"
   ]
  },
  {
   "cell_type": "code",
   "execution_count": 21,
   "metadata": {},
   "outputs": [],
   "source": [
    "model_data_labels['label'] = np.where(model_data_labels['label_completed'] ==1,1,0)"
   ]
  },
  {
   "cell_type": "code",
   "execution_count": 22,
   "metadata": {},
   "outputs": [
    {
     "name": "stdout",
     "output_type": "stream",
     "text": [
      "<class 'pandas.core.frame.DataFrame'>\n",
      "Int64Index: 76277 entries, 0 to 76276\n",
      "Data columns (total 6 columns):\n",
      "person             76277 non-null object\n",
      "time               76277 non-null int64\n",
      "offer_id           76277 non-null object\n",
      "label              76277 non-null int64\n",
      "duration           76277 non-null int64\n",
      "label_completed    21372 non-null float64\n",
      "dtypes: float64(1), int64(3), object(2)\n",
      "memory usage: 4.1+ MB\n"
     ]
    }
   ],
   "source": [
    "model_data_labels.info()"
   ]
  },
  {
   "cell_type": "code",
   "execution_count": 23,
   "metadata": {},
   "outputs": [],
   "source": [
    "model_data_labels0 = model_data_labels[model_data_labels['label'] == 0].copy().reset_index(drop = True)"
   ]
  },
  {
   "cell_type": "code",
   "execution_count": 24,
   "metadata": {},
   "outputs": [
    {
     "name": "stdout",
     "output_type": "stream",
     "text": [
      "<class 'pandas.core.frame.DataFrame'>\n",
      "RangeIndex: 54905 entries, 0 to 54904\n",
      "Data columns (total 6 columns):\n",
      "person             54905 non-null object\n",
      "time               54905 non-null int64\n",
      "offer_id           54905 non-null object\n",
      "label              54905 non-null int64\n",
      "duration           54905 non-null int64\n",
      "label_completed    0 non-null float64\n",
      "dtypes: float64(1), int64(3), object(2)\n",
      "memory usage: 2.5+ MB\n"
     ]
    }
   ],
   "source": [
    "model_data_labels0.info()"
   ]
  },
  {
   "cell_type": "code",
   "execution_count": 25,
   "metadata": {},
   "outputs": [],
   "source": [
    "model_data_labels0_not_completed = model_data_labels0[model_data_labels0['time'] > 714 - \n",
    "                                                      model_data_labels0['duration'] * 24].copy()\\\n",
    "                                                                                        .reset_index(drop = True)"
   ]
  },
  {
   "cell_type": "code",
   "execution_count": 26,
   "metadata": {},
   "outputs": [],
   "source": [
    "model_data_labels0_not_completed_unique = model_data_labels0_not_completed.\\\n",
    "groupby(['person','offer_id','duration'],as_index = False)['time'].min()"
   ]
  },
  {
   "cell_type": "code",
   "execution_count": 27,
   "metadata": {},
   "outputs": [
    {
     "name": "stdout",
     "output_type": "stream",
     "text": [
      "<class 'pandas.core.frame.DataFrame'>\n",
      "Int64Index: 7278 entries, 0 to 7277\n",
      "Data columns (total 4 columns):\n",
      "person      7278 non-null object\n",
      "offer_id    7278 non-null object\n",
      "duration    7278 non-null int64\n",
      "time        7278 non-null int64\n",
      "dtypes: int64(2), object(2)\n",
      "memory usage: 284.3+ KB\n"
     ]
    }
   ],
   "source": [
    "model_data_labels0_not_completed_unique.info()"
   ]
  },
  {
   "cell_type": "code",
   "execution_count": 28,
   "metadata": {},
   "outputs": [],
   "source": [
    "offer_completed = offer_completed.rename(columns = {'person':'person_right',\n",
    "                                                    'offer_id' : 'offer_id_right',\n",
    "                                                    'time' : 'time_right'})\n",
    "model_data_labels0_not_completed_unique = pd.merge(model_data_labels0_not_completed_unique,\n",
    "                                            offer_completed,\n",
    "                                            how = 'left',\n",
    "                                            left_on = ['person','offer_id'],\n",
    "                                            right_on = ['person_right','offer_id_right']\n",
    "                                           )"
   ]
  },
  {
   "cell_type": "code",
   "execution_count": 29,
   "metadata": {},
   "outputs": [
    {
     "name": "stdout",
     "output_type": "stream",
     "text": [
      "<class 'pandas.core.frame.DataFrame'>\n",
      "Int64Index: 8744 entries, 0 to 8743\n",
      "Data columns (total 8 columns):\n",
      "person            8744 non-null object\n",
      "offer_id          8744 non-null object\n",
      "duration          8744 non-null int64\n",
      "time              8744 non-null int64\n",
      "person_right      4539 non-null object\n",
      "value             4539 non-null object\n",
      "time_right        4539 non-null float64\n",
      "offer_id_right    4539 non-null object\n",
      "dtypes: float64(1), int64(2), object(5)\n",
      "memory usage: 614.8+ KB\n"
     ]
    }
   ],
   "source": [
    "model_data_labels0_not_completed_unique.info()"
   ]
  },
  {
   "cell_type": "code",
   "execution_count": 30,
   "metadata": {},
   "outputs": [],
   "source": [
    "model_data_labels0_not_completed_unique = model_data_labels0_not_completed_unique[\n",
    "    model_data_labels0_not_completed_unique['person_right'].isnull()\n",
    "].copy().reset_index(drop = True)"
   ]
  },
  {
   "cell_type": "code",
   "execution_count": 31,
   "metadata": {},
   "outputs": [
    {
     "name": "stdout",
     "output_type": "stream",
     "text": [
      "<class 'pandas.core.frame.DataFrame'>\n",
      "RangeIndex: 4205 entries, 0 to 4204\n",
      "Data columns (total 8 columns):\n",
      "person            4205 non-null object\n",
      "offer_id          4205 non-null object\n",
      "duration          4205 non-null int64\n",
      "time              4205 non-null int64\n",
      "person_right      0 non-null object\n",
      "value             0 non-null object\n",
      "time_right        0 non-null float64\n",
      "offer_id_right    0 non-null object\n",
      "dtypes: float64(1), int64(2), object(5)\n",
      "memory usage: 262.9+ KB\n"
     ]
    }
   ],
   "source": [
    "model_data_labels0_not_completed_unique.info()"
   ]
  },
  {
   "cell_type": "code",
   "execution_count": 32,
   "metadata": {},
   "outputs": [
    {
     "data": {
      "text/plain": [
       "(4205, 2)"
      ]
     },
     "execution_count": 32,
     "metadata": {},
     "output_type": "execute_result"
    }
   ],
   "source": [
    "model_data_labels0_not_completed_unique[['person','offer_id']].drop_duplicates().shape"
   ]
  },
  {
   "cell_type": "code",
   "execution_count": 33,
   "metadata": {},
   "outputs": [
    {
     "name": "stdout",
     "output_type": "stream",
     "text": [
      "<class 'pandas.core.frame.DataFrame'>\n",
      "Int64Index: 54905 entries, 0 to 54904\n",
      "Data columns (total 8 columns):\n",
      "person             54905 non-null object\n",
      "time               54905 non-null int64\n",
      "offer_id           54905 non-null object\n",
      "label              54905 non-null int64\n",
      "duration           54905 non-null int64\n",
      "label_completed    0 non-null float64\n",
      "person_right       5327 non-null object\n",
      "offer_id_right     5327 non-null object\n",
      "dtypes: float64(1), int64(3), object(4)\n",
      "memory usage: 3.8+ MB\n"
     ]
    }
   ],
   "source": [
    "model_data_labels0_not_completed_unique = model_data_labels0_not_completed_unique[['person','offer_id']].\\\n",
    "rename(columns = {'person' : 'person_right',\n",
    "                  'offer_id' : 'offer_id_right'})\n",
    "model_data_labels0 = pd.merge(model_data_labels0,\n",
    "                              model_data_labels0_not_completed_unique[['person_right','offer_id_right']],\n",
    "                              how = 'left', left_on = ['person','offer_id'],\n",
    "                              right_on = ['person_right','offer_id_right'])\n",
    "\n",
    "model_data_labels0.info()"
   ]
  },
  {
   "cell_type": "code",
   "execution_count": 34,
   "metadata": {},
   "outputs": [],
   "source": [
    "model_data_labels0 = model_data_labels0[(model_data_labels0['person_right'].isnull())].reset_index(drop = True).copy()\n",
    "model_data_labels0 = model_data_labels0[['person','offer_id','time']]"
   ]
  },
  {
   "cell_type": "code",
   "execution_count": 35,
   "metadata": {},
   "outputs": [],
   "source": [
    "# model_data_labels0_not_completed_unique['time_diff'] = model_data_labels0_not_completed_unique['time_right'] - model_data_labels0_not_completed_unique['time']\n",
    "# model_data_labels0_not_completed_unique = model_data_labels0_not_completed_unique[model_data_labels0_not_completed_unique['time_diff'] <= model_data_labels0_not_completed_unique['duration'] * 24].copy().reset_index(drop = True)\n"
   ]
  },
  {
   "cell_type": "code",
   "execution_count": 36,
   "metadata": {},
   "outputs": [],
   "source": [
    "model_data_labels0_unique = model_data_labels0.groupby(['person','offer_id'],as_index = False)['time'].max()\n",
    "model_data_labels0_unique['label'] = 0"
   ]
  },
  {
   "cell_type": "code",
   "execution_count": 37,
   "metadata": {},
   "outputs": [],
   "source": [
    "final_data = pd.concat([model_data_labels0_unique,\n",
    "                        model_data_labels[model_data_labels['label'] == 1][['person','offer_id','time','label']]],\n",
    "                       ignore_index = True)"
   ]
  },
  {
   "cell_type": "code",
   "execution_count": 38,
   "metadata": {},
   "outputs": [
    {
     "name": "stdout",
     "output_type": "stream",
     "text": [
      "<class 'pandas.core.frame.DataFrame'>\n",
      "RangeIndex: 64481 entries, 0 to 64480\n",
      "Data columns (total 4 columns):\n",
      "person      64481 non-null object\n",
      "offer_id    64481 non-null object\n",
      "time        64481 non-null int64\n",
      "label       64481 non-null int64\n",
      "dtypes: int64(2), object(2)\n",
      "memory usage: 2.0+ MB\n"
     ]
    }
   ],
   "source": [
    "final_data.info()"
   ]
  },
  {
   "cell_type": "code",
   "execution_count": 39,
   "metadata": {},
   "outputs": [],
   "source": [
    "final_data = final_data.drop_duplicates(subset = ['person','offer_id'],keep = 'last').reset_index(drop = True)"
   ]
  },
  {
   "cell_type": "code",
   "execution_count": 40,
   "metadata": {},
   "outputs": [
    {
     "name": "stdout",
     "output_type": "stream",
     "text": [
      "<class 'pandas.core.frame.DataFrame'>\n",
      "RangeIndex: 59083 entries, 0 to 59082\n",
      "Data columns (total 4 columns):\n",
      "person      59083 non-null object\n",
      "offer_id    59083 non-null object\n",
      "time        59083 non-null int64\n",
      "label       59083 non-null int64\n",
      "dtypes: int64(2), object(2)\n",
      "memory usage: 1.8+ MB\n"
     ]
    }
   ],
   "source": [
    "final_data.info()"
   ]
  },
  {
   "cell_type": "code",
   "execution_count": 41,
   "metadata": {},
   "outputs": [
    {
     "data": {
      "text/plain": [
       "59083"
      ]
     },
     "execution_count": 41,
     "metadata": {},
     "output_type": "execute_result"
    }
   ],
   "source": [
    "63288 - 4205"
   ]
  },
  {
   "cell_type": "code",
   "execution_count": 42,
   "metadata": {},
   "outputs": [
    {
     "data": {
      "text/plain": [
       "0    37711\n",
       "1    21372\n",
       "Name: label, dtype: int64"
      ]
     },
     "execution_count": 42,
     "metadata": {},
     "output_type": "execute_result"
    }
   ],
   "source": [
    "final_data['label'].value_counts()"
   ]
  },
  {
   "cell_type": "code",
   "execution_count": 43,
   "metadata": {},
   "outputs": [
    {
     "data": {
      "text/plain": [
       "576"
      ]
     },
     "execution_count": 43,
     "metadata": {},
     "output_type": "execute_result"
    }
   ],
   "source": [
    "final_data['time'].max()"
   ]
  },
  {
   "cell_type": "code",
   "execution_count": 44,
   "metadata": {},
   "outputs": [
    {
     "data": {
      "text/plain": [
       "24.0"
      ]
     },
     "execution_count": 44,
     "metadata": {},
     "output_type": "execute_result"
    }
   ],
   "source": [
    "576/24"
   ]
  },
  {
   "cell_type": "code",
   "execution_count": 45,
   "metadata": {},
   "outputs": [
    {
     "data": {
      "text/plain": [
       "(18035, 5)"
      ]
     },
     "execution_count": 45,
     "metadata": {},
     "output_type": "execute_result"
    }
   ],
   "source": [
    "final_data['day'] = final_data['time']/24\n",
    "final_data[final_data['day'] > 20].shape"
   ]
  },
  {
   "cell_type": "code",
   "execution_count": 46,
   "metadata": {},
   "outputs": [
    {
     "data": {
      "text/plain": [
       "0.35140942990772345"
      ]
     },
     "execution_count": 46,
     "metadata": {},
     "output_type": "execute_result"
    }
   ],
   "source": [
    "22240/63288"
   ]
  },
  {
   "cell_type": "code",
   "execution_count": 47,
   "metadata": {},
   "outputs": [],
   "source": [
    "from sklearn.model_selection import train_test_split\n",
    "y=final_data['label']\n",
    "df_train,df_test=train_test_split(final_data, test_size=0.33,random_state=0,stratify = y)"
   ]
  },
  {
   "cell_type": "code",
   "execution_count": 48,
   "metadata": {},
   "outputs": [
    {
     "data": {
      "text/html": [
       "<div>\n",
       "<style scoped>\n",
       "    .dataframe tbody tr th:only-of-type {\n",
       "        vertical-align: middle;\n",
       "    }\n",
       "\n",
       "    .dataframe tbody tr th {\n",
       "        vertical-align: top;\n",
       "    }\n",
       "\n",
       "    .dataframe thead th {\n",
       "        text-align: right;\n",
       "    }\n",
       "</style>\n",
       "<table border=\"1\" class=\"dataframe\">\n",
       "  <thead>\n",
       "    <tr style=\"text-align: right;\">\n",
       "      <th></th>\n",
       "      <th>person</th>\n",
       "      <th>offer_id</th>\n",
       "      <th>time</th>\n",
       "      <th>label</th>\n",
       "      <th>day</th>\n",
       "    </tr>\n",
       "  </thead>\n",
       "  <tbody>\n",
       "    <tr>\n",
       "      <th>45588</th>\n",
       "      <td>a5675e02cac04aefb87d21551a3dfa8c</td>\n",
       "      <td>fafdcd668e3743c1bb461111dcafc2a4</td>\n",
       "      <td>408</td>\n",
       "      <td>1</td>\n",
       "      <td>17.0</td>\n",
       "    </tr>\n",
       "    <tr>\n",
       "      <th>46913</th>\n",
       "      <td>5c29ee406ced442ca7fe5523b4160412</td>\n",
       "      <td>fafdcd668e3743c1bb461111dcafc2a4</td>\n",
       "      <td>576</td>\n",
       "      <td>1</td>\n",
       "      <td>24.0</td>\n",
       "    </tr>\n",
       "    <tr>\n",
       "      <th>15995</th>\n",
       "      <td>6cde0dadd1154cf89694618ce6f249da</td>\n",
       "      <td>0b1e1539f2cc45b7b9fa7c272da2e1d7</td>\n",
       "      <td>576</td>\n",
       "      <td>0</td>\n",
       "      <td>24.0</td>\n",
       "    </tr>\n",
       "    <tr>\n",
       "      <th>5703</th>\n",
       "      <td>28d2a4892f5b42c7afd7583c26fbfe21</td>\n",
       "      <td>5a8bc65990b245e5a138643cd4eb9837</td>\n",
       "      <td>336</td>\n",
       "      <td>0</td>\n",
       "      <td>14.0</td>\n",
       "    </tr>\n",
       "    <tr>\n",
       "      <th>20222</th>\n",
       "      <td>88f63e6b5de440cfa91a609403fc6993</td>\n",
       "      <td>9b98b8c7a33c4b65b9aebfe6a799e6d9</td>\n",
       "      <td>504</td>\n",
       "      <td>0</td>\n",
       "      <td>21.0</td>\n",
       "    </tr>\n",
       "  </tbody>\n",
       "</table>\n",
       "</div>"
      ],
      "text/plain": [
       "                                 person                          offer_id  \\\n",
       "45588  a5675e02cac04aefb87d21551a3dfa8c  fafdcd668e3743c1bb461111dcafc2a4   \n",
       "46913  5c29ee406ced442ca7fe5523b4160412  fafdcd668e3743c1bb461111dcafc2a4   \n",
       "15995  6cde0dadd1154cf89694618ce6f249da  0b1e1539f2cc45b7b9fa7c272da2e1d7   \n",
       "5703   28d2a4892f5b42c7afd7583c26fbfe21  5a8bc65990b245e5a138643cd4eb9837   \n",
       "20222  88f63e6b5de440cfa91a609403fc6993  9b98b8c7a33c4b65b9aebfe6a799e6d9   \n",
       "\n",
       "       time  label   day  \n",
       "45588   408      1  17.0  \n",
       "46913   576      1  24.0  \n",
       "15995   576      0  24.0  \n",
       "5703    336      0  14.0  \n",
       "20222   504      0  21.0  "
      ]
     },
     "execution_count": 48,
     "metadata": {},
     "output_type": "execute_result"
    }
   ],
   "source": [
    "df_test.head()"
   ]
  },
  {
   "cell_type": "code",
   "execution_count": 49,
   "metadata": {},
   "outputs": [
    {
     "data": {
      "text/plain": [
       "0    12445\n",
       "1     7053\n",
       "Name: label, dtype: int64"
      ]
     },
     "execution_count": 49,
     "metadata": {},
     "output_type": "execute_result"
    }
   ],
   "source": [
    "df_test['label'].value_counts()"
   ]
  },
  {
   "cell_type": "code",
   "execution_count": 2,
   "metadata": {},
   "outputs": [
    {
     "data": {
      "text/plain": [
       "0.6382705918555749"
      ]
     },
     "execution_count": 2,
     "metadata": {},
     "output_type": "execute_result"
    }
   ],
   "source": [
    "12445/(12445 + 7053)"
   ]
  },
  {
   "cell_type": "code",
   "execution_count": null,
   "metadata": {},
   "outputs": [],
   "source": [
    "final_data.to_csv('final_labelled_data.csv',encoding = 'utf-8',index = False)"
   ]
  },
  {
   "cell_type": "code",
   "execution_count": null,
   "metadata": {},
   "outputs": [],
   "source": []
  }
 ],
 "metadata": {
  "kernelspec": {
   "display_name": "Python 3",
   "language": "python",
   "name": "python3"
  },
  "language_info": {
   "codemirror_mode": {
    "name": "ipython",
    "version": 3
   },
   "file_extension": ".py",
   "mimetype": "text/x-python",
   "name": "python",
   "nbconvert_exporter": "python",
   "pygments_lexer": "ipython3",
   "version": "3.8.5"
  }
 },
 "nbformat": 4,
 "nbformat_minor": 2
}
