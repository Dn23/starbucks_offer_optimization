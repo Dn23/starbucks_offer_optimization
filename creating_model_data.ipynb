{
 "cells": [
  {
   "cell_type": "code",
   "execution_count": 1,
   "metadata": {},
   "outputs": [],
   "source": [
    "import pandas as pd\n",
    "import numpy as np\n",
    "from pathlib import Path\n",
    "import time\n",
    "import ml_utils\n",
    "import os.path\n",
    "import pickle\n",
    "import matplotlib.pyplot as plt\n",
    "import seaborn as sns\n",
    "import os\n",
    "%matplotlib inline"
   ]
  },
  {
   "cell_type": "code",
   "execution_count": 2,
   "metadata": {},
   "outputs": [],
   "source": [
    "# read in the json files\n",
    "portfolio = pd.read_json('data/portfolio.json', orient='records', lines=True)\n",
    "profile = pd.read_json('data/profile.json', orient='records', lines=True)\n",
    "transcript = pd.read_json('data/transcript.json', orient='records', lines=True)\n",
    "final_data = pd.read_csv('final_labelled_data.csv')"
   ]
  },
  {
   "cell_type": "code",
   "execution_count": 3,
   "metadata": {},
   "outputs": [
    {
     "name": "stdout",
     "output_type": "stream",
     "text": [
      "<class 'pandas.core.frame.DataFrame'>\n",
      "RangeIndex: 306534 entries, 0 to 306533\n",
      "Data columns (total 4 columns):\n",
      " #   Column  Non-Null Count   Dtype \n",
      "---  ------  --------------   ----- \n",
      " 0   person  306534 non-null  object\n",
      " 1   event   306534 non-null  object\n",
      " 2   value   306534 non-null  object\n",
      " 3   time    306534 non-null  int64 \n",
      "dtypes: int64(1), object(3)\n",
      "memory usage: 9.4+ MB\n"
     ]
    }
   ],
   "source": [
    "transcript.info()"
   ]
  },
  {
   "cell_type": "code",
   "execution_count": 4,
   "metadata": {},
   "outputs": [],
   "source": [
    "offer_received = transcript[transcript['event'] == 'offer received'][['person','value','time']].\\\n",
    "copy().reset_index(drop = True)\n"
   ]
  },
  {
   "cell_type": "code",
   "execution_count": 5,
   "metadata": {},
   "outputs": [
    {
     "name": "stdout",
     "output_type": "stream",
     "text": [
      "<class 'pandas.core.frame.DataFrame'>\n",
      "RangeIndex: 76277 entries, 0 to 76276\n",
      "Data columns (total 3 columns):\n",
      " #   Column  Non-Null Count  Dtype \n",
      "---  ------  --------------  ----- \n",
      " 0   person  76277 non-null  object\n",
      " 1   value   76277 non-null  object\n",
      " 2   time    76277 non-null  int64 \n",
      "dtypes: int64(1), object(2)\n",
      "memory usage: 1.7+ MB\n"
     ]
    }
   ],
   "source": [
    "offer_received.info()"
   ]
  },
  {
   "cell_type": "code",
   "execution_count": 6,
   "metadata": {},
   "outputs": [
    {
     "name": "stdout",
     "output_type": "stream",
     "text": [
      "<class 'pandas.core.frame.DataFrame'>\n",
      "Int64Index: 76277 entries, 0 to 76276\n",
      "Data columns (total 2 columns):\n",
      " #   Column  Non-Null Count  Dtype \n",
      "---  ------  --------------  ----- \n",
      " 0   person  76277 non-null  object\n",
      " 1   time    76277 non-null  int64 \n",
      "dtypes: int64(1), object(1)\n",
      "memory usage: 1.7+ MB\n"
     ]
    }
   ],
   "source": [
    "offer_received[['person','time']].drop_duplicates().info()"
   ]
  },
  {
   "cell_type": "code",
   "execution_count": 7,
   "metadata": {},
   "outputs": [
    {
     "data": {
      "text/html": [
       "<div>\n",
       "<style scoped>\n",
       "    .dataframe tbody tr th:only-of-type {\n",
       "        vertical-align: middle;\n",
       "    }\n",
       "\n",
       "    .dataframe tbody tr th {\n",
       "        vertical-align: top;\n",
       "    }\n",
       "\n",
       "    .dataframe thead th {\n",
       "        text-align: right;\n",
       "    }\n",
       "</style>\n",
       "<table border=\"1\" class=\"dataframe\">\n",
       "  <thead>\n",
       "    <tr style=\"text-align: right;\">\n",
       "      <th></th>\n",
       "      <th>person</th>\n",
       "      <th>value</th>\n",
       "      <th>time</th>\n",
       "      <th>offer_id</th>\n",
       "    </tr>\n",
       "  </thead>\n",
       "  <tbody>\n",
       "    <tr>\n",
       "      <th>0</th>\n",
       "      <td>78afa995795e4d85b5d9ceeca43f5fef</td>\n",
       "      <td>{'offer id': '9b98b8c7a33c4b65b9aebfe6a799e6d9'}</td>\n",
       "      <td>0</td>\n",
       "      <td>9b98b8c7a33c4b65b9aebfe6a799e6d9</td>\n",
       "    </tr>\n",
       "    <tr>\n",
       "      <th>1</th>\n",
       "      <td>a03223e636434f42ac4c3df47e8bac43</td>\n",
       "      <td>{'offer id': '0b1e1539f2cc45b7b9fa7c272da2e1d7'}</td>\n",
       "      <td>0</td>\n",
       "      <td>0b1e1539f2cc45b7b9fa7c272da2e1d7</td>\n",
       "    </tr>\n",
       "    <tr>\n",
       "      <th>2</th>\n",
       "      <td>e2127556f4f64592b11af22de27a7932</td>\n",
       "      <td>{'offer id': '2906b810c7d4411798c6938adc9daaa5'}</td>\n",
       "      <td>0</td>\n",
       "      <td>2906b810c7d4411798c6938adc9daaa5</td>\n",
       "    </tr>\n",
       "    <tr>\n",
       "      <th>3</th>\n",
       "      <td>8ec6ce2a7e7949b1bf142def7d0e0586</td>\n",
       "      <td>{'offer id': 'fafdcd668e3743c1bb461111dcafc2a4'}</td>\n",
       "      <td>0</td>\n",
       "      <td>fafdcd668e3743c1bb461111dcafc2a4</td>\n",
       "    </tr>\n",
       "    <tr>\n",
       "      <th>4</th>\n",
       "      <td>68617ca6246f4fbc85e91a2a49552598</td>\n",
       "      <td>{'offer id': '4d5c57ea9a6940dd891ad53e9dbe8da0'}</td>\n",
       "      <td>0</td>\n",
       "      <td>4d5c57ea9a6940dd891ad53e9dbe8da0</td>\n",
       "    </tr>\n",
       "  </tbody>\n",
       "</table>\n",
       "</div>"
      ],
      "text/plain": [
       "                             person  \\\n",
       "0  78afa995795e4d85b5d9ceeca43f5fef   \n",
       "1  a03223e636434f42ac4c3df47e8bac43   \n",
       "2  e2127556f4f64592b11af22de27a7932   \n",
       "3  8ec6ce2a7e7949b1bf142def7d0e0586   \n",
       "4  68617ca6246f4fbc85e91a2a49552598   \n",
       "\n",
       "                                              value  time  \\\n",
       "0  {'offer id': '9b98b8c7a33c4b65b9aebfe6a799e6d9'}     0   \n",
       "1  {'offer id': '0b1e1539f2cc45b7b9fa7c272da2e1d7'}     0   \n",
       "2  {'offer id': '2906b810c7d4411798c6938adc9daaa5'}     0   \n",
       "3  {'offer id': 'fafdcd668e3743c1bb461111dcafc2a4'}     0   \n",
       "4  {'offer id': '4d5c57ea9a6940dd891ad53e9dbe8da0'}     0   \n",
       "\n",
       "                           offer_id  \n",
       "0  9b98b8c7a33c4b65b9aebfe6a799e6d9  \n",
       "1  0b1e1539f2cc45b7b9fa7c272da2e1d7  \n",
       "2  2906b810c7d4411798c6938adc9daaa5  \n",
       "3  fafdcd668e3743c1bb461111dcafc2a4  \n",
       "4  4d5c57ea9a6940dd891ad53e9dbe8da0  "
      ]
     },
     "execution_count": 7,
     "metadata": {},
     "output_type": "execute_result"
    }
   ],
   "source": [
    "offer_received['offer_id'] = offer_received['value'].apply(lambda x: x.get('offer id'))\n",
    "offer_received.head()"
   ]
  },
  {
   "cell_type": "code",
   "execution_count": 8,
   "metadata": {},
   "outputs": [],
   "source": [
    "portfolio.rename(columns = {'id' : 'offer_id'},inplace = True)\n",
    "offer_received = pd.merge(offer_received,portfolio[['offer_id','duration']],on = 'offer_id')"
   ]
  },
  {
   "cell_type": "code",
   "execution_count": 9,
   "metadata": {},
   "outputs": [
    {
     "data": {
      "text/html": [
       "<div>\n",
       "<style scoped>\n",
       "    .dataframe tbody tr th:only-of-type {\n",
       "        vertical-align: middle;\n",
       "    }\n",
       "\n",
       "    .dataframe tbody tr th {\n",
       "        vertical-align: top;\n",
       "    }\n",
       "\n",
       "    .dataframe thead th {\n",
       "        text-align: right;\n",
       "    }\n",
       "</style>\n",
       "<table border=\"1\" class=\"dataframe\">\n",
       "  <thead>\n",
       "    <tr style=\"text-align: right;\">\n",
       "      <th></th>\n",
       "      <th>person</th>\n",
       "      <th>value</th>\n",
       "      <th>time</th>\n",
       "      <th>offer_id</th>\n",
       "      <th>duration</th>\n",
       "    </tr>\n",
       "  </thead>\n",
       "  <tbody>\n",
       "    <tr>\n",
       "      <th>0</th>\n",
       "      <td>78afa995795e4d85b5d9ceeca43f5fef</td>\n",
       "      <td>{'offer id': '9b98b8c7a33c4b65b9aebfe6a799e6d9'}</td>\n",
       "      <td>0</td>\n",
       "      <td>9b98b8c7a33c4b65b9aebfe6a799e6d9</td>\n",
       "      <td>7</td>\n",
       "    </tr>\n",
       "    <tr>\n",
       "      <th>1</th>\n",
       "      <td>ebe7ef46ea6f4963a7dd49f501b26779</td>\n",
       "      <td>{'offer id': '9b98b8c7a33c4b65b9aebfe6a799e6d9'}</td>\n",
       "      <td>0</td>\n",
       "      <td>9b98b8c7a33c4b65b9aebfe6a799e6d9</td>\n",
       "      <td>7</td>\n",
       "    </tr>\n",
       "    <tr>\n",
       "      <th>2</th>\n",
       "      <td>f082d80f0aac47a99173ba8ef8fc1909</td>\n",
       "      <td>{'offer id': '9b98b8c7a33c4b65b9aebfe6a799e6d9'}</td>\n",
       "      <td>0</td>\n",
       "      <td>9b98b8c7a33c4b65b9aebfe6a799e6d9</td>\n",
       "      <td>7</td>\n",
       "    </tr>\n",
       "    <tr>\n",
       "      <th>3</th>\n",
       "      <td>c0d210398dee4a0895b24444a5fcd1d2</td>\n",
       "      <td>{'offer id': '9b98b8c7a33c4b65b9aebfe6a799e6d9'}</td>\n",
       "      <td>0</td>\n",
       "      <td>9b98b8c7a33c4b65b9aebfe6a799e6d9</td>\n",
       "      <td>7</td>\n",
       "    </tr>\n",
       "    <tr>\n",
       "      <th>4</th>\n",
       "      <td>57dd18ec5ddc46828afb81ec5977bef2</td>\n",
       "      <td>{'offer id': '9b98b8c7a33c4b65b9aebfe6a799e6d9'}</td>\n",
       "      <td>0</td>\n",
       "      <td>9b98b8c7a33c4b65b9aebfe6a799e6d9</td>\n",
       "      <td>7</td>\n",
       "    </tr>\n",
       "  </tbody>\n",
       "</table>\n",
       "</div>"
      ],
      "text/plain": [
       "                             person  \\\n",
       "0  78afa995795e4d85b5d9ceeca43f5fef   \n",
       "1  ebe7ef46ea6f4963a7dd49f501b26779   \n",
       "2  f082d80f0aac47a99173ba8ef8fc1909   \n",
       "3  c0d210398dee4a0895b24444a5fcd1d2   \n",
       "4  57dd18ec5ddc46828afb81ec5977bef2   \n",
       "\n",
       "                                              value  time  \\\n",
       "0  {'offer id': '9b98b8c7a33c4b65b9aebfe6a799e6d9'}     0   \n",
       "1  {'offer id': '9b98b8c7a33c4b65b9aebfe6a799e6d9'}     0   \n",
       "2  {'offer id': '9b98b8c7a33c4b65b9aebfe6a799e6d9'}     0   \n",
       "3  {'offer id': '9b98b8c7a33c4b65b9aebfe6a799e6d9'}     0   \n",
       "4  {'offer id': '9b98b8c7a33c4b65b9aebfe6a799e6d9'}     0   \n",
       "\n",
       "                           offer_id  duration  \n",
       "0  9b98b8c7a33c4b65b9aebfe6a799e6d9         7  \n",
       "1  9b98b8c7a33c4b65b9aebfe6a799e6d9         7  \n",
       "2  9b98b8c7a33c4b65b9aebfe6a799e6d9         7  \n",
       "3  9b98b8c7a33c4b65b9aebfe6a799e6d9         7  \n",
       "4  9b98b8c7a33c4b65b9aebfe6a799e6d9         7  "
      ]
     },
     "execution_count": 9,
     "metadata": {},
     "output_type": "execute_result"
    }
   ],
   "source": [
    "offer_received.head()"
   ]
  },
  {
   "cell_type": "code",
   "execution_count": 10,
   "metadata": {},
   "outputs": [
    {
     "data": {
      "text/html": [
       "<div>\n",
       "<style scoped>\n",
       "    .dataframe tbody tr th:only-of-type {\n",
       "        vertical-align: middle;\n",
       "    }\n",
       "\n",
       "    .dataframe tbody tr th {\n",
       "        vertical-align: top;\n",
       "    }\n",
       "\n",
       "    .dataframe thead th {\n",
       "        text-align: right;\n",
       "    }\n",
       "</style>\n",
       "<table border=\"1\" class=\"dataframe\">\n",
       "  <thead>\n",
       "    <tr style=\"text-align: right;\">\n",
       "      <th></th>\n",
       "      <th>person</th>\n",
       "      <th>value</th>\n",
       "      <th>time</th>\n",
       "      <th>offer_id</th>\n",
       "      <th>duration</th>\n",
       "      <th>time_max</th>\n",
       "    </tr>\n",
       "  </thead>\n",
       "  <tbody>\n",
       "    <tr>\n",
       "      <th>0</th>\n",
       "      <td>78afa995795e4d85b5d9ceeca43f5fef</td>\n",
       "      <td>{'offer id': '9b98b8c7a33c4b65b9aebfe6a799e6d9'}</td>\n",
       "      <td>0</td>\n",
       "      <td>9b98b8c7a33c4b65b9aebfe6a799e6d9</td>\n",
       "      <td>7</td>\n",
       "      <td>168</td>\n",
       "    </tr>\n",
       "    <tr>\n",
       "      <th>1</th>\n",
       "      <td>ebe7ef46ea6f4963a7dd49f501b26779</td>\n",
       "      <td>{'offer id': '9b98b8c7a33c4b65b9aebfe6a799e6d9'}</td>\n",
       "      <td>0</td>\n",
       "      <td>9b98b8c7a33c4b65b9aebfe6a799e6d9</td>\n",
       "      <td>7</td>\n",
       "      <td>168</td>\n",
       "    </tr>\n",
       "    <tr>\n",
       "      <th>2</th>\n",
       "      <td>f082d80f0aac47a99173ba8ef8fc1909</td>\n",
       "      <td>{'offer id': '9b98b8c7a33c4b65b9aebfe6a799e6d9'}</td>\n",
       "      <td>0</td>\n",
       "      <td>9b98b8c7a33c4b65b9aebfe6a799e6d9</td>\n",
       "      <td>7</td>\n",
       "      <td>168</td>\n",
       "    </tr>\n",
       "    <tr>\n",
       "      <th>3</th>\n",
       "      <td>c0d210398dee4a0895b24444a5fcd1d2</td>\n",
       "      <td>{'offer id': '9b98b8c7a33c4b65b9aebfe6a799e6d9'}</td>\n",
       "      <td>0</td>\n",
       "      <td>9b98b8c7a33c4b65b9aebfe6a799e6d9</td>\n",
       "      <td>7</td>\n",
       "      <td>168</td>\n",
       "    </tr>\n",
       "    <tr>\n",
       "      <th>4</th>\n",
       "      <td>57dd18ec5ddc46828afb81ec5977bef2</td>\n",
       "      <td>{'offer id': '9b98b8c7a33c4b65b9aebfe6a799e6d9'}</td>\n",
       "      <td>0</td>\n",
       "      <td>9b98b8c7a33c4b65b9aebfe6a799e6d9</td>\n",
       "      <td>7</td>\n",
       "      <td>168</td>\n",
       "    </tr>\n",
       "  </tbody>\n",
       "</table>\n",
       "</div>"
      ],
      "text/plain": [
       "                             person  \\\n",
       "0  78afa995795e4d85b5d9ceeca43f5fef   \n",
       "1  ebe7ef46ea6f4963a7dd49f501b26779   \n",
       "2  f082d80f0aac47a99173ba8ef8fc1909   \n",
       "3  c0d210398dee4a0895b24444a5fcd1d2   \n",
       "4  57dd18ec5ddc46828afb81ec5977bef2   \n",
       "\n",
       "                                              value  time  \\\n",
       "0  {'offer id': '9b98b8c7a33c4b65b9aebfe6a799e6d9'}     0   \n",
       "1  {'offer id': '9b98b8c7a33c4b65b9aebfe6a799e6d9'}     0   \n",
       "2  {'offer id': '9b98b8c7a33c4b65b9aebfe6a799e6d9'}     0   \n",
       "3  {'offer id': '9b98b8c7a33c4b65b9aebfe6a799e6d9'}     0   \n",
       "4  {'offer id': '9b98b8c7a33c4b65b9aebfe6a799e6d9'}     0   \n",
       "\n",
       "                           offer_id  duration  time_max  \n",
       "0  9b98b8c7a33c4b65b9aebfe6a799e6d9         7       168  \n",
       "1  9b98b8c7a33c4b65b9aebfe6a799e6d9         7       168  \n",
       "2  9b98b8c7a33c4b65b9aebfe6a799e6d9         7       168  \n",
       "3  9b98b8c7a33c4b65b9aebfe6a799e6d9         7       168  \n",
       "4  9b98b8c7a33c4b65b9aebfe6a799e6d9         7       168  "
      ]
     },
     "execution_count": 10,
     "metadata": {},
     "output_type": "execute_result"
    }
   ],
   "source": [
    "offer_received['time_max'] = offer_received['time'] + offer_received['duration'] * 24\n",
    "offer_received.head()"
   ]
  },
  {
   "cell_type": "code",
   "execution_count": 11,
   "metadata": {},
   "outputs": [
    {
     "name": "stdout",
     "output_type": "stream",
     "text": [
      "<class 'pandas.core.frame.DataFrame'>\n",
      "RangeIndex: 306534 entries, 0 to 306533\n",
      "Data columns (total 4 columns):\n",
      " #   Column  Non-Null Count   Dtype \n",
      "---  ------  --------------   ----- \n",
      " 0   person  306534 non-null  object\n",
      " 1   event   306534 non-null  object\n",
      " 2   value   306534 non-null  object\n",
      " 3   time    306534 non-null  int64 \n",
      "dtypes: int64(1), object(3)\n",
      "memory usage: 9.4+ MB\n"
     ]
    }
   ],
   "source": [
    "transcript.info()"
   ]
  },
  {
   "cell_type": "code",
   "execution_count": null,
   "metadata": {},
   "outputs": [],
   "source": []
  },
  {
   "cell_type": "code",
   "execution_count": 12,
   "metadata": {},
   "outputs": [
    {
     "data": {
      "text/html": [
       "<div>\n",
       "<style scoped>\n",
       "    .dataframe tbody tr th:only-of-type {\n",
       "        vertical-align: middle;\n",
       "    }\n",
       "\n",
       "    .dataframe tbody tr th {\n",
       "        vertical-align: top;\n",
       "    }\n",
       "\n",
       "    .dataframe thead th {\n",
       "        text-align: right;\n",
       "    }\n",
       "</style>\n",
       "<table border=\"1\" class=\"dataframe\">\n",
       "  <thead>\n",
       "    <tr style=\"text-align: right;\">\n",
       "      <th></th>\n",
       "      <th>person</th>\n",
       "      <th>event</th>\n",
       "      <th>value</th>\n",
       "      <th>time</th>\n",
       "    </tr>\n",
       "  </thead>\n",
       "  <tbody>\n",
       "    <tr>\n",
       "      <th>0</th>\n",
       "      <td>78afa995795e4d85b5d9ceeca43f5fef</td>\n",
       "      <td>offer received</td>\n",
       "      <td>{'offer id': '9b98b8c7a33c4b65b9aebfe6a799e6d9'}</td>\n",
       "      <td>0</td>\n",
       "    </tr>\n",
       "    <tr>\n",
       "      <th>1</th>\n",
       "      <td>a03223e636434f42ac4c3df47e8bac43</td>\n",
       "      <td>offer received</td>\n",
       "      <td>{'offer id': '0b1e1539f2cc45b7b9fa7c272da2e1d7'}</td>\n",
       "      <td>0</td>\n",
       "    </tr>\n",
       "    <tr>\n",
       "      <th>2</th>\n",
       "      <td>e2127556f4f64592b11af22de27a7932</td>\n",
       "      <td>offer received</td>\n",
       "      <td>{'offer id': '2906b810c7d4411798c6938adc9daaa5'}</td>\n",
       "      <td>0</td>\n",
       "    </tr>\n",
       "    <tr>\n",
       "      <th>3</th>\n",
       "      <td>8ec6ce2a7e7949b1bf142def7d0e0586</td>\n",
       "      <td>offer received</td>\n",
       "      <td>{'offer id': 'fafdcd668e3743c1bb461111dcafc2a4'}</td>\n",
       "      <td>0</td>\n",
       "    </tr>\n",
       "    <tr>\n",
       "      <th>4</th>\n",
       "      <td>68617ca6246f4fbc85e91a2a49552598</td>\n",
       "      <td>offer received</td>\n",
       "      <td>{'offer id': '4d5c57ea9a6940dd891ad53e9dbe8da0'}</td>\n",
       "      <td>0</td>\n",
       "    </tr>\n",
       "  </tbody>\n",
       "</table>\n",
       "</div>"
      ],
      "text/plain": [
       "                             person           event  \\\n",
       "0  78afa995795e4d85b5d9ceeca43f5fef  offer received   \n",
       "1  a03223e636434f42ac4c3df47e8bac43  offer received   \n",
       "2  e2127556f4f64592b11af22de27a7932  offer received   \n",
       "3  8ec6ce2a7e7949b1bf142def7d0e0586  offer received   \n",
       "4  68617ca6246f4fbc85e91a2a49552598  offer received   \n",
       "\n",
       "                                              value  time  \n",
       "0  {'offer id': '9b98b8c7a33c4b65b9aebfe6a799e6d9'}     0  \n",
       "1  {'offer id': '0b1e1539f2cc45b7b9fa7c272da2e1d7'}     0  \n",
       "2  {'offer id': '2906b810c7d4411798c6938adc9daaa5'}     0  \n",
       "3  {'offer id': 'fafdcd668e3743c1bb461111dcafc2a4'}     0  \n",
       "4  {'offer id': '4d5c57ea9a6940dd891ad53e9dbe8da0'}     0  "
      ]
     },
     "execution_count": 12,
     "metadata": {},
     "output_type": "execute_result"
    }
   ],
   "source": [
    "transcript.head()"
   ]
  },
  {
   "cell_type": "code",
   "execution_count": 13,
   "metadata": {},
   "outputs": [
    {
     "name": "stdout",
     "output_type": "stream",
     "text": [
      "<class 'pandas.core.frame.DataFrame'>\n",
      "RangeIndex: 306534 entries, 0 to 306533\n",
      "Data columns (total 4 columns):\n",
      " #   Column  Non-Null Count   Dtype \n",
      "---  ------  --------------   ----- \n",
      " 0   person  306534 non-null  object\n",
      " 1   event   306534 non-null  object\n",
      " 2   value   306534 non-null  object\n",
      " 3   time    306534 non-null  int64 \n",
      "dtypes: int64(1), object(3)\n",
      "memory usage: 9.4+ MB\n"
     ]
    }
   ],
   "source": [
    "transcript.info()"
   ]
  },
  {
   "cell_type": "code",
   "execution_count": 14,
   "metadata": {},
   "outputs": [],
   "source": [
    "#transcript['value'] = transcript['value'].astype(str)"
   ]
  },
  {
   "cell_type": "code",
   "execution_count": 15,
   "metadata": {},
   "outputs": [],
   "source": [
    "transcript[\"id\"] = transcript.index + 1"
   ]
  },
  {
   "cell_type": "code",
   "execution_count": 16,
   "metadata": {},
   "outputs": [
    {
     "data": {
      "text/html": [
       "<div>\n",
       "<style scoped>\n",
       "    .dataframe tbody tr th:only-of-type {\n",
       "        vertical-align: middle;\n",
       "    }\n",
       "\n",
       "    .dataframe tbody tr th {\n",
       "        vertical-align: top;\n",
       "    }\n",
       "\n",
       "    .dataframe thead th {\n",
       "        text-align: right;\n",
       "    }\n",
       "</style>\n",
       "<table border=\"1\" class=\"dataframe\">\n",
       "  <thead>\n",
       "    <tr style=\"text-align: right;\">\n",
       "      <th></th>\n",
       "      <th>person</th>\n",
       "      <th>event</th>\n",
       "      <th>value</th>\n",
       "      <th>time</th>\n",
       "      <th>id</th>\n",
       "    </tr>\n",
       "  </thead>\n",
       "  <tbody>\n",
       "    <tr>\n",
       "      <th>0</th>\n",
       "      <td>78afa995795e4d85b5d9ceeca43f5fef</td>\n",
       "      <td>offer received</td>\n",
       "      <td>{'offer id': '9b98b8c7a33c4b65b9aebfe6a799e6d9'}</td>\n",
       "      <td>0</td>\n",
       "      <td>1</td>\n",
       "    </tr>\n",
       "    <tr>\n",
       "      <th>1</th>\n",
       "      <td>a03223e636434f42ac4c3df47e8bac43</td>\n",
       "      <td>offer received</td>\n",
       "      <td>{'offer id': '0b1e1539f2cc45b7b9fa7c272da2e1d7'}</td>\n",
       "      <td>0</td>\n",
       "      <td>2</td>\n",
       "    </tr>\n",
       "    <tr>\n",
       "      <th>2</th>\n",
       "      <td>e2127556f4f64592b11af22de27a7932</td>\n",
       "      <td>offer received</td>\n",
       "      <td>{'offer id': '2906b810c7d4411798c6938adc9daaa5'}</td>\n",
       "      <td>0</td>\n",
       "      <td>3</td>\n",
       "    </tr>\n",
       "    <tr>\n",
       "      <th>3</th>\n",
       "      <td>8ec6ce2a7e7949b1bf142def7d0e0586</td>\n",
       "      <td>offer received</td>\n",
       "      <td>{'offer id': 'fafdcd668e3743c1bb461111dcafc2a4'}</td>\n",
       "      <td>0</td>\n",
       "      <td>4</td>\n",
       "    </tr>\n",
       "    <tr>\n",
       "      <th>4</th>\n",
       "      <td>68617ca6246f4fbc85e91a2a49552598</td>\n",
       "      <td>offer received</td>\n",
       "      <td>{'offer id': '4d5c57ea9a6940dd891ad53e9dbe8da0'}</td>\n",
       "      <td>0</td>\n",
       "      <td>5</td>\n",
       "    </tr>\n",
       "  </tbody>\n",
       "</table>\n",
       "</div>"
      ],
      "text/plain": [
       "                             person           event  \\\n",
       "0  78afa995795e4d85b5d9ceeca43f5fef  offer received   \n",
       "1  a03223e636434f42ac4c3df47e8bac43  offer received   \n",
       "2  e2127556f4f64592b11af22de27a7932  offer received   \n",
       "3  8ec6ce2a7e7949b1bf142def7d0e0586  offer received   \n",
       "4  68617ca6246f4fbc85e91a2a49552598  offer received   \n",
       "\n",
       "                                              value  time  id  \n",
       "0  {'offer id': '9b98b8c7a33c4b65b9aebfe6a799e6d9'}     0   1  \n",
       "1  {'offer id': '0b1e1539f2cc45b7b9fa7c272da2e1d7'}     0   2  \n",
       "2  {'offer id': '2906b810c7d4411798c6938adc9daaa5'}     0   3  \n",
       "3  {'offer id': 'fafdcd668e3743c1bb461111dcafc2a4'}     0   4  \n",
       "4  {'offer id': '4d5c57ea9a6940dd891ad53e9dbe8da0'}     0   5  "
      ]
     },
     "execution_count": 16,
     "metadata": {},
     "output_type": "execute_result"
    }
   ],
   "source": [
    "transcript.head()"
   ]
  },
  {
   "cell_type": "code",
   "execution_count": 17,
   "metadata": {},
   "outputs": [
    {
     "name": "stdout",
     "output_type": "stream",
     "text": [
      "<class 'pandas.core.frame.DataFrame'>\n",
      "Int64Index: 303572 entries, 0 to 306533\n",
      "Data columns (total 3 columns):\n",
      " #   Column  Non-Null Count   Dtype \n",
      "---  ------  --------------   ----- \n",
      " 0   person  303572 non-null  object\n",
      " 1   time    303572 non-null  int64 \n",
      " 2   event   303572 non-null  object\n",
      "dtypes: int64(1), object(2)\n",
      "memory usage: 9.3+ MB\n"
     ]
    }
   ],
   "source": [
    "transcript[['person','time','event']].drop_duplicates().info()"
   ]
  },
  {
   "cell_type": "code",
   "execution_count": 18,
   "metadata": {},
   "outputs": [
    {
     "data": {
      "text/plain": [
       "transaction        138953\n",
       "offer received      76277\n",
       "offer viewed        57725\n",
       "offer completed     33579\n",
       "Name: event, dtype: int64"
      ]
     },
     "execution_count": 18,
     "metadata": {},
     "output_type": "execute_result"
    }
   ],
   "source": [
    "transcript['event'].value_counts()"
   ]
  },
  {
   "cell_type": "code",
   "execution_count": 19,
   "metadata": {},
   "outputs": [
    {
     "data": {
      "text/html": [
       "<div>\n",
       "<style scoped>\n",
       "    .dataframe tbody tr th:only-of-type {\n",
       "        vertical-align: middle;\n",
       "    }\n",
       "\n",
       "    .dataframe tbody tr th {\n",
       "        vertical-align: top;\n",
       "    }\n",
       "\n",
       "    .dataframe thead th {\n",
       "        text-align: right;\n",
       "    }\n",
       "</style>\n",
       "<table border=\"1\" class=\"dataframe\">\n",
       "  <thead>\n",
       "    <tr style=\"text-align: right;\">\n",
       "      <th></th>\n",
       "      <th>person</th>\n",
       "      <th>event</th>\n",
       "      <th>value</th>\n",
       "      <th>time</th>\n",
       "      <th>id</th>\n",
       "      <th>transaction_flag</th>\n",
       "      <th>offer_rflag</th>\n",
       "      <th>offer_vflag</th>\n",
       "      <th>offer_cflag</th>\n",
       "    </tr>\n",
       "  </thead>\n",
       "  <tbody>\n",
       "    <tr>\n",
       "      <th>0</th>\n",
       "      <td>78afa995795e4d85b5d9ceeca43f5fef</td>\n",
       "      <td>offer received</td>\n",
       "      <td>{'offer id': '9b98b8c7a33c4b65b9aebfe6a799e6d9'}</td>\n",
       "      <td>0</td>\n",
       "      <td>1</td>\n",
       "      <td>0</td>\n",
       "      <td>1</td>\n",
       "      <td>0</td>\n",
       "      <td>0</td>\n",
       "    </tr>\n",
       "    <tr>\n",
       "      <th>1</th>\n",
       "      <td>a03223e636434f42ac4c3df47e8bac43</td>\n",
       "      <td>offer received</td>\n",
       "      <td>{'offer id': '0b1e1539f2cc45b7b9fa7c272da2e1d7'}</td>\n",
       "      <td>0</td>\n",
       "      <td>2</td>\n",
       "      <td>0</td>\n",
       "      <td>1</td>\n",
       "      <td>0</td>\n",
       "      <td>0</td>\n",
       "    </tr>\n",
       "    <tr>\n",
       "      <th>2</th>\n",
       "      <td>e2127556f4f64592b11af22de27a7932</td>\n",
       "      <td>offer received</td>\n",
       "      <td>{'offer id': '2906b810c7d4411798c6938adc9daaa5'}</td>\n",
       "      <td>0</td>\n",
       "      <td>3</td>\n",
       "      <td>0</td>\n",
       "      <td>1</td>\n",
       "      <td>0</td>\n",
       "      <td>0</td>\n",
       "    </tr>\n",
       "    <tr>\n",
       "      <th>3</th>\n",
       "      <td>8ec6ce2a7e7949b1bf142def7d0e0586</td>\n",
       "      <td>offer received</td>\n",
       "      <td>{'offer id': 'fafdcd668e3743c1bb461111dcafc2a4'}</td>\n",
       "      <td>0</td>\n",
       "      <td>4</td>\n",
       "      <td>0</td>\n",
       "      <td>1</td>\n",
       "      <td>0</td>\n",
       "      <td>0</td>\n",
       "    </tr>\n",
       "    <tr>\n",
       "      <th>4</th>\n",
       "      <td>68617ca6246f4fbc85e91a2a49552598</td>\n",
       "      <td>offer received</td>\n",
       "      <td>{'offer id': '4d5c57ea9a6940dd891ad53e9dbe8da0'}</td>\n",
       "      <td>0</td>\n",
       "      <td>5</td>\n",
       "      <td>0</td>\n",
       "      <td>1</td>\n",
       "      <td>0</td>\n",
       "      <td>0</td>\n",
       "    </tr>\n",
       "  </tbody>\n",
       "</table>\n",
       "</div>"
      ],
      "text/plain": [
       "                             person           event  \\\n",
       "0  78afa995795e4d85b5d9ceeca43f5fef  offer received   \n",
       "1  a03223e636434f42ac4c3df47e8bac43  offer received   \n",
       "2  e2127556f4f64592b11af22de27a7932  offer received   \n",
       "3  8ec6ce2a7e7949b1bf142def7d0e0586  offer received   \n",
       "4  68617ca6246f4fbc85e91a2a49552598  offer received   \n",
       "\n",
       "                                              value  time  id  \\\n",
       "0  {'offer id': '9b98b8c7a33c4b65b9aebfe6a799e6d9'}     0   1   \n",
       "1  {'offer id': '0b1e1539f2cc45b7b9fa7c272da2e1d7'}     0   2   \n",
       "2  {'offer id': '2906b810c7d4411798c6938adc9daaa5'}     0   3   \n",
       "3  {'offer id': 'fafdcd668e3743c1bb461111dcafc2a4'}     0   4   \n",
       "4  {'offer id': '4d5c57ea9a6940dd891ad53e9dbe8da0'}     0   5   \n",
       "\n",
       "   transaction_flag  offer_rflag  offer_vflag  offer_cflag  \n",
       "0                 0            1            0            0  \n",
       "1                 0            1            0            0  \n",
       "2                 0            1            0            0  \n",
       "3                 0            1            0            0  \n",
       "4                 0            1            0            0  "
      ]
     },
     "execution_count": 19,
     "metadata": {},
     "output_type": "execute_result"
    }
   ],
   "source": [
    "transcript['transaction_flag'] = np.where(transcript['event'] == 'transaction',1,0)\n",
    "transcript['offer_rflag'] = np.where(transcript['event'] == 'offer received',1,0)\n",
    "transcript['offer_vflag'] = np.where(transcript['event'] == 'offer viewed',1,0)\n",
    "transcript['offer_cflag'] = np.where(transcript['event'] == 'offer completed',1,0)\n",
    "transcript.head()"
   ]
  },
  {
   "cell_type": "code",
   "execution_count": 20,
   "metadata": {},
   "outputs": [],
   "source": [
    "transcript['amount'] = transcript['value'].apply(lambda x: x.get('amount'))\n",
    "transcript['amount'] = np.where(transcript['transaction_flag'] == 1,transcript['amount'],0)"
   ]
  },
  {
   "cell_type": "code",
   "execution_count": 21,
   "metadata": {},
   "outputs": [
    {
     "data": {
      "text/html": [
       "<div>\n",
       "<style scoped>\n",
       "    .dataframe tbody tr th:only-of-type {\n",
       "        vertical-align: middle;\n",
       "    }\n",
       "\n",
       "    .dataframe tbody tr th {\n",
       "        vertical-align: top;\n",
       "    }\n",
       "\n",
       "    .dataframe thead th {\n",
       "        text-align: right;\n",
       "    }\n",
       "</style>\n",
       "<table border=\"1\" class=\"dataframe\">\n",
       "  <thead>\n",
       "    <tr style=\"text-align: right;\">\n",
       "      <th></th>\n",
       "      <th>person</th>\n",
       "      <th>event</th>\n",
       "      <th>value</th>\n",
       "      <th>time</th>\n",
       "      <th>id</th>\n",
       "      <th>transaction_flag</th>\n",
       "      <th>offer_rflag</th>\n",
       "      <th>offer_vflag</th>\n",
       "      <th>offer_cflag</th>\n",
       "      <th>amount</th>\n",
       "    </tr>\n",
       "  </thead>\n",
       "  <tbody>\n",
       "    <tr>\n",
       "      <th>0</th>\n",
       "      <td>78afa995795e4d85b5d9ceeca43f5fef</td>\n",
       "      <td>offer received</td>\n",
       "      <td>{'offer id': '9b98b8c7a33c4b65b9aebfe6a799e6d9'}</td>\n",
       "      <td>0</td>\n",
       "      <td>1</td>\n",
       "      <td>0</td>\n",
       "      <td>1</td>\n",
       "      <td>0</td>\n",
       "      <td>0</td>\n",
       "      <td>0.0</td>\n",
       "    </tr>\n",
       "    <tr>\n",
       "      <th>1</th>\n",
       "      <td>a03223e636434f42ac4c3df47e8bac43</td>\n",
       "      <td>offer received</td>\n",
       "      <td>{'offer id': '0b1e1539f2cc45b7b9fa7c272da2e1d7'}</td>\n",
       "      <td>0</td>\n",
       "      <td>2</td>\n",
       "      <td>0</td>\n",
       "      <td>1</td>\n",
       "      <td>0</td>\n",
       "      <td>0</td>\n",
       "      <td>0.0</td>\n",
       "    </tr>\n",
       "    <tr>\n",
       "      <th>2</th>\n",
       "      <td>e2127556f4f64592b11af22de27a7932</td>\n",
       "      <td>offer received</td>\n",
       "      <td>{'offer id': '2906b810c7d4411798c6938adc9daaa5'}</td>\n",
       "      <td>0</td>\n",
       "      <td>3</td>\n",
       "      <td>0</td>\n",
       "      <td>1</td>\n",
       "      <td>0</td>\n",
       "      <td>0</td>\n",
       "      <td>0.0</td>\n",
       "    </tr>\n",
       "    <tr>\n",
       "      <th>3</th>\n",
       "      <td>8ec6ce2a7e7949b1bf142def7d0e0586</td>\n",
       "      <td>offer received</td>\n",
       "      <td>{'offer id': 'fafdcd668e3743c1bb461111dcafc2a4'}</td>\n",
       "      <td>0</td>\n",
       "      <td>4</td>\n",
       "      <td>0</td>\n",
       "      <td>1</td>\n",
       "      <td>0</td>\n",
       "      <td>0</td>\n",
       "      <td>0.0</td>\n",
       "    </tr>\n",
       "    <tr>\n",
       "      <th>4</th>\n",
       "      <td>68617ca6246f4fbc85e91a2a49552598</td>\n",
       "      <td>offer received</td>\n",
       "      <td>{'offer id': '4d5c57ea9a6940dd891ad53e9dbe8da0'}</td>\n",
       "      <td>0</td>\n",
       "      <td>5</td>\n",
       "      <td>0</td>\n",
       "      <td>1</td>\n",
       "      <td>0</td>\n",
       "      <td>0</td>\n",
       "      <td>0.0</td>\n",
       "    </tr>\n",
       "  </tbody>\n",
       "</table>\n",
       "</div>"
      ],
      "text/plain": [
       "                             person           event  \\\n",
       "0  78afa995795e4d85b5d9ceeca43f5fef  offer received   \n",
       "1  a03223e636434f42ac4c3df47e8bac43  offer received   \n",
       "2  e2127556f4f64592b11af22de27a7932  offer received   \n",
       "3  8ec6ce2a7e7949b1bf142def7d0e0586  offer received   \n",
       "4  68617ca6246f4fbc85e91a2a49552598  offer received   \n",
       "\n",
       "                                              value  time  id  \\\n",
       "0  {'offer id': '9b98b8c7a33c4b65b9aebfe6a799e6d9'}     0   1   \n",
       "1  {'offer id': '0b1e1539f2cc45b7b9fa7c272da2e1d7'}     0   2   \n",
       "2  {'offer id': '2906b810c7d4411798c6938adc9daaa5'}     0   3   \n",
       "3  {'offer id': 'fafdcd668e3743c1bb461111dcafc2a4'}     0   4   \n",
       "4  {'offer id': '4d5c57ea9a6940dd891ad53e9dbe8da0'}     0   5   \n",
       "\n",
       "   transaction_flag  offer_rflag  offer_vflag  offer_cflag  amount  \n",
       "0                 0            1            0            0     0.0  \n",
       "1                 0            1            0            0     0.0  \n",
       "2                 0            1            0            0     0.0  \n",
       "3                 0            1            0            0     0.0  \n",
       "4                 0            1            0            0     0.0  "
      ]
     },
     "execution_count": 21,
     "metadata": {},
     "output_type": "execute_result"
    }
   ],
   "source": [
    "transcript.head()"
   ]
  },
  {
   "cell_type": "code",
   "execution_count": 22,
   "metadata": {},
   "outputs": [
    {
     "data": {
      "text/plain": [
       "1062.28"
      ]
     },
     "execution_count": 22,
     "metadata": {},
     "output_type": "execute_result"
    }
   ],
   "source": [
    "transcript['amount'].max()"
   ]
  },
  {
   "cell_type": "code",
   "execution_count": 23,
   "metadata": {},
   "outputs": [
    {
     "name": "stdout",
     "output_type": "stream",
     "text": [
      "<class 'pandas.core.frame.DataFrame'>\n",
      "Int64Index: 306534 entries, 0 to 306533\n",
      "Data columns (total 11 columns):\n",
      " #   Column                  Non-Null Count   Dtype  \n",
      "---  ------                  --------------   -----  \n",
      " 0   person                  306534 non-null  object \n",
      " 1   event                   306534 non-null  object \n",
      " 2   value                   306534 non-null  object \n",
      " 3   time                    306534 non-null  int64  \n",
      " 4   id                      306534 non-null  int64  \n",
      " 5   transaction_flag        306534 non-null  int64  \n",
      " 6   offer_rflag             306534 non-null  int64  \n",
      " 7   offer_vflag             306534 non-null  int64  \n",
      " 8   offer_cflag             306534 non-null  int64  \n",
      " 9   amount                  306534 non-null  float64\n",
      " 10  transaction_offer_flag  306534 non-null  int64  \n",
      "dtypes: float64(1), int64(7), object(3)\n",
      "memory usage: 28.1+ MB\n"
     ]
    }
   ],
   "source": [
    "#transaction_offer_flag\n",
    "id_join = pd.merge(transcript,\n",
    "                      offer_received[['person','time','time_max']].rename(columns = {'time' : 'time_min'}),\n",
    "                      how = 'left',on = 'person')\n",
    "id_join['transaction_offer_flag'] = np.where((id_join['time'] <= id_join['time_max']) & \n",
    "                                               (id_join['time'] >= id_join['time_min']),\n",
    "                                               1,0)\n",
    "id_join['transaction_offer_flag'] = np.where((id_join['event'] == 'transaction') & \n",
    "                                                (id_join['transaction_offer_flag'] == 1)\n",
    "                                                ,1,0)\n",
    "id_join = id_join.groupby('id',as_index = False)['transaction_offer_flag'].max()\n",
    "transcript = pd.merge(transcript,id_join, on = 'id')\n",
    "transcript.info()"
   ]
  },
  {
   "cell_type": "code",
   "execution_count": 24,
   "metadata": {},
   "outputs": [
    {
     "data": {
      "text/plain": [
       "0.0"
      ]
     },
     "execution_count": 24,
     "metadata": {},
     "output_type": "execute_result"
    }
   ],
   "source": [
    "transcript['amount_offer'] = np.where(transcript['transaction_offer_flag'] == 1,\n",
    "                                     transcript['amount'],0)\n",
    "transcript['amount_offer'].min()"
   ]
  },
  {
   "cell_type": "code",
   "execution_count": 25,
   "metadata": {},
   "outputs": [
    {
     "data": {
      "text/plain": [
       "1    121863\n",
       "0     17090\n",
       "Name: transaction_offer_flag, dtype: int64"
      ]
     },
     "execution_count": 25,
     "metadata": {},
     "output_type": "execute_result"
    }
   ],
   "source": [
    "transcript[transcript['event'] == 'transaction']['transaction_offer_flag'].value_counts()"
   ]
  },
  {
   "cell_type": "code",
   "execution_count": 26,
   "metadata": {},
   "outputs": [
    {
     "name": "stdout",
     "output_type": "stream",
     "text": [
      "<class 'pandas.core.frame.DataFrame'>\n",
      "Int64Index: 303572 entries, 0 to 306533\n",
      "Data columns (total 5 columns):\n",
      " #   Column                  Non-Null Count   Dtype  \n",
      "---  ------                  --------------   -----  \n",
      " 0   event                   303572 non-null  object \n",
      " 1   person                  303572 non-null  object \n",
      " 2   time                    303572 non-null  int64  \n",
      " 3   amount                  303572 non-null  float64\n",
      " 4   transaction_offer_flag  303572 non-null  int64  \n",
      "dtypes: float64(1), int64(2), object(2)\n",
      "memory usage: 13.9+ MB\n"
     ]
    }
   ],
   "source": [
    "transcript[['event','person','time','amount','transaction_offer_flag']].drop_duplicates().info()"
   ]
  },
  {
   "cell_type": "code",
   "execution_count": 27,
   "metadata": {},
   "outputs": [
    {
     "data": {
      "text/html": [
       "<div>\n",
       "<style scoped>\n",
       "    .dataframe tbody tr th:only-of-type {\n",
       "        vertical-align: middle;\n",
       "    }\n",
       "\n",
       "    .dataframe tbody tr th {\n",
       "        vertical-align: top;\n",
       "    }\n",
       "\n",
       "    .dataframe thead th {\n",
       "        text-align: right;\n",
       "    }\n",
       "</style>\n",
       "<table border=\"1\" class=\"dataframe\">\n",
       "  <thead>\n",
       "    <tr style=\"text-align: right;\">\n",
       "      <th></th>\n",
       "      <th>person</th>\n",
       "      <th>offer_id</th>\n",
       "      <th>time</th>\n",
       "      <th>label</th>\n",
       "      <th>day</th>\n",
       "    </tr>\n",
       "  </thead>\n",
       "  <tbody>\n",
       "    <tr>\n",
       "      <th>0</th>\n",
       "      <td>0009655768c64bdeb2e877511632db8f</td>\n",
       "      <td>2906b810c7d4411798c6938adc9daaa5</td>\n",
       "      <td>576</td>\n",
       "      <td>0</td>\n",
       "      <td>24.0</td>\n",
       "    </tr>\n",
       "    <tr>\n",
       "      <th>1</th>\n",
       "      <td>0009655768c64bdeb2e877511632db8f</td>\n",
       "      <td>3f207df678b143eea3cee63160fa8bed</td>\n",
       "      <td>336</td>\n",
       "      <td>0</td>\n",
       "      <td>14.0</td>\n",
       "    </tr>\n",
       "    <tr>\n",
       "      <th>2</th>\n",
       "      <td>0009655768c64bdeb2e877511632db8f</td>\n",
       "      <td>5a8bc65990b245e5a138643cd4eb9837</td>\n",
       "      <td>168</td>\n",
       "      <td>0</td>\n",
       "      <td>7.0</td>\n",
       "    </tr>\n",
       "    <tr>\n",
       "      <th>3</th>\n",
       "      <td>0009655768c64bdeb2e877511632db8f</td>\n",
       "      <td>f19421c1d4aa40978ebb69ca19b0e20d</td>\n",
       "      <td>408</td>\n",
       "      <td>0</td>\n",
       "      <td>17.0</td>\n",
       "    </tr>\n",
       "    <tr>\n",
       "      <th>4</th>\n",
       "      <td>0009655768c64bdeb2e877511632db8f</td>\n",
       "      <td>fafdcd668e3743c1bb461111dcafc2a4</td>\n",
       "      <td>504</td>\n",
       "      <td>0</td>\n",
       "      <td>21.0</td>\n",
       "    </tr>\n",
       "  </tbody>\n",
       "</table>\n",
       "</div>"
      ],
      "text/plain": [
       "                             person                          offer_id  time  \\\n",
       "0  0009655768c64bdeb2e877511632db8f  2906b810c7d4411798c6938adc9daaa5   576   \n",
       "1  0009655768c64bdeb2e877511632db8f  3f207df678b143eea3cee63160fa8bed   336   \n",
       "2  0009655768c64bdeb2e877511632db8f  5a8bc65990b245e5a138643cd4eb9837   168   \n",
       "3  0009655768c64bdeb2e877511632db8f  f19421c1d4aa40978ebb69ca19b0e20d   408   \n",
       "4  0009655768c64bdeb2e877511632db8f  fafdcd668e3743c1bb461111dcafc2a4   504   \n",
       "\n",
       "   label   day  \n",
       "0      0  24.0  \n",
       "1      0  14.0  \n",
       "2      0   7.0  \n",
       "3      0  17.0  \n",
       "4      0  21.0  "
      ]
     },
     "execution_count": 27,
     "metadata": {},
     "output_type": "execute_result"
    }
   ],
   "source": [
    "final_data.head()"
   ]
  },
  {
   "cell_type": "code",
   "execution_count": 28,
   "metadata": {},
   "outputs": [
    {
     "name": "stdout",
     "output_type": "stream",
     "text": [
      "<class 'pandas.core.frame.DataFrame'>\n",
      "RangeIndex: 59083 entries, 0 to 59082\n",
      "Data columns (total 5 columns):\n",
      " #   Column    Non-Null Count  Dtype  \n",
      "---  ------    --------------  -----  \n",
      " 0   person    59083 non-null  object \n",
      " 1   offer_id  59083 non-null  object \n",
      " 2   time      59083 non-null  int64  \n",
      " 3   label     59083 non-null  int64  \n",
      " 4   day       59083 non-null  float64\n",
      "dtypes: float64(1), int64(2), object(2)\n",
      "memory usage: 2.3+ MB\n"
     ]
    }
   ],
   "source": [
    "final_data.info()"
   ]
  },
  {
   "cell_type": "code",
   "execution_count": 29,
   "metadata": {},
   "outputs": [
    {
     "name": "stdout",
     "output_type": "stream",
     "text": [
      "<class 'pandas.core.frame.DataFrame'>\n",
      "Int64Index: 59083 entries, 0 to 59082\n",
      "Data columns (total 2 columns):\n",
      " #   Column  Non-Null Count  Dtype \n",
      "---  ------  --------------  ----- \n",
      " 0   person  59083 non-null  object\n",
      " 1   time    59083 non-null  int64 \n",
      "dtypes: int64(1), object(1)\n",
      "memory usage: 1.4+ MB\n"
     ]
    }
   ],
   "source": [
    "\n",
    "final_data[['person','time']].drop_duplicates().info()"
   ]
  },
  {
   "cell_type": "code",
   "execution_count": 30,
   "metadata": {},
   "outputs": [
    {
     "name": "stdout",
     "output_type": "stream",
     "text": [
      "<class 'pandas.core.frame.DataFrame'>\n",
      "Int64Index: 59083 entries, 0 to 59082\n",
      "Data columns (total 2 columns):\n",
      " #   Column  Non-Null Count  Dtype  \n",
      "---  ------  --------------  -----  \n",
      " 0   person  59083 non-null  object \n",
      " 1   day     59083 non-null  float64\n",
      "dtypes: float64(1), object(1)\n",
      "memory usage: 1.4+ MB\n"
     ]
    }
   ],
   "source": [
    "final_data[['person','day']].drop_duplicates().info()"
   ]
  },
  {
   "cell_type": "code",
   "execution_count": 31,
   "metadata": {},
   "outputs": [],
   "source": [
    "def agg_func(transcript,final_data,col):\n",
    "    transaction_count = transcript.groupby(['person','time'], as_index = False)[col].sum()\n",
    "    transaction_count['number_' + col] = transaction_count.groupby(['person'])[col].shift(1)\n",
    "    print(transaction_count.head())\n",
    "    transaction_count['number_' + col] = transaction_count.groupby(['person'])['number_' + col].cumsum()\n",
    "    print(transaction_count.head())\n",
    "    print(transaction_count['number_' + col].max())\n",
    "    final_data = pd.merge(final_data,\n",
    "                      transaction_count[['person','time','number_' + col]],\n",
    "                      how = 'left',on = ['person','time'])\n",
    "    return final_data"
   ]
  },
  {
   "cell_type": "code",
   "execution_count": 32,
   "metadata": {},
   "outputs": [
    {
     "name": "stdout",
     "output_type": "stream",
     "text": [
      "                             person  time  transaction_flag  \\\n",
      "0  0009655768c64bdeb2e877511632db8f   168                 0   \n",
      "1  0009655768c64bdeb2e877511632db8f   192                 0   \n",
      "2  0009655768c64bdeb2e877511632db8f   228                 1   \n",
      "3  0009655768c64bdeb2e877511632db8f   336                 0   \n",
      "4  0009655768c64bdeb2e877511632db8f   372                 0   \n",
      "\n",
      "   number_transaction_flag  \n",
      "0                      NaN  \n",
      "1                      0.0  \n",
      "2                      0.0  \n",
      "3                      1.0  \n",
      "4                      0.0  \n",
      "                             person  time  transaction_flag  \\\n",
      "0  0009655768c64bdeb2e877511632db8f   168                 0   \n",
      "1  0009655768c64bdeb2e877511632db8f   192                 0   \n",
      "2  0009655768c64bdeb2e877511632db8f   228                 1   \n",
      "3  0009655768c64bdeb2e877511632db8f   336                 0   \n",
      "4  0009655768c64bdeb2e877511632db8f   372                 0   \n",
      "\n",
      "   number_transaction_flag  \n",
      "0                      NaN  \n",
      "1                      0.0  \n",
      "2                      0.0  \n",
      "3                      1.0  \n",
      "4                      1.0  \n",
      "35.0\n",
      "                             person  time  offer_rflag  number_offer_rflag\n",
      "0  0009655768c64bdeb2e877511632db8f   168            1                 NaN\n",
      "1  0009655768c64bdeb2e877511632db8f   192            0                 1.0\n",
      "2  0009655768c64bdeb2e877511632db8f   228            0                 0.0\n",
      "3  0009655768c64bdeb2e877511632db8f   336            1                 0.0\n",
      "4  0009655768c64bdeb2e877511632db8f   372            0                 1.0\n",
      "                             person  time  offer_rflag  number_offer_rflag\n",
      "0  0009655768c64bdeb2e877511632db8f   168            1                 NaN\n",
      "1  0009655768c64bdeb2e877511632db8f   192            0                 1.0\n",
      "2  0009655768c64bdeb2e877511632db8f   228            0                 1.0\n",
      "3  0009655768c64bdeb2e877511632db8f   336            1                 1.0\n",
      "4  0009655768c64bdeb2e877511632db8f   372            0                 2.0\n",
      "6.0\n",
      "                             person  time  offer_vflag  number_offer_vflag\n",
      "0  0009655768c64bdeb2e877511632db8f   168            0                 NaN\n",
      "1  0009655768c64bdeb2e877511632db8f   192            1                 0.0\n",
      "2  0009655768c64bdeb2e877511632db8f   228            0                 1.0\n",
      "3  0009655768c64bdeb2e877511632db8f   336            0                 0.0\n",
      "4  0009655768c64bdeb2e877511632db8f   372            1                 0.0\n",
      "                             person  time  offer_vflag  number_offer_vflag\n",
      "0  0009655768c64bdeb2e877511632db8f   168            0                 NaN\n",
      "1  0009655768c64bdeb2e877511632db8f   192            1                 0.0\n",
      "2  0009655768c64bdeb2e877511632db8f   228            0                 1.0\n",
      "3  0009655768c64bdeb2e877511632db8f   336            0                 1.0\n",
      "4  0009655768c64bdeb2e877511632db8f   372            1                 1.0\n",
      "6.0\n",
      "                             person  time  offer_cflag  number_offer_cflag\n",
      "0  0009655768c64bdeb2e877511632db8f   168            0                 NaN\n",
      "1  0009655768c64bdeb2e877511632db8f   192            0                 0.0\n",
      "2  0009655768c64bdeb2e877511632db8f   228            0                 0.0\n",
      "3  0009655768c64bdeb2e877511632db8f   336            0                 0.0\n",
      "4  0009655768c64bdeb2e877511632db8f   372            0                 0.0\n",
      "                             person  time  offer_cflag  number_offer_cflag\n",
      "0  0009655768c64bdeb2e877511632db8f   168            0                 NaN\n",
      "1  0009655768c64bdeb2e877511632db8f   192            0                 0.0\n",
      "2  0009655768c64bdeb2e877511632db8f   228            0                 0.0\n",
      "3  0009655768c64bdeb2e877511632db8f   336            0                 0.0\n",
      "4  0009655768c64bdeb2e877511632db8f   372            0                 0.0\n",
      "6.0\n",
      "                             person  time  transaction_offer_flag  \\\n",
      "0  0009655768c64bdeb2e877511632db8f   168                       0   \n",
      "1  0009655768c64bdeb2e877511632db8f   192                       0   \n",
      "2  0009655768c64bdeb2e877511632db8f   228                       1   \n",
      "3  0009655768c64bdeb2e877511632db8f   336                       0   \n",
      "4  0009655768c64bdeb2e877511632db8f   372                       0   \n",
      "\n",
      "   number_transaction_offer_flag  \n",
      "0                            NaN  \n",
      "1                            0.0  \n",
      "2                            0.0  \n",
      "3                            1.0  \n",
      "4                            0.0  \n",
      "                             person  time  transaction_offer_flag  \\\n",
      "0  0009655768c64bdeb2e877511632db8f   168                       0   \n",
      "1  0009655768c64bdeb2e877511632db8f   192                       0   \n",
      "2  0009655768c64bdeb2e877511632db8f   228                       1   \n",
      "3  0009655768c64bdeb2e877511632db8f   336                       0   \n",
      "4  0009655768c64bdeb2e877511632db8f   372                       0   \n",
      "\n",
      "   number_transaction_offer_flag  \n",
      "0                            NaN  \n",
      "1                            0.0  \n",
      "2                            0.0  \n",
      "3                            1.0  \n",
      "4                            1.0  \n",
      "35.0\n",
      "                             person  time  amount  number_amount\n",
      "0  0009655768c64bdeb2e877511632db8f   168    0.00            NaN\n",
      "1  0009655768c64bdeb2e877511632db8f   192    0.00           0.00\n",
      "2  0009655768c64bdeb2e877511632db8f   228   22.16           0.00\n",
      "3  0009655768c64bdeb2e877511632db8f   336    0.00          22.16\n",
      "4  0009655768c64bdeb2e877511632db8f   372    0.00           0.00\n",
      "                             person  time  amount  number_amount\n",
      "0  0009655768c64bdeb2e877511632db8f   168    0.00            NaN\n",
      "1  0009655768c64bdeb2e877511632db8f   192    0.00           0.00\n",
      "2  0009655768c64bdeb2e877511632db8f   228   22.16           0.00\n",
      "3  0009655768c64bdeb2e877511632db8f   336    0.00          22.16\n",
      "4  0009655768c64bdeb2e877511632db8f   372    0.00          22.16\n",
      "1608.69\n",
      "                             person  time  amount_offer  number_amount_offer\n",
      "0  0009655768c64bdeb2e877511632db8f   168          0.00                  NaN\n",
      "1  0009655768c64bdeb2e877511632db8f   192          0.00                 0.00\n",
      "2  0009655768c64bdeb2e877511632db8f   228         22.16                 0.00\n",
      "3  0009655768c64bdeb2e877511632db8f   336          0.00                22.16\n",
      "4  0009655768c64bdeb2e877511632db8f   372          0.00                 0.00\n",
      "                             person  time  amount_offer  number_amount_offer\n",
      "0  0009655768c64bdeb2e877511632db8f   168          0.00                  NaN\n",
      "1  0009655768c64bdeb2e877511632db8f   192          0.00                 0.00\n",
      "2  0009655768c64bdeb2e877511632db8f   228         22.16                 0.00\n",
      "3  0009655768c64bdeb2e877511632db8f   336          0.00                22.16\n",
      "4  0009655768c64bdeb2e877511632db8f   372          0.00                22.16\n",
      "1608.69\n"
     ]
    }
   ],
   "source": [
    "final_data = agg_func(transcript,final_data,'transaction_flag')\n",
    "final_data = agg_func(transcript,final_data,'offer_rflag')\n",
    "final_data = agg_func(transcript,final_data,'offer_vflag')\n",
    "final_data = agg_func(transcript,final_data,'offer_cflag')\n",
    "final_data = agg_func(transcript,final_data,'transaction_offer_flag')\n",
    "final_data = agg_func(transcript,final_data,'amount')\n",
    "final_data = agg_func(transcript,final_data,'amount_offer')"
   ]
  },
  {
   "cell_type": "code",
   "execution_count": 33,
   "metadata": {},
   "outputs": [
    {
     "data": {
      "text/html": [
       "<div>\n",
       "<style scoped>\n",
       "    .dataframe tbody tr th:only-of-type {\n",
       "        vertical-align: middle;\n",
       "    }\n",
       "\n",
       "    .dataframe tbody tr th {\n",
       "        vertical-align: top;\n",
       "    }\n",
       "\n",
       "    .dataframe thead th {\n",
       "        text-align: right;\n",
       "    }\n",
       "</style>\n",
       "<table border=\"1\" class=\"dataframe\">\n",
       "  <thead>\n",
       "    <tr style=\"text-align: right;\">\n",
       "      <th></th>\n",
       "      <th>person</th>\n",
       "      <th>offer_id</th>\n",
       "      <th>time</th>\n",
       "      <th>label</th>\n",
       "      <th>day</th>\n",
       "      <th>number_transaction_flag</th>\n",
       "      <th>number_offer_rflag</th>\n",
       "      <th>number_offer_vflag</th>\n",
       "      <th>number_offer_cflag</th>\n",
       "      <th>number_transaction_offer_flag</th>\n",
       "      <th>number_amount</th>\n",
       "      <th>number_amount_offer</th>\n",
       "    </tr>\n",
       "  </thead>\n",
       "  <tbody>\n",
       "    <tr>\n",
       "      <th>0</th>\n",
       "      <td>0009655768c64bdeb2e877511632db8f</td>\n",
       "      <td>2906b810c7d4411798c6938adc9daaa5</td>\n",
       "      <td>576</td>\n",
       "      <td>0</td>\n",
       "      <td>24.0</td>\n",
       "      <td>4.0</td>\n",
       "      <td>4.0</td>\n",
       "      <td>4.0</td>\n",
       "      <td>2.0</td>\n",
       "      <td>4.0</td>\n",
       "      <td>58.40</td>\n",
       "      <td>58.40</td>\n",
       "    </tr>\n",
       "    <tr>\n",
       "      <th>1</th>\n",
       "      <td>0009655768c64bdeb2e877511632db8f</td>\n",
       "      <td>3f207df678b143eea3cee63160fa8bed</td>\n",
       "      <td>336</td>\n",
       "      <td>0</td>\n",
       "      <td>14.0</td>\n",
       "      <td>1.0</td>\n",
       "      <td>1.0</td>\n",
       "      <td>1.0</td>\n",
       "      <td>0.0</td>\n",
       "      <td>1.0</td>\n",
       "      <td>22.16</td>\n",
       "      <td>22.16</td>\n",
       "    </tr>\n",
       "    <tr>\n",
       "      <th>2</th>\n",
       "      <td>0009655768c64bdeb2e877511632db8f</td>\n",
       "      <td>5a8bc65990b245e5a138643cd4eb9837</td>\n",
       "      <td>168</td>\n",
       "      <td>0</td>\n",
       "      <td>7.0</td>\n",
       "      <td>NaN</td>\n",
       "      <td>NaN</td>\n",
       "      <td>NaN</td>\n",
       "      <td>NaN</td>\n",
       "      <td>NaN</td>\n",
       "      <td>NaN</td>\n",
       "      <td>NaN</td>\n",
       "    </tr>\n",
       "    <tr>\n",
       "      <th>3</th>\n",
       "      <td>0009655768c64bdeb2e877511632db8f</td>\n",
       "      <td>f19421c1d4aa40978ebb69ca19b0e20d</td>\n",
       "      <td>408</td>\n",
       "      <td>0</td>\n",
       "      <td>17.0</td>\n",
       "      <td>1.0</td>\n",
       "      <td>2.0</td>\n",
       "      <td>2.0</td>\n",
       "      <td>0.0</td>\n",
       "      <td>1.0</td>\n",
       "      <td>22.16</td>\n",
       "      <td>22.16</td>\n",
       "    </tr>\n",
       "    <tr>\n",
       "      <th>4</th>\n",
       "      <td>0009655768c64bdeb2e877511632db8f</td>\n",
       "      <td>fafdcd668e3743c1bb461111dcafc2a4</td>\n",
       "      <td>504</td>\n",
       "      <td>0</td>\n",
       "      <td>21.0</td>\n",
       "      <td>2.0</td>\n",
       "      <td>3.0</td>\n",
       "      <td>3.0</td>\n",
       "      <td>1.0</td>\n",
       "      <td>2.0</td>\n",
       "      <td>30.73</td>\n",
       "      <td>30.73</td>\n",
       "    </tr>\n",
       "  </tbody>\n",
       "</table>\n",
       "</div>"
      ],
      "text/plain": [
       "                             person                          offer_id  time  \\\n",
       "0  0009655768c64bdeb2e877511632db8f  2906b810c7d4411798c6938adc9daaa5   576   \n",
       "1  0009655768c64bdeb2e877511632db8f  3f207df678b143eea3cee63160fa8bed   336   \n",
       "2  0009655768c64bdeb2e877511632db8f  5a8bc65990b245e5a138643cd4eb9837   168   \n",
       "3  0009655768c64bdeb2e877511632db8f  f19421c1d4aa40978ebb69ca19b0e20d   408   \n",
       "4  0009655768c64bdeb2e877511632db8f  fafdcd668e3743c1bb461111dcafc2a4   504   \n",
       "\n",
       "   label   day  number_transaction_flag  number_offer_rflag  \\\n",
       "0      0  24.0                      4.0                 4.0   \n",
       "1      0  14.0                      1.0                 1.0   \n",
       "2      0   7.0                      NaN                 NaN   \n",
       "3      0  17.0                      1.0                 2.0   \n",
       "4      0  21.0                      2.0                 3.0   \n",
       "\n",
       "   number_offer_vflag  number_offer_cflag  number_transaction_offer_flag  \\\n",
       "0                 4.0                 2.0                            4.0   \n",
       "1                 1.0                 0.0                            1.0   \n",
       "2                 NaN                 NaN                            NaN   \n",
       "3                 2.0                 0.0                            1.0   \n",
       "4                 3.0                 1.0                            2.0   \n",
       "\n",
       "   number_amount  number_amount_offer  \n",
       "0          58.40                58.40  \n",
       "1          22.16                22.16  \n",
       "2            NaN                  NaN  \n",
       "3          22.16                22.16  \n",
       "4          30.73                30.73  "
      ]
     },
     "execution_count": 33,
     "metadata": {},
     "output_type": "execute_result"
    }
   ],
   "source": [
    "final_data.head()"
   ]
  },
  {
   "cell_type": "code",
   "execution_count": 34,
   "metadata": {},
   "outputs": [
    {
     "name": "stdout",
     "output_type": "stream",
     "text": [
      "<class 'pandas.core.frame.DataFrame'>\n",
      "Int64Index: 59083 entries, 0 to 59082\n",
      "Data columns (total 12 columns):\n",
      " #   Column                         Non-Null Count  Dtype  \n",
      "---  ------                         --------------  -----  \n",
      " 0   person                         59083 non-null  object \n",
      " 1   offer_id                       59083 non-null  object \n",
      " 2   time                           59083 non-null  int64  \n",
      " 3   label                          59083 non-null  int64  \n",
      " 4   day                            59083 non-null  float64\n",
      " 5   number_transaction_flag        47831 non-null  float64\n",
      " 6   number_offer_rflag             47831 non-null  float64\n",
      " 7   number_offer_vflag             47831 non-null  float64\n",
      " 8   number_offer_cflag             47831 non-null  float64\n",
      " 9   number_transaction_offer_flag  47831 non-null  float64\n",
      " 10  number_amount                  47831 non-null  float64\n",
      " 11  number_amount_offer            47831 non-null  float64\n",
      "dtypes: float64(8), int64(2), object(2)\n",
      "memory usage: 5.9+ MB\n"
     ]
    }
   ],
   "source": [
    "final_data.info()"
   ]
  },
  {
   "cell_type": "code",
   "execution_count": 35,
   "metadata": {},
   "outputs": [
    {
     "data": {
      "text/plain": [
       "0    37711\n",
       "1    21372\n",
       "Name: label, dtype: int64"
      ]
     },
     "execution_count": 35,
     "metadata": {},
     "output_type": "execute_result"
    }
   ],
   "source": [
    "final_data['label'].value_counts()"
   ]
  },
  {
   "cell_type": "code",
   "execution_count": 36,
   "metadata": {},
   "outputs": [],
   "source": [
    "final_data['offer_amount_ratio'] = final_data['number_amount_offer']/final_data['number_amount']\n",
    "final_data['offer_complete_ratio'] = final_data['number_offer_cflag']/final_data['number_offer_rflag']"
   ]
  },
  {
   "cell_type": "code",
   "execution_count": 37,
   "metadata": {},
   "outputs": [
    {
     "data": {
      "text/plain": [
       "1.000000    22558\n",
       "0.000000     4551\n",
       "0.333333        5\n",
       "0.731293        5\n",
       "0.145177        4\n",
       "            ...  \n",
       "0.413897        1\n",
       "0.026136        1\n",
       "0.715613        1\n",
       "0.870482        1\n",
       "0.185030        1\n",
       "Name: offer_amount_ratio, Length: 13246, dtype: int64"
      ]
     },
     "execution_count": 37,
     "metadata": {},
     "output_type": "execute_result"
    }
   ],
   "source": [
    "final_data['offer_amount_ratio'].value_counts()"
   ]
  },
  {
   "cell_type": "code",
   "execution_count": 38,
   "metadata": {},
   "outputs": [
    {
     "data": {
      "text/html": [
       "<div>\n",
       "<style scoped>\n",
       "    .dataframe tbody tr th:only-of-type {\n",
       "        vertical-align: middle;\n",
       "    }\n",
       "\n",
       "    .dataframe tbody tr th {\n",
       "        vertical-align: top;\n",
       "    }\n",
       "\n",
       "    .dataframe thead th {\n",
       "        text-align: right;\n",
       "    }\n",
       "</style>\n",
       "<table border=\"1\" class=\"dataframe\">\n",
       "  <thead>\n",
       "    <tr style=\"text-align: right;\">\n",
       "      <th></th>\n",
       "      <th>reward</th>\n",
       "      <th>channels</th>\n",
       "      <th>difficulty</th>\n",
       "      <th>duration</th>\n",
       "      <th>offer_type</th>\n",
       "      <th>offer_id</th>\n",
       "    </tr>\n",
       "  </thead>\n",
       "  <tbody>\n",
       "    <tr>\n",
       "      <th>0</th>\n",
       "      <td>10</td>\n",
       "      <td>[email, mobile, social]</td>\n",
       "      <td>10</td>\n",
       "      <td>7</td>\n",
       "      <td>bogo</td>\n",
       "      <td>ae264e3637204a6fb9bb56bc8210ddfd</td>\n",
       "    </tr>\n",
       "    <tr>\n",
       "      <th>1</th>\n",
       "      <td>10</td>\n",
       "      <td>[web, email, mobile, social]</td>\n",
       "      <td>10</td>\n",
       "      <td>5</td>\n",
       "      <td>bogo</td>\n",
       "      <td>4d5c57ea9a6940dd891ad53e9dbe8da0</td>\n",
       "    </tr>\n",
       "    <tr>\n",
       "      <th>2</th>\n",
       "      <td>0</td>\n",
       "      <td>[web, email, mobile]</td>\n",
       "      <td>0</td>\n",
       "      <td>4</td>\n",
       "      <td>informational</td>\n",
       "      <td>3f207df678b143eea3cee63160fa8bed</td>\n",
       "    </tr>\n",
       "    <tr>\n",
       "      <th>3</th>\n",
       "      <td>5</td>\n",
       "      <td>[web, email, mobile]</td>\n",
       "      <td>5</td>\n",
       "      <td>7</td>\n",
       "      <td>bogo</td>\n",
       "      <td>9b98b8c7a33c4b65b9aebfe6a799e6d9</td>\n",
       "    </tr>\n",
       "    <tr>\n",
       "      <th>4</th>\n",
       "      <td>5</td>\n",
       "      <td>[web, email]</td>\n",
       "      <td>20</td>\n",
       "      <td>10</td>\n",
       "      <td>discount</td>\n",
       "      <td>0b1e1539f2cc45b7b9fa7c272da2e1d7</td>\n",
       "    </tr>\n",
       "  </tbody>\n",
       "</table>\n",
       "</div>"
      ],
      "text/plain": [
       "   reward                      channels  difficulty  duration     offer_type  \\\n",
       "0      10       [email, mobile, social]          10         7           bogo   \n",
       "1      10  [web, email, mobile, social]          10         5           bogo   \n",
       "2       0          [web, email, mobile]           0         4  informational   \n",
       "3       5          [web, email, mobile]           5         7           bogo   \n",
       "4       5                  [web, email]          20        10       discount   \n",
       "\n",
       "                           offer_id  \n",
       "0  ae264e3637204a6fb9bb56bc8210ddfd  \n",
       "1  4d5c57ea9a6940dd891ad53e9dbe8da0  \n",
       "2  3f207df678b143eea3cee63160fa8bed  \n",
       "3  9b98b8c7a33c4b65b9aebfe6a799e6d9  \n",
       "4  0b1e1539f2cc45b7b9fa7c272da2e1d7  "
      ]
     },
     "execution_count": 38,
     "metadata": {},
     "output_type": "execute_result"
    }
   ],
   "source": [
    "final_data = final_data.fillna(0).reset_index(drop = True)\n",
    "portfolio.head()"
   ]
  },
  {
   "cell_type": "code",
   "execution_count": 39,
   "metadata": {},
   "outputs": [
    {
     "data": {
      "text/html": [
       "<div>\n",
       "<style scoped>\n",
       "    .dataframe tbody tr th:only-of-type {\n",
       "        vertical-align: middle;\n",
       "    }\n",
       "\n",
       "    .dataframe tbody tr th {\n",
       "        vertical-align: top;\n",
       "    }\n",
       "\n",
       "    .dataframe thead th {\n",
       "        text-align: right;\n",
       "    }\n",
       "</style>\n",
       "<table border=\"1\" class=\"dataframe\">\n",
       "  <thead>\n",
       "    <tr style=\"text-align: right;\">\n",
       "      <th></th>\n",
       "      <th>gender</th>\n",
       "      <th>age</th>\n",
       "      <th>id</th>\n",
       "      <th>became_member_on</th>\n",
       "      <th>income</th>\n",
       "    </tr>\n",
       "  </thead>\n",
       "  <tbody>\n",
       "    <tr>\n",
       "      <th>0</th>\n",
       "      <td>None</td>\n",
       "      <td>118</td>\n",
       "      <td>68be06ca386d4c31939f3a4f0e3dd783</td>\n",
       "      <td>20170212</td>\n",
       "      <td>NaN</td>\n",
       "    </tr>\n",
       "    <tr>\n",
       "      <th>1</th>\n",
       "      <td>F</td>\n",
       "      <td>55</td>\n",
       "      <td>0610b486422d4921ae7d2bf64640c50b</td>\n",
       "      <td>20170715</td>\n",
       "      <td>112000.0</td>\n",
       "    </tr>\n",
       "    <tr>\n",
       "      <th>2</th>\n",
       "      <td>None</td>\n",
       "      <td>118</td>\n",
       "      <td>38fe809add3b4fcf9315a9694bb96ff5</td>\n",
       "      <td>20180712</td>\n",
       "      <td>NaN</td>\n",
       "    </tr>\n",
       "    <tr>\n",
       "      <th>3</th>\n",
       "      <td>F</td>\n",
       "      <td>75</td>\n",
       "      <td>78afa995795e4d85b5d9ceeca43f5fef</td>\n",
       "      <td>20170509</td>\n",
       "      <td>100000.0</td>\n",
       "    </tr>\n",
       "    <tr>\n",
       "      <th>4</th>\n",
       "      <td>None</td>\n",
       "      <td>118</td>\n",
       "      <td>a03223e636434f42ac4c3df47e8bac43</td>\n",
       "      <td>20170804</td>\n",
       "      <td>NaN</td>\n",
       "    </tr>\n",
       "  </tbody>\n",
       "</table>\n",
       "</div>"
      ],
      "text/plain": [
       "  gender  age                                id  became_member_on    income\n",
       "0   None  118  68be06ca386d4c31939f3a4f0e3dd783          20170212       NaN\n",
       "1      F   55  0610b486422d4921ae7d2bf64640c50b          20170715  112000.0\n",
       "2   None  118  38fe809add3b4fcf9315a9694bb96ff5          20180712       NaN\n",
       "3      F   75  78afa995795e4d85b5d9ceeca43f5fef          20170509  100000.0\n",
       "4   None  118  a03223e636434f42ac4c3df47e8bac43          20170804       NaN"
      ]
     },
     "execution_count": 39,
     "metadata": {},
     "output_type": "execute_result"
    }
   ],
   "source": [
    "profile.head()"
   ]
  },
  {
   "cell_type": "code",
   "execution_count": 40,
   "metadata": {},
   "outputs": [
    {
     "name": "stdout",
     "output_type": "stream",
     "text": [
      "<class 'pandas.core.frame.DataFrame'>\n",
      "RangeIndex: 17000 entries, 0 to 16999\n",
      "Data columns (total 5 columns):\n",
      " #   Column            Non-Null Count  Dtype  \n",
      "---  ------            --------------  -----  \n",
      " 0   gender            14825 non-null  object \n",
      " 1   age               17000 non-null  int64  \n",
      " 2   id                17000 non-null  object \n",
      " 3   became_member_on  17000 non-null  int64  \n",
      " 4   income            14825 non-null  float64\n",
      "dtypes: float64(1), int64(2), object(2)\n",
      "memory usage: 664.2+ KB\n"
     ]
    }
   ],
   "source": [
    "profile.info()"
   ]
  },
  {
   "cell_type": "code",
   "execution_count": 41,
   "metadata": {},
   "outputs": [],
   "source": [
    "#profile = profile.dropna().reset_index(drop = True)\n",
    "profile['gender'] = profile['gender'].fillna('O')\n",
    "profile['age']=profile['age'].apply(lambda x: np.nan if x==118 else x)\n",
    "fill_median = profile[profile['gender'] == 'O'].groupby('gender',as_index = False)['age'].median()['age'].values[0]\n",
    "profile['age'] = profile['age'].fillna(fill_median)\n",
    "fill_median = profile[profile['gender'] == 'O'].groupby('gender',as_index = False)['income'].median()['income'].values[0]\n",
    "profile['income'] = profile['income'].fillna(fill_median)\n",
    "profile['became_member_on'] = pd.to_datetime(profile['became_member_on'],format = '%Y%m%d')"
   ]
  },
  {
   "cell_type": "code",
   "execution_count": 42,
   "metadata": {},
   "outputs": [
    {
     "name": "stdout",
     "output_type": "stream",
     "text": [
      "<class 'pandas.core.frame.DataFrame'>\n",
      "RangeIndex: 17000 entries, 0 to 16999\n",
      "Data columns (total 5 columns):\n",
      " #   Column            Non-Null Count  Dtype         \n",
      "---  ------            --------------  -----         \n",
      " 0   gender            17000 non-null  object        \n",
      " 1   age               17000 non-null  float64       \n",
      " 2   id                17000 non-null  object        \n",
      " 3   became_member_on  17000 non-null  datetime64[ns]\n",
      " 4   income            17000 non-null  float64       \n",
      "dtypes: datetime64[ns](1), float64(2), object(2)\n",
      "memory usage: 664.2+ KB\n"
     ]
    }
   ],
   "source": [
    "profile.info()"
   ]
  },
  {
   "cell_type": "code",
   "execution_count": 43,
   "metadata": {},
   "outputs": [
    {
     "data": {
      "text/plain": [
       "Timestamp('2018-07-26 00:00:00')"
      ]
     },
     "execution_count": 43,
     "metadata": {},
     "output_type": "execute_result"
    }
   ],
   "source": [
    "profile['became_member_on'].max()"
   ]
  },
  {
   "cell_type": "code",
   "execution_count": 44,
   "metadata": {},
   "outputs": [
    {
     "data": {
      "text/plain": [
       "M    8484\n",
       "F    6129\n",
       "O    2387\n",
       "Name: gender, dtype: int64"
      ]
     },
     "execution_count": 44,
     "metadata": {},
     "output_type": "execute_result"
    }
   ],
   "source": [
    "profile['gender'].value_counts()"
   ]
  },
  {
   "cell_type": "code",
   "execution_count": 45,
   "metadata": {},
   "outputs": [],
   "source": [
    "profile['membership_days'] = (profile['became_member_on'].max().date() -  profile['became_member_on'].dt.date).dt.days"
   ]
  },
  {
   "cell_type": "code",
   "execution_count": 46,
   "metadata": {},
   "outputs": [
    {
     "data": {
      "text/html": [
       "<div>\n",
       "<style scoped>\n",
       "    .dataframe tbody tr th:only-of-type {\n",
       "        vertical-align: middle;\n",
       "    }\n",
       "\n",
       "    .dataframe tbody tr th {\n",
       "        vertical-align: top;\n",
       "    }\n",
       "\n",
       "    .dataframe thead th {\n",
       "        text-align: right;\n",
       "    }\n",
       "</style>\n",
       "<table border=\"1\" class=\"dataframe\">\n",
       "  <thead>\n",
       "    <tr style=\"text-align: right;\">\n",
       "      <th></th>\n",
       "      <th>gender</th>\n",
       "      <th>age</th>\n",
       "      <th>id</th>\n",
       "      <th>became_member_on</th>\n",
       "      <th>income</th>\n",
       "      <th>membership_days</th>\n",
       "    </tr>\n",
       "  </thead>\n",
       "  <tbody>\n",
       "    <tr>\n",
       "      <th>0</th>\n",
       "      <td>O</td>\n",
       "      <td>55.0</td>\n",
       "      <td>68be06ca386d4c31939f3a4f0e3dd783</td>\n",
       "      <td>2017-02-12</td>\n",
       "      <td>62000.0</td>\n",
       "      <td>529</td>\n",
       "    </tr>\n",
       "    <tr>\n",
       "      <th>1</th>\n",
       "      <td>F</td>\n",
       "      <td>55.0</td>\n",
       "      <td>0610b486422d4921ae7d2bf64640c50b</td>\n",
       "      <td>2017-07-15</td>\n",
       "      <td>112000.0</td>\n",
       "      <td>376</td>\n",
       "    </tr>\n",
       "    <tr>\n",
       "      <th>2</th>\n",
       "      <td>O</td>\n",
       "      <td>55.0</td>\n",
       "      <td>38fe809add3b4fcf9315a9694bb96ff5</td>\n",
       "      <td>2018-07-12</td>\n",
       "      <td>62000.0</td>\n",
       "      <td>14</td>\n",
       "    </tr>\n",
       "    <tr>\n",
       "      <th>3</th>\n",
       "      <td>F</td>\n",
       "      <td>75.0</td>\n",
       "      <td>78afa995795e4d85b5d9ceeca43f5fef</td>\n",
       "      <td>2017-05-09</td>\n",
       "      <td>100000.0</td>\n",
       "      <td>443</td>\n",
       "    </tr>\n",
       "    <tr>\n",
       "      <th>4</th>\n",
       "      <td>O</td>\n",
       "      <td>55.0</td>\n",
       "      <td>a03223e636434f42ac4c3df47e8bac43</td>\n",
       "      <td>2017-08-04</td>\n",
       "      <td>62000.0</td>\n",
       "      <td>356</td>\n",
       "    </tr>\n",
       "  </tbody>\n",
       "</table>\n",
       "</div>"
      ],
      "text/plain": [
       "  gender   age                                id became_member_on    income  \\\n",
       "0      O  55.0  68be06ca386d4c31939f3a4f0e3dd783       2017-02-12   62000.0   \n",
       "1      F  55.0  0610b486422d4921ae7d2bf64640c50b       2017-07-15  112000.0   \n",
       "2      O  55.0  38fe809add3b4fcf9315a9694bb96ff5       2018-07-12   62000.0   \n",
       "3      F  75.0  78afa995795e4d85b5d9ceeca43f5fef       2017-05-09  100000.0   \n",
       "4      O  55.0  a03223e636434f42ac4c3df47e8bac43       2017-08-04   62000.0   \n",
       "\n",
       "   membership_days  \n",
       "0              529  \n",
       "1              376  \n",
       "2               14  \n",
       "3              443  \n",
       "4              356  "
      ]
     },
     "execution_count": 46,
     "metadata": {},
     "output_type": "execute_result"
    }
   ],
   "source": [
    "profile.head()"
   ]
  },
  {
   "cell_type": "code",
   "execution_count": 47,
   "metadata": {},
   "outputs": [
    {
     "data": {
      "text/plain": [
       "gender                                             O\n",
       "age                                              101\n",
       "id                  ffff82501cea40309d5fdd7edcca4a07\n",
       "became_member_on                 2018-07-26 00:00:00\n",
       "income                                        120000\n",
       "membership_days                                 1823\n",
       "dtype: object"
      ]
     },
     "execution_count": 47,
     "metadata": {},
     "output_type": "execute_result"
    }
   ],
   "source": [
    "profile.max()"
   ]
  },
  {
   "cell_type": "code",
   "execution_count": 48,
   "metadata": {},
   "outputs": [],
   "source": [
    "dummy=pd.get_dummies(profile['gender'],columns='gender',prefix='gender')\n",
    "profile = pd.concat([profile,dummy],axis=1)\n",
    "profile = profile.drop(['became_member_on','gender'],axis = 1)"
   ]
  },
  {
   "cell_type": "code",
   "execution_count": 49,
   "metadata": {},
   "outputs": [
    {
     "data": {
      "text/html": [
       "<div>\n",
       "<style scoped>\n",
       "    .dataframe tbody tr th:only-of-type {\n",
       "        vertical-align: middle;\n",
       "    }\n",
       "\n",
       "    .dataframe tbody tr th {\n",
       "        vertical-align: top;\n",
       "    }\n",
       "\n",
       "    .dataframe thead th {\n",
       "        text-align: right;\n",
       "    }\n",
       "</style>\n",
       "<table border=\"1\" class=\"dataframe\">\n",
       "  <thead>\n",
       "    <tr style=\"text-align: right;\">\n",
       "      <th></th>\n",
       "      <th>reward</th>\n",
       "      <th>channels</th>\n",
       "      <th>difficulty</th>\n",
       "      <th>duration</th>\n",
       "      <th>offer_type</th>\n",
       "      <th>offer_id</th>\n",
       "    </tr>\n",
       "  </thead>\n",
       "  <tbody>\n",
       "    <tr>\n",
       "      <th>0</th>\n",
       "      <td>10</td>\n",
       "      <td>[email, mobile, social]</td>\n",
       "      <td>10</td>\n",
       "      <td>7</td>\n",
       "      <td>bogo</td>\n",
       "      <td>ae264e3637204a6fb9bb56bc8210ddfd</td>\n",
       "    </tr>\n",
       "    <tr>\n",
       "      <th>1</th>\n",
       "      <td>10</td>\n",
       "      <td>[web, email, mobile, social]</td>\n",
       "      <td>10</td>\n",
       "      <td>5</td>\n",
       "      <td>bogo</td>\n",
       "      <td>4d5c57ea9a6940dd891ad53e9dbe8da0</td>\n",
       "    </tr>\n",
       "    <tr>\n",
       "      <th>2</th>\n",
       "      <td>0</td>\n",
       "      <td>[web, email, mobile]</td>\n",
       "      <td>0</td>\n",
       "      <td>4</td>\n",
       "      <td>informational</td>\n",
       "      <td>3f207df678b143eea3cee63160fa8bed</td>\n",
       "    </tr>\n",
       "    <tr>\n",
       "      <th>3</th>\n",
       "      <td>5</td>\n",
       "      <td>[web, email, mobile]</td>\n",
       "      <td>5</td>\n",
       "      <td>7</td>\n",
       "      <td>bogo</td>\n",
       "      <td>9b98b8c7a33c4b65b9aebfe6a799e6d9</td>\n",
       "    </tr>\n",
       "    <tr>\n",
       "      <th>4</th>\n",
       "      <td>5</td>\n",
       "      <td>[web, email]</td>\n",
       "      <td>20</td>\n",
       "      <td>10</td>\n",
       "      <td>discount</td>\n",
       "      <td>0b1e1539f2cc45b7b9fa7c272da2e1d7</td>\n",
       "    </tr>\n",
       "  </tbody>\n",
       "</table>\n",
       "</div>"
      ],
      "text/plain": [
       "   reward                      channels  difficulty  duration     offer_type  \\\n",
       "0      10       [email, mobile, social]          10         7           bogo   \n",
       "1      10  [web, email, mobile, social]          10         5           bogo   \n",
       "2       0          [web, email, mobile]           0         4  informational   \n",
       "3       5          [web, email, mobile]           5         7           bogo   \n",
       "4       5                  [web, email]          20        10       discount   \n",
       "\n",
       "                           offer_id  \n",
       "0  ae264e3637204a6fb9bb56bc8210ddfd  \n",
       "1  4d5c57ea9a6940dd891ad53e9dbe8da0  \n",
       "2  3f207df678b143eea3cee63160fa8bed  \n",
       "3  9b98b8c7a33c4b65b9aebfe6a799e6d9  \n",
       "4  0b1e1539f2cc45b7b9fa7c272da2e1d7  "
      ]
     },
     "execution_count": 49,
     "metadata": {},
     "output_type": "execute_result"
    }
   ],
   "source": [
    "portfolio.head()"
   ]
  },
  {
   "cell_type": "code",
   "execution_count": 50,
   "metadata": {},
   "outputs": [],
   "source": [
    "portfolio['number_channels'] = portfolio['channels'].apply(lambda x: len(x))\n",
    "portfolio['web_flag'] = portfolio['channels'].apply(lambda x: 1 if 'web' in x else 0)\n",
    "portfolio['mobile_flag'] = portfolio['channels'].apply(lambda x: 1 if 'mobile' in x else 0)\n",
    "portfolio['social_flag'] = portfolio['channels'].apply(lambda x: 1 if 'social' in x else 0)\n",
    "portfolio['difficulty_ratio'] = portfolio['difficulty']/portfolio['duration']\n",
    "portfolio['reward_ratio'] = np.where(portfolio['difficulty'] ==0,0,portfolio['reward']/portfolio['difficulty'])\n",
    "#one hot encoding the origin variable\n",
    "dummy=pd.get_dummies(portfolio['offer_type'],columns='offer_type',prefix='offer_type')\n",
    "portfolio=pd.concat([portfolio,dummy],axis=1)\n",
    "portfolio=portfolio.drop(['offer_type','channels'],axis=1)"
   ]
  },
  {
   "cell_type": "code",
   "execution_count": 51,
   "metadata": {},
   "outputs": [
    {
     "data": {
      "text/html": [
       "<div>\n",
       "<style scoped>\n",
       "    .dataframe tbody tr th:only-of-type {\n",
       "        vertical-align: middle;\n",
       "    }\n",
       "\n",
       "    .dataframe tbody tr th {\n",
       "        vertical-align: top;\n",
       "    }\n",
       "\n",
       "    .dataframe thead th {\n",
       "        text-align: right;\n",
       "    }\n",
       "</style>\n",
       "<table border=\"1\" class=\"dataframe\">\n",
       "  <thead>\n",
       "    <tr style=\"text-align: right;\">\n",
       "      <th></th>\n",
       "      <th>reward</th>\n",
       "      <th>difficulty</th>\n",
       "      <th>duration</th>\n",
       "      <th>offer_id</th>\n",
       "      <th>number_channels</th>\n",
       "      <th>web_flag</th>\n",
       "      <th>mobile_flag</th>\n",
       "      <th>social_flag</th>\n",
       "      <th>difficulty_ratio</th>\n",
       "      <th>reward_ratio</th>\n",
       "      <th>offer_type_bogo</th>\n",
       "      <th>offer_type_discount</th>\n",
       "      <th>offer_type_informational</th>\n",
       "    </tr>\n",
       "  </thead>\n",
       "  <tbody>\n",
       "    <tr>\n",
       "      <th>0</th>\n",
       "      <td>10</td>\n",
       "      <td>10</td>\n",
       "      <td>7</td>\n",
       "      <td>ae264e3637204a6fb9bb56bc8210ddfd</td>\n",
       "      <td>3</td>\n",
       "      <td>0</td>\n",
       "      <td>1</td>\n",
       "      <td>1</td>\n",
       "      <td>1.428571</td>\n",
       "      <td>1.00</td>\n",
       "      <td>1</td>\n",
       "      <td>0</td>\n",
       "      <td>0</td>\n",
       "    </tr>\n",
       "    <tr>\n",
       "      <th>1</th>\n",
       "      <td>10</td>\n",
       "      <td>10</td>\n",
       "      <td>5</td>\n",
       "      <td>4d5c57ea9a6940dd891ad53e9dbe8da0</td>\n",
       "      <td>4</td>\n",
       "      <td>1</td>\n",
       "      <td>1</td>\n",
       "      <td>1</td>\n",
       "      <td>2.000000</td>\n",
       "      <td>1.00</td>\n",
       "      <td>1</td>\n",
       "      <td>0</td>\n",
       "      <td>0</td>\n",
       "    </tr>\n",
       "    <tr>\n",
       "      <th>2</th>\n",
       "      <td>0</td>\n",
       "      <td>0</td>\n",
       "      <td>4</td>\n",
       "      <td>3f207df678b143eea3cee63160fa8bed</td>\n",
       "      <td>3</td>\n",
       "      <td>1</td>\n",
       "      <td>1</td>\n",
       "      <td>0</td>\n",
       "      <td>0.000000</td>\n",
       "      <td>0.00</td>\n",
       "      <td>0</td>\n",
       "      <td>0</td>\n",
       "      <td>1</td>\n",
       "    </tr>\n",
       "    <tr>\n",
       "      <th>3</th>\n",
       "      <td>5</td>\n",
       "      <td>5</td>\n",
       "      <td>7</td>\n",
       "      <td>9b98b8c7a33c4b65b9aebfe6a799e6d9</td>\n",
       "      <td>3</td>\n",
       "      <td>1</td>\n",
       "      <td>1</td>\n",
       "      <td>0</td>\n",
       "      <td>0.714286</td>\n",
       "      <td>1.00</td>\n",
       "      <td>1</td>\n",
       "      <td>0</td>\n",
       "      <td>0</td>\n",
       "    </tr>\n",
       "    <tr>\n",
       "      <th>4</th>\n",
       "      <td>5</td>\n",
       "      <td>20</td>\n",
       "      <td>10</td>\n",
       "      <td>0b1e1539f2cc45b7b9fa7c272da2e1d7</td>\n",
       "      <td>2</td>\n",
       "      <td>1</td>\n",
       "      <td>0</td>\n",
       "      <td>0</td>\n",
       "      <td>2.000000</td>\n",
       "      <td>0.25</td>\n",
       "      <td>0</td>\n",
       "      <td>1</td>\n",
       "      <td>0</td>\n",
       "    </tr>\n",
       "  </tbody>\n",
       "</table>\n",
       "</div>"
      ],
      "text/plain": [
       "   reward  difficulty  duration                          offer_id  \\\n",
       "0      10          10         7  ae264e3637204a6fb9bb56bc8210ddfd   \n",
       "1      10          10         5  4d5c57ea9a6940dd891ad53e9dbe8da0   \n",
       "2       0           0         4  3f207df678b143eea3cee63160fa8bed   \n",
       "3       5           5         7  9b98b8c7a33c4b65b9aebfe6a799e6d9   \n",
       "4       5          20        10  0b1e1539f2cc45b7b9fa7c272da2e1d7   \n",
       "\n",
       "   number_channels  web_flag  mobile_flag  social_flag  difficulty_ratio  \\\n",
       "0                3         0            1            1          1.428571   \n",
       "1                4         1            1            1          2.000000   \n",
       "2                3         1            1            0          0.000000   \n",
       "3                3         1            1            0          0.714286   \n",
       "4                2         1            0            0          2.000000   \n",
       "\n",
       "   reward_ratio  offer_type_bogo  offer_type_discount  \\\n",
       "0          1.00                1                    0   \n",
       "1          1.00                1                    0   \n",
       "2          0.00                0                    0   \n",
       "3          1.00                1                    0   \n",
       "4          0.25                0                    1   \n",
       "\n",
       "   offer_type_informational  \n",
       "0                         0  \n",
       "1                         0  \n",
       "2                         1  \n",
       "3                         0  \n",
       "4                         0  "
      ]
     },
     "execution_count": 51,
     "metadata": {},
     "output_type": "execute_result"
    }
   ],
   "source": [
    "portfolio.head()"
   ]
  },
  {
   "cell_type": "code",
   "execution_count": 52,
   "metadata": {},
   "outputs": [
    {
     "name": "stdout",
     "output_type": "stream",
     "text": [
      "<class 'pandas.core.frame.DataFrame'>\n",
      "RangeIndex: 10 entries, 0 to 9\n",
      "Data columns (total 13 columns):\n",
      " #   Column                    Non-Null Count  Dtype  \n",
      "---  ------                    --------------  -----  \n",
      " 0   reward                    10 non-null     int64  \n",
      " 1   difficulty                10 non-null     int64  \n",
      " 2   duration                  10 non-null     int64  \n",
      " 3   offer_id                  10 non-null     object \n",
      " 4   number_channels           10 non-null     int64  \n",
      " 5   web_flag                  10 non-null     int64  \n",
      " 6   mobile_flag               10 non-null     int64  \n",
      " 7   social_flag               10 non-null     int64  \n",
      " 8   difficulty_ratio          10 non-null     float64\n",
      " 9   reward_ratio              10 non-null     float64\n",
      " 10  offer_type_bogo           10 non-null     uint8  \n",
      " 11  offer_type_discount       10 non-null     uint8  \n",
      " 12  offer_type_informational  10 non-null     uint8  \n",
      "dtypes: float64(2), int64(7), object(1), uint8(3)\n",
      "memory usage: 958.0+ bytes\n"
     ]
    }
   ],
   "source": [
    "portfolio.info()"
   ]
  },
  {
   "cell_type": "code",
   "execution_count": 53,
   "metadata": {},
   "outputs": [
    {
     "data": {
      "text/html": [
       "<div>\n",
       "<style scoped>\n",
       "    .dataframe tbody tr th:only-of-type {\n",
       "        vertical-align: middle;\n",
       "    }\n",
       "\n",
       "    .dataframe tbody tr th {\n",
       "        vertical-align: top;\n",
       "    }\n",
       "\n",
       "    .dataframe thead th {\n",
       "        text-align: right;\n",
       "    }\n",
       "</style>\n",
       "<table border=\"1\" class=\"dataframe\">\n",
       "  <thead>\n",
       "    <tr style=\"text-align: right;\">\n",
       "      <th></th>\n",
       "      <th>person</th>\n",
       "      <th>offer_id</th>\n",
       "      <th>time</th>\n",
       "      <th>label</th>\n",
       "      <th>day</th>\n",
       "      <th>number_transaction_flag</th>\n",
       "      <th>number_offer_rflag</th>\n",
       "      <th>number_offer_vflag</th>\n",
       "      <th>number_offer_cflag</th>\n",
       "      <th>number_transaction_offer_flag</th>\n",
       "      <th>number_amount</th>\n",
       "      <th>number_amount_offer</th>\n",
       "      <th>offer_amount_ratio</th>\n",
       "      <th>offer_complete_ratio</th>\n",
       "    </tr>\n",
       "  </thead>\n",
       "  <tbody>\n",
       "    <tr>\n",
       "      <th>0</th>\n",
       "      <td>0009655768c64bdeb2e877511632db8f</td>\n",
       "      <td>2906b810c7d4411798c6938adc9daaa5</td>\n",
       "      <td>576</td>\n",
       "      <td>0</td>\n",
       "      <td>24.0</td>\n",
       "      <td>4.0</td>\n",
       "      <td>4.0</td>\n",
       "      <td>4.0</td>\n",
       "      <td>2.0</td>\n",
       "      <td>4.0</td>\n",
       "      <td>58.40</td>\n",
       "      <td>58.40</td>\n",
       "      <td>1.0</td>\n",
       "      <td>0.500000</td>\n",
       "    </tr>\n",
       "    <tr>\n",
       "      <th>1</th>\n",
       "      <td>0009655768c64bdeb2e877511632db8f</td>\n",
       "      <td>3f207df678b143eea3cee63160fa8bed</td>\n",
       "      <td>336</td>\n",
       "      <td>0</td>\n",
       "      <td>14.0</td>\n",
       "      <td>1.0</td>\n",
       "      <td>1.0</td>\n",
       "      <td>1.0</td>\n",
       "      <td>0.0</td>\n",
       "      <td>1.0</td>\n",
       "      <td>22.16</td>\n",
       "      <td>22.16</td>\n",
       "      <td>1.0</td>\n",
       "      <td>0.000000</td>\n",
       "    </tr>\n",
       "    <tr>\n",
       "      <th>2</th>\n",
       "      <td>0009655768c64bdeb2e877511632db8f</td>\n",
       "      <td>5a8bc65990b245e5a138643cd4eb9837</td>\n",
       "      <td>168</td>\n",
       "      <td>0</td>\n",
       "      <td>7.0</td>\n",
       "      <td>0.0</td>\n",
       "      <td>0.0</td>\n",
       "      <td>0.0</td>\n",
       "      <td>0.0</td>\n",
       "      <td>0.0</td>\n",
       "      <td>0.00</td>\n",
       "      <td>0.00</td>\n",
       "      <td>0.0</td>\n",
       "      <td>0.000000</td>\n",
       "    </tr>\n",
       "    <tr>\n",
       "      <th>3</th>\n",
       "      <td>0009655768c64bdeb2e877511632db8f</td>\n",
       "      <td>f19421c1d4aa40978ebb69ca19b0e20d</td>\n",
       "      <td>408</td>\n",
       "      <td>0</td>\n",
       "      <td>17.0</td>\n",
       "      <td>1.0</td>\n",
       "      <td>2.0</td>\n",
       "      <td>2.0</td>\n",
       "      <td>0.0</td>\n",
       "      <td>1.0</td>\n",
       "      <td>22.16</td>\n",
       "      <td>22.16</td>\n",
       "      <td>1.0</td>\n",
       "      <td>0.000000</td>\n",
       "    </tr>\n",
       "    <tr>\n",
       "      <th>4</th>\n",
       "      <td>0009655768c64bdeb2e877511632db8f</td>\n",
       "      <td>fafdcd668e3743c1bb461111dcafc2a4</td>\n",
       "      <td>504</td>\n",
       "      <td>0</td>\n",
       "      <td>21.0</td>\n",
       "      <td>2.0</td>\n",
       "      <td>3.0</td>\n",
       "      <td>3.0</td>\n",
       "      <td>1.0</td>\n",
       "      <td>2.0</td>\n",
       "      <td>30.73</td>\n",
       "      <td>30.73</td>\n",
       "      <td>1.0</td>\n",
       "      <td>0.333333</td>\n",
       "    </tr>\n",
       "  </tbody>\n",
       "</table>\n",
       "</div>"
      ],
      "text/plain": [
       "                             person                          offer_id  time  \\\n",
       "0  0009655768c64bdeb2e877511632db8f  2906b810c7d4411798c6938adc9daaa5   576   \n",
       "1  0009655768c64bdeb2e877511632db8f  3f207df678b143eea3cee63160fa8bed   336   \n",
       "2  0009655768c64bdeb2e877511632db8f  5a8bc65990b245e5a138643cd4eb9837   168   \n",
       "3  0009655768c64bdeb2e877511632db8f  f19421c1d4aa40978ebb69ca19b0e20d   408   \n",
       "4  0009655768c64bdeb2e877511632db8f  fafdcd668e3743c1bb461111dcafc2a4   504   \n",
       "\n",
       "   label   day  number_transaction_flag  number_offer_rflag  \\\n",
       "0      0  24.0                      4.0                 4.0   \n",
       "1      0  14.0                      1.0                 1.0   \n",
       "2      0   7.0                      0.0                 0.0   \n",
       "3      0  17.0                      1.0                 2.0   \n",
       "4      0  21.0                      2.0                 3.0   \n",
       "\n",
       "   number_offer_vflag  number_offer_cflag  number_transaction_offer_flag  \\\n",
       "0                 4.0                 2.0                            4.0   \n",
       "1                 1.0                 0.0                            1.0   \n",
       "2                 0.0                 0.0                            0.0   \n",
       "3                 2.0                 0.0                            1.0   \n",
       "4                 3.0                 1.0                            2.0   \n",
       "\n",
       "   number_amount  number_amount_offer  offer_amount_ratio  \\\n",
       "0          58.40                58.40                 1.0   \n",
       "1          22.16                22.16                 1.0   \n",
       "2           0.00                 0.00                 0.0   \n",
       "3          22.16                22.16                 1.0   \n",
       "4          30.73                30.73                 1.0   \n",
       "\n",
       "   offer_complete_ratio  \n",
       "0              0.500000  \n",
       "1              0.000000  \n",
       "2              0.000000  \n",
       "3              0.000000  \n",
       "4              0.333333  "
      ]
     },
     "execution_count": 53,
     "metadata": {},
     "output_type": "execute_result"
    }
   ],
   "source": [
    "final_data.head()"
   ]
  },
  {
   "cell_type": "code",
   "execution_count": null,
   "metadata": {},
   "outputs": [],
   "source": []
  },
  {
   "cell_type": "code",
   "execution_count": 54,
   "metadata": {},
   "outputs": [],
   "source": [
    "profile.rename(columns = {'id':'person'},inplace = True)\n",
    "final_data = final_data.merge(profile,how = 'left', on = 'person').\\\n",
    "merge(portfolio,how = 'left', on = 'offer_id')"
   ]
  },
  {
   "cell_type": "code",
   "execution_count": 55,
   "metadata": {},
   "outputs": [
    {
     "data": {
      "text/html": [
       "<div>\n",
       "<style scoped>\n",
       "    .dataframe tbody tr th:only-of-type {\n",
       "        vertical-align: middle;\n",
       "    }\n",
       "\n",
       "    .dataframe tbody tr th {\n",
       "        vertical-align: top;\n",
       "    }\n",
       "\n",
       "    .dataframe thead th {\n",
       "        text-align: right;\n",
       "    }\n",
       "</style>\n",
       "<table border=\"1\" class=\"dataframe\">\n",
       "  <thead>\n",
       "    <tr style=\"text-align: right;\">\n",
       "      <th></th>\n",
       "      <th>person</th>\n",
       "      <th>offer_id</th>\n",
       "      <th>time</th>\n",
       "      <th>label</th>\n",
       "      <th>day</th>\n",
       "      <th>number_transaction_flag</th>\n",
       "      <th>number_offer_rflag</th>\n",
       "      <th>number_offer_vflag</th>\n",
       "      <th>number_offer_cflag</th>\n",
       "      <th>number_transaction_offer_flag</th>\n",
       "      <th>...</th>\n",
       "      <th>duration</th>\n",
       "      <th>number_channels</th>\n",
       "      <th>web_flag</th>\n",
       "      <th>mobile_flag</th>\n",
       "      <th>social_flag</th>\n",
       "      <th>difficulty_ratio</th>\n",
       "      <th>reward_ratio</th>\n",
       "      <th>offer_type_bogo</th>\n",
       "      <th>offer_type_discount</th>\n",
       "      <th>offer_type_informational</th>\n",
       "    </tr>\n",
       "  </thead>\n",
       "  <tbody>\n",
       "    <tr>\n",
       "      <th>0</th>\n",
       "      <td>0009655768c64bdeb2e877511632db8f</td>\n",
       "      <td>2906b810c7d4411798c6938adc9daaa5</td>\n",
       "      <td>576</td>\n",
       "      <td>0</td>\n",
       "      <td>24.0</td>\n",
       "      <td>4.0</td>\n",
       "      <td>4.0</td>\n",
       "      <td>4.0</td>\n",
       "      <td>2.0</td>\n",
       "      <td>4.0</td>\n",
       "      <td>...</td>\n",
       "      <td>7</td>\n",
       "      <td>3</td>\n",
       "      <td>1</td>\n",
       "      <td>1</td>\n",
       "      <td>0</td>\n",
       "      <td>1.428571</td>\n",
       "      <td>0.2</td>\n",
       "      <td>0</td>\n",
       "      <td>1</td>\n",
       "      <td>0</td>\n",
       "    </tr>\n",
       "    <tr>\n",
       "      <th>1</th>\n",
       "      <td>0009655768c64bdeb2e877511632db8f</td>\n",
       "      <td>3f207df678b143eea3cee63160fa8bed</td>\n",
       "      <td>336</td>\n",
       "      <td>0</td>\n",
       "      <td>14.0</td>\n",
       "      <td>1.0</td>\n",
       "      <td>1.0</td>\n",
       "      <td>1.0</td>\n",
       "      <td>0.0</td>\n",
       "      <td>1.0</td>\n",
       "      <td>...</td>\n",
       "      <td>4</td>\n",
       "      <td>3</td>\n",
       "      <td>1</td>\n",
       "      <td>1</td>\n",
       "      <td>0</td>\n",
       "      <td>0.000000</td>\n",
       "      <td>0.0</td>\n",
       "      <td>0</td>\n",
       "      <td>0</td>\n",
       "      <td>1</td>\n",
       "    </tr>\n",
       "    <tr>\n",
       "      <th>2</th>\n",
       "      <td>0009655768c64bdeb2e877511632db8f</td>\n",
       "      <td>5a8bc65990b245e5a138643cd4eb9837</td>\n",
       "      <td>168</td>\n",
       "      <td>0</td>\n",
       "      <td>7.0</td>\n",
       "      <td>0.0</td>\n",
       "      <td>0.0</td>\n",
       "      <td>0.0</td>\n",
       "      <td>0.0</td>\n",
       "      <td>0.0</td>\n",
       "      <td>...</td>\n",
       "      <td>3</td>\n",
       "      <td>3</td>\n",
       "      <td>0</td>\n",
       "      <td>1</td>\n",
       "      <td>1</td>\n",
       "      <td>0.000000</td>\n",
       "      <td>0.0</td>\n",
       "      <td>0</td>\n",
       "      <td>0</td>\n",
       "      <td>1</td>\n",
       "    </tr>\n",
       "    <tr>\n",
       "      <th>3</th>\n",
       "      <td>0009655768c64bdeb2e877511632db8f</td>\n",
       "      <td>f19421c1d4aa40978ebb69ca19b0e20d</td>\n",
       "      <td>408</td>\n",
       "      <td>0</td>\n",
       "      <td>17.0</td>\n",
       "      <td>1.0</td>\n",
       "      <td>2.0</td>\n",
       "      <td>2.0</td>\n",
       "      <td>0.0</td>\n",
       "      <td>1.0</td>\n",
       "      <td>...</td>\n",
       "      <td>5</td>\n",
       "      <td>4</td>\n",
       "      <td>1</td>\n",
       "      <td>1</td>\n",
       "      <td>1</td>\n",
       "      <td>1.000000</td>\n",
       "      <td>1.0</td>\n",
       "      <td>1</td>\n",
       "      <td>0</td>\n",
       "      <td>0</td>\n",
       "    </tr>\n",
       "    <tr>\n",
       "      <th>4</th>\n",
       "      <td>0009655768c64bdeb2e877511632db8f</td>\n",
       "      <td>fafdcd668e3743c1bb461111dcafc2a4</td>\n",
       "      <td>504</td>\n",
       "      <td>0</td>\n",
       "      <td>21.0</td>\n",
       "      <td>2.0</td>\n",
       "      <td>3.0</td>\n",
       "      <td>3.0</td>\n",
       "      <td>1.0</td>\n",
       "      <td>2.0</td>\n",
       "      <td>...</td>\n",
       "      <td>10</td>\n",
       "      <td>4</td>\n",
       "      <td>1</td>\n",
       "      <td>1</td>\n",
       "      <td>1</td>\n",
       "      <td>1.000000</td>\n",
       "      <td>0.2</td>\n",
       "      <td>0</td>\n",
       "      <td>1</td>\n",
       "      <td>0</td>\n",
       "    </tr>\n",
       "  </tbody>\n",
       "</table>\n",
       "<p>5 rows × 32 columns</p>\n",
       "</div>"
      ],
      "text/plain": [
       "                             person                          offer_id  time  \\\n",
       "0  0009655768c64bdeb2e877511632db8f  2906b810c7d4411798c6938adc9daaa5   576   \n",
       "1  0009655768c64bdeb2e877511632db8f  3f207df678b143eea3cee63160fa8bed   336   \n",
       "2  0009655768c64bdeb2e877511632db8f  5a8bc65990b245e5a138643cd4eb9837   168   \n",
       "3  0009655768c64bdeb2e877511632db8f  f19421c1d4aa40978ebb69ca19b0e20d   408   \n",
       "4  0009655768c64bdeb2e877511632db8f  fafdcd668e3743c1bb461111dcafc2a4   504   \n",
       "\n",
       "   label   day  number_transaction_flag  number_offer_rflag  \\\n",
       "0      0  24.0                      4.0                 4.0   \n",
       "1      0  14.0                      1.0                 1.0   \n",
       "2      0   7.0                      0.0                 0.0   \n",
       "3      0  17.0                      1.0                 2.0   \n",
       "4      0  21.0                      2.0                 3.0   \n",
       "\n",
       "   number_offer_vflag  number_offer_cflag  number_transaction_offer_flag  ...  \\\n",
       "0                 4.0                 2.0                            4.0  ...   \n",
       "1                 1.0                 0.0                            1.0  ...   \n",
       "2                 0.0                 0.0                            0.0  ...   \n",
       "3                 2.0                 0.0                            1.0  ...   \n",
       "4                 3.0                 1.0                            2.0  ...   \n",
       "\n",
       "   duration  number_channels  web_flag  mobile_flag  social_flag  \\\n",
       "0         7                3         1            1            0   \n",
       "1         4                3         1            1            0   \n",
       "2         3                3         0            1            1   \n",
       "3         5                4         1            1            1   \n",
       "4        10                4         1            1            1   \n",
       "\n",
       "   difficulty_ratio  reward_ratio  offer_type_bogo  offer_type_discount  \\\n",
       "0          1.428571           0.2                0                    1   \n",
       "1          0.000000           0.0                0                    0   \n",
       "2          0.000000           0.0                0                    0   \n",
       "3          1.000000           1.0                1                    0   \n",
       "4          1.000000           0.2                0                    1   \n",
       "\n",
       "   offer_type_informational  \n",
       "0                         0  \n",
       "1                         1  \n",
       "2                         1  \n",
       "3                         0  \n",
       "4                         0  \n",
       "\n",
       "[5 rows x 32 columns]"
      ]
     },
     "execution_count": 55,
     "metadata": {},
     "output_type": "execute_result"
    }
   ],
   "source": [
    "final_data.head()"
   ]
  },
  {
   "cell_type": "code",
   "execution_count": 56,
   "metadata": {},
   "outputs": [
    {
     "name": "stdout",
     "output_type": "stream",
     "text": [
      "<class 'pandas.core.frame.DataFrame'>\n",
      "Int64Index: 59083 entries, 0 to 59082\n",
      "Data columns (total 32 columns):\n",
      " #   Column                         Non-Null Count  Dtype  \n",
      "---  ------                         --------------  -----  \n",
      " 0   person                         59083 non-null  object \n",
      " 1   offer_id                       59083 non-null  object \n",
      " 2   time                           59083 non-null  int64  \n",
      " 3   label                          59083 non-null  int64  \n",
      " 4   day                            59083 non-null  float64\n",
      " 5   number_transaction_flag        59083 non-null  float64\n",
      " 6   number_offer_rflag             59083 non-null  float64\n",
      " 7   number_offer_vflag             59083 non-null  float64\n",
      " 8   number_offer_cflag             59083 non-null  float64\n",
      " 9   number_transaction_offer_flag  59083 non-null  float64\n",
      " 10  number_amount                  59083 non-null  float64\n",
      " 11  number_amount_offer            59083 non-null  float64\n",
      " 12  offer_amount_ratio             59083 non-null  float64\n",
      " 13  offer_complete_ratio           59083 non-null  float64\n",
      " 14  age                            59083 non-null  float64\n",
      " 15  income                         59083 non-null  float64\n",
      " 16  membership_days                59083 non-null  int64  \n",
      " 17  gender_F                       59083 non-null  uint8  \n",
      " 18  gender_M                       59083 non-null  uint8  \n",
      " 19  gender_O                       59083 non-null  uint8  \n",
      " 20  reward                         59083 non-null  int64  \n",
      " 21  difficulty                     59083 non-null  int64  \n",
      " 22  duration                       59083 non-null  int64  \n",
      " 23  number_channels                59083 non-null  int64  \n",
      " 24  web_flag                       59083 non-null  int64  \n",
      " 25  mobile_flag                    59083 non-null  int64  \n",
      " 26  social_flag                    59083 non-null  int64  \n",
      " 27  difficulty_ratio               59083 non-null  float64\n",
      " 28  reward_ratio                   59083 non-null  float64\n",
      " 29  offer_type_bogo                59083 non-null  uint8  \n",
      " 30  offer_type_discount            59083 non-null  uint8  \n",
      " 31  offer_type_informational       59083 non-null  uint8  \n",
      "dtypes: float64(14), int64(10), object(2), uint8(6)\n",
      "memory usage: 12.5+ MB\n"
     ]
    }
   ],
   "source": [
    "final_data.info()"
   ]
  },
  {
   "cell_type": "code",
   "execution_count": 57,
   "metadata": {},
   "outputs": [],
   "source": [
    "#splitting into train and test\n",
    "from sklearn.model_selection import train_test_split\n",
    "#X=final_data.drop(['customer_id','is_returning_customer'],axis=1)\n",
    "y=final_data['label']\n",
    "df_train,df_test=train_test_split(final_data, test_size=0.33,random_state=0,stratify = y)\n",
    "X_train = df_train.drop(['person','offer_id','time','day','label'],axis = 1)\n",
    "y_train = df_train['label']\n",
    "X_test = df_test.drop(['person','offer_id','time','day','label'],axis = 1)\n",
    "y_test = df_test['label']"
   ]
  },
  {
   "cell_type": "code",
   "execution_count": 58,
   "metadata": {},
   "outputs": [
    {
     "data": {
      "text/plain": [
       "0    12445\n",
       "1     7053\n",
       "Name: label, dtype: int64"
      ]
     },
     "execution_count": 58,
     "metadata": {},
     "output_type": "execute_result"
    }
   ],
   "source": [
    "df_test['label'].value_counts()"
   ]
  },
  {
   "cell_type": "code",
   "execution_count": 59,
   "metadata": {},
   "outputs": [
    {
     "data": {
      "text/plain": [
       "1.764497377002694"
      ]
     },
     "execution_count": 59,
     "metadata": {},
     "output_type": "execute_result"
    }
   ],
   "source": [
    "12445/7053"
   ]
  },
  {
   "cell_type": "code",
   "execution_count": 60,
   "metadata": {},
   "outputs": [
    {
     "data": {
      "text/plain": [
       "RandomForestClassifier(class_weight={0: 1, 1: 2}, max_depth=8, max_features=0.5,\n",
       "                       min_samples_leaf=10, n_estimators=400, random_state=42)"
      ]
     },
     "execution_count": 60,
     "metadata": {},
     "output_type": "execute_result"
    }
   ],
   "source": [
    "from sklearn.ensemble import RandomForestClassifier\n",
    "from sklearn.metrics import precision_score, make_scorer\n",
    "custom_scorer = make_scorer(precision_score, greater_is_better=True,  pos_label=1)\n",
    "param_search = {'max_depth': [5,8],\n",
    "                'max_features': [0.5,0.8],\n",
    "                'n_estimators': [100, 400],\n",
    "                'min_samples_leaf': [10],\n",
    "                'random_state': [42],\n",
    "                'class_weight' : [{1:2,0:1}]}\n",
    "\n",
    "filename = 'finalized_model_rf.sav'\n",
    "base_path = Path.cwd()\n",
    "\n",
    "path = base_path.joinpath(filename)\n",
    "if os.path.exists(path):\n",
    "    clf = pickle.load(open(filename, 'rb'))\n",
    "else:\n",
    "    #grid search hyperparameter tuning imported from ml_utils.py\n",
    "    clf = ml_utils.random_forest_model(X_train, y_train, cross_validation=True, n_splits=3, param_search=param_search, scoring=custom_scorer)\n",
    "    pickle.dump(clf, open(filename, 'wb'))\n",
    "\n",
    "\n",
    "clf.fit(X_train,y_train)"
   ]
  },
  {
   "cell_type": "code",
   "execution_count": 61,
   "metadata": {},
   "outputs": [
    {
     "name": "stdout",
     "output_type": "stream",
     "text": [
      "Train score :  0.7670077049387394\n",
      "Test score :  0.7613088521899682\n"
     ]
    }
   ],
   "source": [
    "y_predicted=clf.predict(X_test)\n",
    "print(\"Train score : \",clf.score(X_train,y_train))\n",
    "print(\"Test score : \", clf.score(X_test,y_test))"
   ]
  },
  {
   "cell_type": "code",
   "execution_count": 62,
   "metadata": {},
   "outputs": [
    {
     "name": "stdout",
     "output_type": "stream",
     "text": [
      "              precision    recall  f1-score   support\n",
      "\n",
      "           0       0.91      0.70      0.79     12445\n",
      "           1       0.62      0.87      0.73      7053\n",
      "\n",
      "    accuracy                           0.76     19498\n",
      "   macro avg       0.76      0.79      0.76     19498\n",
      "weighted avg       0.80      0.76      0.77     19498\n",
      "\n"
     ]
    }
   ],
   "source": [
    "#Evaluation\n",
    "from sklearn.metrics import classification_report\n",
    "print(classification_report(y_test,y_predicted))\n"
   ]
  },
  {
   "cell_type": "code",
   "execution_count": 63,
   "metadata": {},
   "outputs": [
    {
     "name": "stdout",
     "output_type": "stream",
     "text": [
      "AUC score is 0.868872487406235\n"
     ]
    }
   ],
   "source": [
    "from sklearn.metrics import roc_auc_score\n",
    "print(\"AUC score is %s\" % (roc_auc_score(y_test, clf.predict_proba(X_test.values)[:, 1])))"
   ]
  },
  {
   "cell_type": "code",
   "execution_count": 64,
   "metadata": {},
   "outputs": [
    {
     "data": {
      "text/plain": [
       "array([[8702, 3743],\n",
       "       [ 911, 6142]])"
      ]
     },
     "execution_count": 64,
     "metadata": {},
     "output_type": "execute_result"
    }
   ],
   "source": [
    "from sklearn.metrics import confusion_matrix\n",
    "confusion_matrix(y_test,y_predicted)"
   ]
  },
  {
   "cell_type": "code",
   "execution_count": 65,
   "metadata": {},
   "outputs": [
    {
     "data": {
      "text/html": [
       "<div>\n",
       "<style scoped>\n",
       "    .dataframe tbody tr th:only-of-type {\n",
       "        vertical-align: middle;\n",
       "    }\n",
       "\n",
       "    .dataframe tbody tr th {\n",
       "        vertical-align: top;\n",
       "    }\n",
       "\n",
       "    .dataframe thead th {\n",
       "        text-align: right;\n",
       "    }\n",
       "</style>\n",
       "<table border=\"1\" class=\"dataframe\">\n",
       "  <thead>\n",
       "    <tr style=\"text-align: right;\">\n",
       "      <th></th>\n",
       "      <th>Information Gain</th>\n",
       "    </tr>\n",
       "  </thead>\n",
       "  <tbody>\n",
       "    <tr>\n",
       "      <th>reward</th>\n",
       "      <td>0.105976</td>\n",
       "    </tr>\n",
       "    <tr>\n",
       "      <th>difficulty_ratio</th>\n",
       "      <td>0.102593</td>\n",
       "    </tr>\n",
       "    <tr>\n",
       "      <th>reward_ratio</th>\n",
       "      <td>0.093406</td>\n",
       "    </tr>\n",
       "    <tr>\n",
       "      <th>duration</th>\n",
       "      <td>0.093212</td>\n",
       "    </tr>\n",
       "    <tr>\n",
       "      <th>difficulty</th>\n",
       "      <td>0.089643</td>\n",
       "    </tr>\n",
       "    <tr>\n",
       "      <th>membership_days</th>\n",
       "      <td>0.081227</td>\n",
       "    </tr>\n",
       "    <tr>\n",
       "      <th>offer_type_informational</th>\n",
       "      <td>0.076226</td>\n",
       "    </tr>\n",
       "    <tr>\n",
       "      <th>number_amount</th>\n",
       "      <td>0.069476</td>\n",
       "    </tr>\n",
       "    <tr>\n",
       "      <th>number_channels</th>\n",
       "      <td>0.061761</td>\n",
       "    </tr>\n",
       "    <tr>\n",
       "      <th>income</th>\n",
       "      <td>0.044096</td>\n",
       "    </tr>\n",
       "    <tr>\n",
       "      <th>gender_O</th>\n",
       "      <td>0.040528</td>\n",
       "    </tr>\n",
       "    <tr>\n",
       "      <th>number_amount_offer</th>\n",
       "      <td>0.026778</td>\n",
       "    </tr>\n",
       "    <tr>\n",
       "      <th>social_flag</th>\n",
       "      <td>0.021881</td>\n",
       "    </tr>\n",
       "    <tr>\n",
       "      <th>number_transaction_flag</th>\n",
       "      <td>0.016748</td>\n",
       "    </tr>\n",
       "    <tr>\n",
       "      <th>number_transaction_offer_flag</th>\n",
       "      <td>0.011946</td>\n",
       "    </tr>\n",
       "    <tr>\n",
       "      <th>offer_type_bogo</th>\n",
       "      <td>0.010882</td>\n",
       "    </tr>\n",
       "    <tr>\n",
       "      <th>number_offer_rflag</th>\n",
       "      <td>0.010737</td>\n",
       "    </tr>\n",
       "    <tr>\n",
       "      <th>offer_type_discount</th>\n",
       "      <td>0.009175</td>\n",
       "    </tr>\n",
       "    <tr>\n",
       "      <th>age</th>\n",
       "      <td>0.008314</td>\n",
       "    </tr>\n",
       "    <tr>\n",
       "      <th>gender_F</th>\n",
       "      <td>0.006500</td>\n",
       "    </tr>\n",
       "    <tr>\n",
       "      <th>offer_complete_ratio</th>\n",
       "      <td>0.004482</td>\n",
       "    </tr>\n",
       "    <tr>\n",
       "      <th>offer_amount_ratio</th>\n",
       "      <td>0.003443</td>\n",
       "    </tr>\n",
       "    <tr>\n",
       "      <th>number_offer_vflag</th>\n",
       "      <td>0.002953</td>\n",
       "    </tr>\n",
       "    <tr>\n",
       "      <th>gender_M</th>\n",
       "      <td>0.002237</td>\n",
       "    </tr>\n",
       "    <tr>\n",
       "      <th>number_offer_cflag</th>\n",
       "      <td>0.002199</td>\n",
       "    </tr>\n",
       "    <tr>\n",
       "      <th>mobile_flag</th>\n",
       "      <td>0.001866</td>\n",
       "    </tr>\n",
       "    <tr>\n",
       "      <th>web_flag</th>\n",
       "      <td>0.001714</td>\n",
       "    </tr>\n",
       "  </tbody>\n",
       "</table>\n",
       "</div>"
      ],
      "text/plain": [
       "                               Information Gain\n",
       "reward                                 0.105976\n",
       "difficulty_ratio                       0.102593\n",
       "reward_ratio                           0.093406\n",
       "duration                               0.093212\n",
       "difficulty                             0.089643\n",
       "membership_days                        0.081227\n",
       "offer_type_informational               0.076226\n",
       "number_amount                          0.069476\n",
       "number_channels                        0.061761\n",
       "income                                 0.044096\n",
       "gender_O                               0.040528\n",
       "number_amount_offer                    0.026778\n",
       "social_flag                            0.021881\n",
       "number_transaction_flag                0.016748\n",
       "number_transaction_offer_flag          0.011946\n",
       "offer_type_bogo                        0.010882\n",
       "number_offer_rflag                     0.010737\n",
       "offer_type_discount                    0.009175\n",
       "age                                    0.008314\n",
       "gender_F                               0.006500\n",
       "offer_complete_ratio                   0.004482\n",
       "offer_amount_ratio                     0.003443\n",
       "number_offer_vflag                     0.002953\n",
       "gender_M                               0.002237\n",
       "number_offer_cflag                     0.002199\n",
       "mobile_flag                            0.001866\n",
       "web_flag                               0.001714"
      ]
     },
     "execution_count": 65,
     "metadata": {},
     "output_type": "execute_result"
    }
   ],
   "source": [
    "feats = {} # a dict to hold feature_name: feature_importance\n",
    "for feature, importance in zip(X_train.columns, clf.feature_importances_):\n",
    "    feats[feature] = importance #add the name/value pair \n",
    "\n",
    "importances = pd.DataFrame.from_dict(feats, orient='index').rename(columns={0: 'Information Gain'})\n",
    "importances = importances.sort_values(by='Information Gain',ascending=False)\n",
    "importances"
   ]
  },
  {
   "cell_type": "code",
   "execution_count": 66,
   "metadata": {},
   "outputs": [
    {
     "data": {
      "text/plain": [
       "Text(0.5, 1.0, ' Feature Importance')"
      ]
     },
     "execution_count": 66,
     "metadata": {},
     "output_type": "execute_result"
    },
    {
     "data": {
      "image/png": "[encoded data removed]",
      "text/plain": [
       "<Figure size 432x432 with 1 Axes>"
      ]
     },
     "metadata": {
      "needs_background": "light"
     },
     "output_type": "display_data"
    }
   ],
   "source": [
    "fig,axes = plt.subplots(figsize =(6,6))\n",
    "importances.head(10).plot(kind='barh', ax = axes)\n",
    "axes.set_title(\" Feature Importance\")"
   ]
  },
  {
   "cell_type": "code",
   "execution_count": 67,
   "metadata": {},
   "outputs": [],
   "source": [
    "df_test = df_test.reset_index(drop = True).copy()\n",
    "df_test['y_predicted'] = y_predicted\n",
    "df_test['mis_classified'] = np.where(df_test['y_predicted'] != df_test['label'],1,0)\n",
    "df_test = df_test[df_test['label'] == 0].reset_index(drop = True)"
   ]
  },
  {
   "cell_type": "code",
   "execution_count": 68,
   "metadata": {},
   "outputs": [
    {
     "data": {
      "image/png": "[encoded data removed]",
      "text/plain": [
       "<Figure size 720x360 with 1 Axes>"
      ]
     },
     "metadata": {
      "needs_background": "light"
     },
     "output_type": "display_data"
    }
   ],
   "source": [
    "fig,axes=plt.subplots(figsize=(10,5))\n",
    "sns.boxplot(data=df_test,x='mis_classified',y='reward',palette='rainbow')\n",
    "plt.tight_layout()"
   ]
  },
  {
   "cell_type": "code",
   "execution_count": 69,
   "metadata": {},
   "outputs": [
    {
     "data": {
      "image/png": "[encoded data removed]",
      "text/plain": [
       "<Figure size 720x360 with 1 Axes>"
      ]
     },
     "metadata": {
      "needs_background": "light"
     },
     "output_type": "display_data"
    }
   ],
   "source": [
    "fig,axes=plt.subplots(figsize=(10,5))\n",
    "sns.boxplot(data=df_test,x='mis_classified',y='difficulty_ratio',palette='rainbow')\n",
    "plt.tight_layout()"
   ]
  },
  {
   "cell_type": "code",
   "execution_count": 70,
   "metadata": {},
   "outputs": [
    {
     "data": {
      "image/png": "[encoded data removed]",
      "text/plain": [
       "<Figure size 720x360 with 1 Axes>"
      ]
     },
     "metadata": {
      "needs_background": "light"
     },
     "output_type": "display_data"
    }
   ],
   "source": [
    "fig,axes=plt.subplots(figsize=(10,5))\n",
    "sns.boxplot(data=df_test,x='mis_classified',y='income',palette='rainbow')\n",
    "plt.tight_layout()"
   ]
  },
  {
   "cell_type": "code",
   "execution_count": 71,
   "metadata": {},
   "outputs": [
    {
     "data": {
      "image/png": "[encoded data removed]",
      "text/plain": [
       "<Figure size 720x360 with 1 Axes>"
      ]
     },
     "metadata": {
      "needs_background": "light"
     },
     "output_type": "display_data"
    }
   ],
   "source": [
    "fig,axes=plt.subplots(figsize=(10,5))\n",
    "sns.boxplot(data=df_test,x='mis_classified',y='age',palette='rainbow')\n",
    "plt.tight_layout()"
   ]
  },
  {
   "cell_type": "code",
   "execution_count": 72,
   "metadata": {},
   "outputs": [
    {
     "data": {
      "image/png": "[encoded data removed]",
      "text/plain": [
       "<Figure size 720x360 with 1 Axes>"
      ]
     },
     "metadata": {
      "needs_background": "light"
     },
     "output_type": "display_data"
    }
   ],
   "source": [
    "fig,axes=plt.subplots(figsize=(10,5))\n",
    "sns.boxplot(data=df_test,x='mis_classified',y='number_transaction_flag',palette='rainbow')\n",
    "plt.tight_layout()"
   ]
  },
  {
   "cell_type": "code",
   "execution_count": 73,
   "metadata": {},
   "outputs": [],
   "source": [
    "offer_completed= transcript[transcript['event'] == 'offer completed'][['person','value','time']].copy().reset_index(drop = True)\n",
    "offer_completed['offer_id'] = offer_completed['value'].apply(lambda x: x.get('offer_id'))"
   ]
  },
  {
   "cell_type": "code",
   "execution_count": 74,
   "metadata": {},
   "outputs": [
    {
     "name": "stdout",
     "output_type": "stream",
     "text": [
      "<class 'pandas.core.frame.DataFrame'>\n",
      "RangeIndex: 12445 entries, 0 to 12444\n",
      "Data columns (total 34 columns):\n",
      " #   Column                         Non-Null Count  Dtype  \n",
      "---  ------                         --------------  -----  \n",
      " 0   person                         12445 non-null  object \n",
      " 1   offer_id                       12445 non-null  object \n",
      " 2   time                           12445 non-null  int64  \n",
      " 3   label                          12445 non-null  int64  \n",
      " 4   day                            12445 non-null  float64\n",
      " 5   number_transaction_flag        12445 non-null  float64\n",
      " 6   number_offer_rflag             12445 non-null  float64\n",
      " 7   number_offer_vflag             12445 non-null  float64\n",
      " 8   number_offer_cflag             12445 non-null  float64\n",
      " 9   number_transaction_offer_flag  12445 non-null  float64\n",
      " 10  number_amount                  12445 non-null  float64\n",
      " 11  number_amount_offer            12445 non-null  float64\n",
      " 12  offer_amount_ratio             12445 non-null  float64\n",
      " 13  offer_complete_ratio           12445 non-null  float64\n",
      " 14  age                            12445 non-null  float64\n",
      " 15  income                         12445 non-null  float64\n",
      " 16  membership_days                12445 non-null  int64  \n",
      " 17  gender_F                       12445 non-null  uint8  \n",
      " 18  gender_M                       12445 non-null  uint8  \n",
      " 19  gender_O                       12445 non-null  uint8  \n",
      " 20  reward                         12445 non-null  int64  \n",
      " 21  difficulty                     12445 non-null  int64  \n",
      " 22  duration                       12445 non-null  int64  \n",
      " 23  number_channels                12445 non-null  int64  \n",
      " 24  web_flag                       12445 non-null  int64  \n",
      " 25  mobile_flag                    12445 non-null  int64  \n",
      " 26  social_flag                    12445 non-null  int64  \n",
      " 27  difficulty_ratio               12445 non-null  float64\n",
      " 28  reward_ratio                   12445 non-null  float64\n",
      " 29  offer_type_bogo                12445 non-null  uint8  \n",
      " 30  offer_type_discount            12445 non-null  uint8  \n",
      " 31  offer_type_informational       12445 non-null  uint8  \n",
      " 32  y_predicted                    12445 non-null  int64  \n",
      " 33  mis_classified                 12445 non-null  int64  \n",
      "dtypes: float64(14), int64(12), object(2), uint8(6)\n",
      "memory usage: 2.7+ MB\n"
     ]
    }
   ],
   "source": [
    "df_test.info()"
   ]
  },
  {
   "cell_type": "code",
   "execution_count": 75,
   "metadata": {},
   "outputs": [
    {
     "data": {
      "text/plain": [
       "0    3743\n",
       "Name: label, dtype: int64"
      ]
     },
     "execution_count": 75,
     "metadata": {},
     "output_type": "execute_result"
    }
   ],
   "source": [
    "df_test = df_test[df_test['mis_classified'] == 1].reset_index(drop = True).copy()\n",
    "df_test['label'].value_counts()"
   ]
  },
  {
   "cell_type": "code",
   "execution_count": 76,
   "metadata": {},
   "outputs": [
    {
     "data": {
      "text/html": [
       "<div>\n",
       "<style scoped>\n",
       "    .dataframe tbody tr th:only-of-type {\n",
       "        vertical-align: middle;\n",
       "    }\n",
       "\n",
       "    .dataframe tbody tr th {\n",
       "        vertical-align: top;\n",
       "    }\n",
       "\n",
       "    .dataframe thead th {\n",
       "        text-align: right;\n",
       "    }\n",
       "</style>\n",
       "<table border=\"1\" class=\"dataframe\">\n",
       "  <thead>\n",
       "    <tr style=\"text-align: right;\">\n",
       "      <th></th>\n",
       "      <th>person</th>\n",
       "      <th>value</th>\n",
       "      <th>time</th>\n",
       "      <th>offer_id</th>\n",
       "    </tr>\n",
       "  </thead>\n",
       "  <tbody>\n",
       "    <tr>\n",
       "      <th>0</th>\n",
       "      <td>9fa9ae8f57894cc9a3b8a9bbe0fc1b2f</td>\n",
       "      <td>{'offer_id': '2906b810c7d4411798c6938adc9daaa5...</td>\n",
       "      <td>0</td>\n",
       "      <td>2906b810c7d4411798c6938adc9daaa5</td>\n",
       "    </tr>\n",
       "    <tr>\n",
       "      <th>1</th>\n",
       "      <td>fe97aa22dd3e48c8b143116a8403dd52</td>\n",
       "      <td>{'offer_id': 'fafdcd668e3743c1bb461111dcafc2a4...</td>\n",
       "      <td>0</td>\n",
       "      <td>fafdcd668e3743c1bb461111dcafc2a4</td>\n",
       "    </tr>\n",
       "    <tr>\n",
       "      <th>2</th>\n",
       "      <td>629fc02d56414d91bca360decdfa9288</td>\n",
       "      <td>{'offer_id': '9b98b8c7a33c4b65b9aebfe6a799e6d9...</td>\n",
       "      <td>0</td>\n",
       "      <td>9b98b8c7a33c4b65b9aebfe6a799e6d9</td>\n",
       "    </tr>\n",
       "    <tr>\n",
       "      <th>3</th>\n",
       "      <td>676506bad68e4161b9bbaffeb039626b</td>\n",
       "      <td>{'offer_id': 'ae264e3637204a6fb9bb56bc8210ddfd...</td>\n",
       "      <td>0</td>\n",
       "      <td>ae264e3637204a6fb9bb56bc8210ddfd</td>\n",
       "    </tr>\n",
       "    <tr>\n",
       "      <th>4</th>\n",
       "      <td>8f7dd3b2afe14c078eb4f6e6fe4ba97d</td>\n",
       "      <td>{'offer_id': '4d5c57ea9a6940dd891ad53e9dbe8da0...</td>\n",
       "      <td>0</td>\n",
       "      <td>4d5c57ea9a6940dd891ad53e9dbe8da0</td>\n",
       "    </tr>\n",
       "  </tbody>\n",
       "</table>\n",
       "</div>"
      ],
      "text/plain": [
       "                             person  \\\n",
       "0  9fa9ae8f57894cc9a3b8a9bbe0fc1b2f   \n",
       "1  fe97aa22dd3e48c8b143116a8403dd52   \n",
       "2  629fc02d56414d91bca360decdfa9288   \n",
       "3  676506bad68e4161b9bbaffeb039626b   \n",
       "4  8f7dd3b2afe14c078eb4f6e6fe4ba97d   \n",
       "\n",
       "                                               value  time  \\\n",
       "0  {'offer_id': '2906b810c7d4411798c6938adc9daaa5...     0   \n",
       "1  {'offer_id': 'fafdcd668e3743c1bb461111dcafc2a4...     0   \n",
       "2  {'offer_id': '9b98b8c7a33c4b65b9aebfe6a799e6d9...     0   \n",
       "3  {'offer_id': 'ae264e3637204a6fb9bb56bc8210ddfd...     0   \n",
       "4  {'offer_id': '4d5c57ea9a6940dd891ad53e9dbe8da0...     0   \n",
       "\n",
       "                           offer_id  \n",
       "0  2906b810c7d4411798c6938adc9daaa5  \n",
       "1  fafdcd668e3743c1bb461111dcafc2a4  \n",
       "2  9b98b8c7a33c4b65b9aebfe6a799e6d9  \n",
       "3  ae264e3637204a6fb9bb56bc8210ddfd  \n",
       "4  4d5c57ea9a6940dd891ad53e9dbe8da0  "
      ]
     },
     "execution_count": 76,
     "metadata": {},
     "output_type": "execute_result"
    }
   ],
   "source": [
    "offer_completed.head()"
   ]
  },
  {
   "cell_type": "code",
   "execution_count": 79,
   "metadata": {},
   "outputs": [
    {
     "ename": "ValueError",
     "evalue": "len(left_on) must equal the number of levels in the index of \"right\"",
     "output_type": "error",
     "traceback": [
      "\u001b[0;31m---------------------------------------------------------------------------\u001b[0m",
      "\u001b[0;31mValueError\u001b[0m                                Traceback (most recent call last)",
      "\u001b[0;32m<ipython-input-79-e53e27922c2e>\u001b[0m in \u001b[0;36m<module>\u001b[0;34m\u001b[0m\n\u001b[0;32m----> 1\u001b[0;31m \u001b[0mdf_test\u001b[0m\u001b[0;34m.\u001b[0m\u001b[0mjoin\u001b[0m\u001b[0;34m(\u001b[0m\u001b[0moffer_completed\u001b[0m\u001b[0;34m[\u001b[0m\u001b[0;34m[\u001b[0m\u001b[0;34m'person'\u001b[0m\u001b[0;34m,\u001b[0m\u001b[0;34m'offer_id'\u001b[0m\u001b[0;34m,\u001b[0m\u001b[0;34m'time'\u001b[0m\u001b[0;34m]\u001b[0m\u001b[0;34m]\u001b[0m\u001b[0;34m,\u001b[0m\u001b[0mon\u001b[0m \u001b[0;34m=\u001b[0m \u001b[0;34m[\u001b[0m\u001b[0;34m'person'\u001b[0m\u001b[0;34m,\u001b[0m\u001b[0;34m'offer_id'\u001b[0m\u001b[0;34m,\u001b[0m\u001b[0;34m'time'\u001b[0m\u001b[0;34m]\u001b[0m\u001b[0;34m)\u001b[0m\u001b[0;34m\u001b[0m\u001b[0;34m\u001b[0m\u001b[0m\n\u001b[0m",
      "\u001b[0;32m~/opt/anaconda3/lib/python3.8/site-packages/pandas/core/frame.py\u001b[0m in \u001b[0;36mjoin\u001b[0;34m(self, other, on, how, lsuffix, rsuffix, sort)\u001b[0m\n\u001b[1;32m   7868\u001b[0m         \u001b[0;36m5\u001b[0m  \u001b[0mK5\u001b[0m  \u001b[0mA5\u001b[0m  \u001b[0mNaN\u001b[0m\u001b[0;34m\u001b[0m\u001b[0;34m\u001b[0m\u001b[0m\n\u001b[1;32m   7869\u001b[0m         \"\"\"\n\u001b[0;32m-> 7870\u001b[0;31m         return self._join_compat(\n\u001b[0m\u001b[1;32m   7871\u001b[0m             \u001b[0mother\u001b[0m\u001b[0;34m,\u001b[0m \u001b[0mon\u001b[0m\u001b[0;34m=\u001b[0m\u001b[0mon\u001b[0m\u001b[0;34m,\u001b[0m \u001b[0mhow\u001b[0m\u001b[0;34m=\u001b[0m\u001b[0mhow\u001b[0m\u001b[0;34m,\u001b[0m \u001b[0mlsuffix\u001b[0m\u001b[0;34m=\u001b[0m\u001b[0mlsuffix\u001b[0m\u001b[0;34m,\u001b[0m \u001b[0mrsuffix\u001b[0m\u001b[0;34m=\u001b[0m\u001b[0mrsuffix\u001b[0m\u001b[0;34m,\u001b[0m \u001b[0msort\u001b[0m\u001b[0;34m=\u001b[0m\u001b[0msort\u001b[0m\u001b[0;34m\u001b[0m\u001b[0;34m\u001b[0m\u001b[0m\n\u001b[1;32m   7872\u001b[0m         )\n",
      "\u001b[0;32m~/opt/anaconda3/lib/python3.8/site-packages/pandas/core/frame.py\u001b[0m in \u001b[0;36m_join_compat\u001b[0;34m(self, other, on, how, lsuffix, rsuffix, sort)\u001b[0m\n\u001b[1;32m   7884\u001b[0m \u001b[0;34m\u001b[0m\u001b[0m\n\u001b[1;32m   7885\u001b[0m         \u001b[0;32mif\u001b[0m \u001b[0misinstance\u001b[0m\u001b[0;34m(\u001b[0m\u001b[0mother\u001b[0m\u001b[0;34m,\u001b[0m \u001b[0mDataFrame\u001b[0m\u001b[0;34m)\u001b[0m\u001b[0;34m:\u001b[0m\u001b[0;34m\u001b[0m\u001b[0;34m\u001b[0m\u001b[0m\n\u001b[0;32m-> 7886\u001b[0;31m             return merge(\n\u001b[0m\u001b[1;32m   7887\u001b[0m                 \u001b[0mself\u001b[0m\u001b[0;34m,\u001b[0m\u001b[0;34m\u001b[0m\u001b[0;34m\u001b[0m\u001b[0m\n\u001b[1;32m   7888\u001b[0m                 \u001b[0mother\u001b[0m\u001b[0;34m,\u001b[0m\u001b[0;34m\u001b[0m\u001b[0;34m\u001b[0m\u001b[0m\n",
      "\u001b[0;32m~/opt/anaconda3/lib/python3.8/site-packages/pandas/core/reshape/merge.py\u001b[0m in \u001b[0;36mmerge\u001b[0;34m(left, right, how, on, left_on, right_on, left_index, right_index, sort, suffixes, copy, indicator, validate)\u001b[0m\n\u001b[1;32m     72\u001b[0m     \u001b[0mvalidate\u001b[0m\u001b[0;34m=\u001b[0m\u001b[0;32mNone\u001b[0m\u001b[0;34m,\u001b[0m\u001b[0;34m\u001b[0m\u001b[0;34m\u001b[0m\u001b[0m\n\u001b[1;32m     73\u001b[0m ) -> \"DataFrame\":\n\u001b[0;32m---> 74\u001b[0;31m     op = _MergeOperation(\n\u001b[0m\u001b[1;32m     75\u001b[0m         \u001b[0mleft\u001b[0m\u001b[0;34m,\u001b[0m\u001b[0;34m\u001b[0m\u001b[0;34m\u001b[0m\u001b[0m\n\u001b[1;32m     76\u001b[0m         \u001b[0mright\u001b[0m\u001b[0;34m,\u001b[0m\u001b[0;34m\u001b[0m\u001b[0;34m\u001b[0m\u001b[0m\n",
      "\u001b[0;32m~/opt/anaconda3/lib/python3.8/site-packages/pandas/core/reshape/merge.py\u001b[0m in \u001b[0;36m__init__\u001b[0;34m(self, left, right, how, on, left_on, right_on, axis, left_index, right_index, sort, suffixes, copy, indicator, validate)\u001b[0m\n\u001b[1;32m    643\u001b[0m             \u001b[0mwarnings\u001b[0m\u001b[0;34m.\u001b[0m\u001b[0mwarn\u001b[0m\u001b[0;34m(\u001b[0m\u001b[0mmsg\u001b[0m\u001b[0;34m,\u001b[0m \u001b[0mUserWarning\u001b[0m\u001b[0;34m)\u001b[0m\u001b[0;34m\u001b[0m\u001b[0;34m\u001b[0m\u001b[0m\n\u001b[1;32m    644\u001b[0m \u001b[0;34m\u001b[0m\u001b[0m\n\u001b[0;32m--> 645\u001b[0;31m         \u001b[0mself\u001b[0m\u001b[0;34m.\u001b[0m\u001b[0m_validate_specification\u001b[0m\u001b[0;34m(\u001b[0m\u001b[0;34m)\u001b[0m\u001b[0;34m\u001b[0m\u001b[0;34m\u001b[0m\u001b[0m\n\u001b[0m\u001b[1;32m    646\u001b[0m \u001b[0;34m\u001b[0m\u001b[0m\n\u001b[1;32m    647\u001b[0m         \u001b[0;31m# note this function has side effects\u001b[0m\u001b[0;34m\u001b[0m\u001b[0;34m\u001b[0m\u001b[0;34m\u001b[0m\u001b[0m\n",
      "\u001b[0;32m~/opt/anaconda3/lib/python3.8/site-packages/pandas/core/reshape/merge.py\u001b[0m in \u001b[0;36m_validate_specification\u001b[0;34m(self)\u001b[0m\n\u001b[1;32m   1233\u001b[0m             \u001b[0;32mif\u001b[0m \u001b[0mself\u001b[0m\u001b[0;34m.\u001b[0m\u001b[0mright_index\u001b[0m\u001b[0;34m:\u001b[0m\u001b[0;34m\u001b[0m\u001b[0;34m\u001b[0m\u001b[0m\n\u001b[1;32m   1234\u001b[0m                 \u001b[0;32mif\u001b[0m \u001b[0mlen\u001b[0m\u001b[0;34m(\u001b[0m\u001b[0mself\u001b[0m\u001b[0;34m.\u001b[0m\u001b[0mleft_on\u001b[0m\u001b[0;34m)\u001b[0m \u001b[0;34m!=\u001b[0m \u001b[0mself\u001b[0m\u001b[0;34m.\u001b[0m\u001b[0mright\u001b[0m\u001b[0;34m.\u001b[0m\u001b[0mindex\u001b[0m\u001b[0;34m.\u001b[0m\u001b[0mnlevels\u001b[0m\u001b[0;34m:\u001b[0m\u001b[0;34m\u001b[0m\u001b[0;34m\u001b[0m\u001b[0m\n\u001b[0;32m-> 1235\u001b[0;31m                     raise ValueError(\n\u001b[0m\u001b[1;32m   1236\u001b[0m                         \u001b[0;34m\"len(left_on) must equal the number \"\u001b[0m\u001b[0;34m\u001b[0m\u001b[0;34m\u001b[0m\u001b[0m\n\u001b[1;32m   1237\u001b[0m                         \u001b[0;34m'of levels in the index of \"right\"'\u001b[0m\u001b[0;34m\u001b[0m\u001b[0;34m\u001b[0m\u001b[0m\n",
      "\u001b[0;31mValueError\u001b[0m: len(left_on) must equal the number of levels in the index of \"right\""
     ]
    }
   ],
   "source": [
    "df_test.join(offer_completed[['person','offer_id','time']],on = ['person','offer_id','time'])"
   ]
  },
  {
   "cell_type": "code",
   "execution_count": 81,
   "metadata": {},
   "outputs": [
    {
     "name": "stdout",
     "output_type": "stream",
     "text": [
      "<class 'pandas.core.frame.DataFrame'>\n",
      "Int64Index: 282 entries, 0 to 281\n",
      "Data columns (total 35 columns):\n",
      " #   Column                         Non-Null Count  Dtype  \n",
      "---  ------                         --------------  -----  \n",
      " 0   person                         282 non-null    object \n",
      " 1   offer_id                       282 non-null    object \n",
      " 2   time                           282 non-null    int64  \n",
      " 3   label                          282 non-null    int64  \n",
      " 4   day                            282 non-null    float64\n",
      " 5   number_transaction_flag        282 non-null    float64\n",
      " 6   number_offer_rflag             282 non-null    float64\n",
      " 7   number_offer_vflag             282 non-null    float64\n",
      " 8   number_offer_cflag             282 non-null    float64\n",
      " 9   number_transaction_offer_flag  282 non-null    float64\n",
      " 10  number_amount                  282 non-null    float64\n",
      " 11  number_amount_offer            282 non-null    float64\n",
      " 12  offer_amount_ratio             282 non-null    float64\n",
      " 13  offer_complete_ratio           282 non-null    float64\n",
      " 14  age                            282 non-null    float64\n",
      " 15  income                         282 non-null    float64\n",
      " 16  membership_days                282 non-null    int64  \n",
      " 17  gender_F                       282 non-null    uint8  \n",
      " 18  gender_M                       282 non-null    uint8  \n",
      " 19  gender_O                       282 non-null    uint8  \n",
      " 20  reward                         282 non-null    int64  \n",
      " 21  difficulty                     282 non-null    int64  \n",
      " 22  duration                       282 non-null    int64  \n",
      " 23  number_channels                282 non-null    int64  \n",
      " 24  web_flag                       282 non-null    int64  \n",
      " 25  mobile_flag                    282 non-null    int64  \n",
      " 26  social_flag                    282 non-null    int64  \n",
      " 27  difficulty_ratio               282 non-null    float64\n",
      " 28  reward_ratio                   282 non-null    float64\n",
      " 29  offer_type_bogo                282 non-null    uint8  \n",
      " 30  offer_type_discount            282 non-null    uint8  \n",
      " 31  offer_type_informational       282 non-null    uint8  \n",
      " 32  y_predicted                    282 non-null    int64  \n",
      " 33  mis_classified                 282 non-null    int64  \n",
      " 34  value                          282 non-null    object \n",
      "dtypes: float64(14), int64(12), object(3), uint8(6)\n",
      "memory usage: 67.7+ KB\n"
     ]
    }
   ],
   "source": [
    "pd.merge(df_test,offer_completed,how = 'inner',on = ['person','offer_id','time']).info()"
   ]
  },
  {
   "cell_type": "code",
   "execution_count": 78,
   "metadata": {},
   "outputs": [
    {
     "name": "stdout",
     "output_type": "stream",
     "text": [
      "<class 'pandas.core.frame.DataFrame'>\n",
      "RangeIndex: 3743 entries, 0 to 3742\n",
      "Data columns (total 34 columns):\n",
      " #   Column                         Non-Null Count  Dtype  \n",
      "---  ------                         --------------  -----  \n",
      " 0   person                         3743 non-null   object \n",
      " 1   offer_id                       3743 non-null   object \n",
      " 2   time                           3743 non-null   int64  \n",
      " 3   label                          3743 non-null   int64  \n",
      " 4   day                            3743 non-null   float64\n",
      " 5   number_transaction_flag        3743 non-null   float64\n",
      " 6   number_offer_rflag             3743 non-null   float64\n",
      " 7   number_offer_vflag             3743 non-null   float64\n",
      " 8   number_offer_cflag             3743 non-null   float64\n",
      " 9   number_transaction_offer_flag  3743 non-null   float64\n",
      " 10  number_amount                  3743 non-null   float64\n",
      " 11  number_amount_offer            3743 non-null   float64\n",
      " 12  offer_amount_ratio             3743 non-null   float64\n",
      " 13  offer_complete_ratio           3743 non-null   float64\n",
      " 14  age                            3743 non-null   float64\n",
      " 15  income                         3743 non-null   float64\n",
      " 16  membership_days                3743 non-null   int64  \n",
      " 17  gender_F                       3743 non-null   uint8  \n",
      " 18  gender_M                       3743 non-null   uint8  \n",
      " 19  gender_O                       3743 non-null   uint8  \n",
      " 20  reward                         3743 non-null   int64  \n",
      " 21  difficulty                     3743 non-null   int64  \n",
      " 22  duration                       3743 non-null   int64  \n",
      " 23  number_channels                3743 non-null   int64  \n",
      " 24  web_flag                       3743 non-null   int64  \n",
      " 25  mobile_flag                    3743 non-null   int64  \n",
      " 26  social_flag                    3743 non-null   int64  \n",
      " 27  difficulty_ratio               3743 non-null   float64\n",
      " 28  reward_ratio                   3743 non-null   float64\n",
      " 29  offer_type_bogo                3743 non-null   uint8  \n",
      " 30  offer_type_discount            3743 non-null   uint8  \n",
      " 31  offer_type_informational       3743 non-null   uint8  \n",
      " 32  y_predicted                    3743 non-null   int64  \n",
      " 33  mis_classified                 3743 non-null   int64  \n",
      "dtypes: float64(14), int64(12), object(2), uint8(6)\n",
      "memory usage: 840.8+ KB\n"
     ]
    }
   ],
   "source": [
    "df_test.info()"
   ]
  },
  {
   "cell_type": "code",
   "execution_count": null,
   "metadata": {},
   "outputs": [],
   "source": []
  }
 ],
 "metadata": {
  "kernelspec": {
   "display_name": "Python 3",
   "language": "python",
   "name": "python3"
  },
  "language_info": {
   "codemirror_mode": {
    "name": "ipython",
    "version": 3
   },
   "file_extension": ".py",
   "mimetype": "text/x-python",
   "name": "python",
   "nbconvert_exporter": "python",
   "pygments_lexer": "ipython3",
   "version": "3.8.5"
  }
 },
 "nbformat": 4,
 "nbformat_minor": 4
}
