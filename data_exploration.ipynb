{
 "cells": [
  {
   "cell_type": "code",
   "execution_count": 7,
   "metadata": {},
   "outputs": [],
   "source": [
    "import pandas as pd\n",
    "import numpy as np\n",
    "import math\n",
    "import json\n",
    "% matplotlib inline\n",
    "\n",
    "# read in the json files\n",
    "portfolio = pd.read_json('data/portfolio.json', orient='records', lines=True)\n",
    "profile = pd.read_json('data/profile.json', orient='records', lines=True)\n",
    "transcript = pd.read_json('data/transcript.json', orient='records', lines=True)"
   ]
  },
  {
   "cell_type": "code",
   "execution_count": 8,
   "metadata": {},
   "outputs": [
    {
     "data": {
      "text/plain": [
       "17000"
      ]
     },
     "execution_count": 8,
     "metadata": {},
     "output_type": "execute_result"
    }
   ],
   "source": [
    "transcript['person'].nunique()"
   ]
  },
  {
   "cell_type": "code",
   "execution_count": 9,
   "metadata": {},
   "outputs": [],
   "source": [
    "model_data_labels = transcript[transcript['event'] == 'offer received'][['person','value','time']].reset_index(drop = True)"
   ]
  },
  {
   "cell_type": "code",
   "execution_count": 10,
   "metadata": {},
   "outputs": [],
   "source": [
    "model_data_labels['offer_id'] = model_data_labels['value'].apply(lambda x: x.get('offer id'))\n",
    "model_data_labels['label'] = 0\n",
    "model_data_labels = model_data_labels.drop('value',axis = 1)"
   ]
  },
  {
   "cell_type": "code",
   "execution_count": 11,
   "metadata": {},
   "outputs": [
    {
     "data": {
      "text/plain": [
       "16994"
      ]
     },
     "execution_count": 11,
     "metadata": {},
     "output_type": "execute_result"
    }
   ],
   "source": [
    "model_data_labels['person'].nunique()"
   ]
  },
  {
   "cell_type": "code",
   "execution_count": 12,
   "metadata": {},
   "outputs": [
    {
     "name": "stdout",
     "output_type": "stream",
     "text": [
      "<class 'pandas.core.frame.DataFrame'>\n",
      "RangeIndex: 76277 entries, 0 to 76276\n",
      "Data columns (total 4 columns):\n",
      "person      76277 non-null object\n",
      "time        76277 non-null int64\n",
      "offer_id    76277 non-null object\n",
      "label       76277 non-null int64\n",
      "dtypes: int64(2), object(2)\n",
      "memory usage: 2.3+ MB\n"
     ]
    }
   ],
   "source": [
    "model_data_labels.info()"
   ]
  },
  {
   "cell_type": "code",
   "execution_count": 13,
   "metadata": {},
   "outputs": [
    {
     "data": {
      "text/plain": [
       "person      63288\n",
       "offer_id    63288\n",
       "dtype: int64"
      ]
     },
     "execution_count": 13,
     "metadata": {},
     "output_type": "execute_result"
    }
   ],
   "source": [
    "model_data_labels[['person','offer_id']].drop_duplicates().count()"
   ]
  },
  {
   "cell_type": "code",
   "execution_count": 14,
   "metadata": {},
   "outputs": [],
   "source": [
    "portfolio.rename(columns = {'id' : 'offer_id'},inplace = True)\n",
    "model_data_labels = pd.merge(model_data_labels,portfolio[['offer_id','duration']],on = 'offer_id')"
   ]
  },
  {
   "cell_type": "code",
   "execution_count": 15,
   "metadata": {},
   "outputs": [
    {
     "name": "stdout",
     "output_type": "stream",
     "text": [
      "<class 'pandas.core.frame.DataFrame'>\n",
      "Int64Index: 76277 entries, 0 to 76276\n",
      "Data columns (total 5 columns):\n",
      "person      76277 non-null object\n",
      "time        76277 non-null int64\n",
      "offer_id    76277 non-null object\n",
      "label       76277 non-null int64\n",
      "duration    76277 non-null int64\n",
      "dtypes: int64(3), object(2)\n",
      "memory usage: 3.5+ MB\n"
     ]
    }
   ],
   "source": [
    "model_data_labels.info()"
   ]
  },
  {
   "cell_type": "code",
   "execution_count": 16,
   "metadata": {},
   "outputs": [],
   "source": [
    "offer_viewed = transcript[transcript['event'] == 'offer viewed'][['person','value','time']].copy().reset_index(drop = True)\n",
    "offer_completed= transcript[transcript['event'] == 'offer completed'][['person','value','time']].copy().reset_index(drop = True)\n",
    "offer_viewed['offer_id'] = offer_viewed['value'].apply(lambda x: x.get('offer id'))\n",
    "offer_completed['offer_id'] = offer_completed['value'].apply(lambda x: x.get('offer_id'))"
   ]
  },
  {
   "cell_type": "code",
   "execution_count": 17,
   "metadata": {},
   "outputs": [
    {
     "name": "stdout",
     "output_type": "stream",
     "text": [
      "<class 'pandas.core.frame.DataFrame'>\n",
      "RangeIndex: 33579 entries, 0 to 33578\n",
      "Data columns (total 4 columns):\n",
      "person      33579 non-null object\n",
      "value       33579 non-null object\n",
      "time        33579 non-null int64\n",
      "offer_id    33579 non-null object\n",
      "dtypes: int64(1), object(3)\n",
      "memory usage: 1.0+ MB\n"
     ]
    }
   ],
   "source": [
    "offer_completed.info()"
   ]
  },
  {
   "cell_type": "code",
   "execution_count": 18,
   "metadata": {},
   "outputs": [],
   "source": [
    "offer_viewed_completed = pd.merge(offer_viewed[['person','offer_id','time']],\n",
    "                                  offer_completed[['person','offer_id','time']],on = ['person','offer_id'])"
   ]
  },
  {
   "cell_type": "code",
   "execution_count": 19,
   "metadata": {},
   "outputs": [
    {
     "name": "stdout",
     "output_type": "stream",
     "text": [
      "<class 'pandas.core.frame.DataFrame'>\n",
      "Int64Index: 37952 entries, 0 to 37951\n",
      "Data columns (total 4 columns):\n",
      "person      37952 non-null object\n",
      "offer_id    37952 non-null object\n",
      "time_x      37952 non-null int64\n",
      "time_y      37952 non-null int64\n",
      "dtypes: int64(2), object(2)\n",
      "memory usage: 1.4+ MB\n"
     ]
    }
   ],
   "source": [
    "offer_viewed_completed.info()"
   ]
  },
  {
   "cell_type": "code",
   "execution_count": 20,
   "metadata": {},
   "outputs": [],
   "source": [
    "offer_viewed_completed = offer_viewed_completed[offer_viewed_completed['time_x'] <= offer_viewed_completed['time_y']].copy().reset_index(drop = True)"
   ]
  },
  {
   "cell_type": "code",
   "execution_count": 21,
   "metadata": {},
   "outputs": [
    {
     "name": "stdout",
     "output_type": "stream",
     "text": [
      "<class 'pandas.core.frame.DataFrame'>\n",
      "RangeIndex: 29098 entries, 0 to 29097\n",
      "Data columns (total 4 columns):\n",
      "person      29098 non-null object\n",
      "offer_id    29098 non-null object\n",
      "time_x      29098 non-null int64\n",
      "time_y      29098 non-null int64\n",
      "dtypes: int64(2), object(2)\n",
      "memory usage: 909.4+ KB\n"
     ]
    }
   ],
   "source": [
    "offer_viewed_completed.info()"
   ]
  },
  {
   "cell_type": "code",
   "execution_count": 22,
   "metadata": {},
   "outputs": [],
   "source": [
    "offer_viewed_completed = offer_viewed_completed.rename(columns = {'person':'person_right','offer_id' : 'offer_id_right'})\n",
    "model_data_labels_completed = pd.merge(model_data_labels,offer_viewed_completed,how = 'inner',left_on = ['person','offer_id']\n",
    "                            ,right_on = ['person_right','offer_id_right'])"
   ]
  },
  {
   "cell_type": "code",
   "execution_count": 23,
   "metadata": {},
   "outputs": [
    {
     "name": "stdout",
     "output_type": "stream",
     "text": [
      "<class 'pandas.core.frame.DataFrame'>\n",
      "Int64Index: 45075 entries, 0 to 45074\n",
      "Data columns (total 9 columns):\n",
      "person            45075 non-null object\n",
      "time              45075 non-null int64\n",
      "offer_id          45075 non-null object\n",
      "label             45075 non-null int64\n",
      "duration          45075 non-null int64\n",
      "person_right      45075 non-null object\n",
      "offer_id_right    45075 non-null object\n",
      "time_x            45075 non-null int64\n",
      "time_y            45075 non-null int64\n",
      "dtypes: int64(5), object(4)\n",
      "memory usage: 3.4+ MB\n"
     ]
    }
   ],
   "source": [
    "model_data_labels_completed.info()"
   ]
  },
  {
   "cell_type": "code",
   "execution_count": 24,
   "metadata": {},
   "outputs": [],
   "source": [
    "model_data_labels_completed['time_diff'] = model_data_labels_completed['time_y'] - model_data_labels_completed['time']\n",
    "model_data_labels_completed = model_data_labels_completed[model_data_labels_completed['time_diff'] <= model_data_labels_completed['duration'] * 24].copy().reset_index(drop = True)"
   ]
  },
  {
   "cell_type": "code",
   "execution_count": 25,
   "metadata": {},
   "outputs": [
    {
     "name": "stdout",
     "output_type": "stream",
     "text": [
      "<class 'pandas.core.frame.DataFrame'>\n",
      "RangeIndex: 36416 entries, 0 to 36415\n",
      "Data columns (total 10 columns):\n",
      "person            36416 non-null object\n",
      "time              36416 non-null int64\n",
      "offer_id          36416 non-null object\n",
      "label             36416 non-null int64\n",
      "duration          36416 non-null int64\n",
      "person_right      36416 non-null object\n",
      "offer_id_right    36416 non-null object\n",
      "time_x            36416 non-null int64\n",
      "time_y            36416 non-null int64\n",
      "time_diff         36416 non-null int64\n",
      "dtypes: int64(6), object(4)\n",
      "memory usage: 2.8+ MB\n"
     ]
    }
   ],
   "source": [
    "model_data_labels_completed.info()"
   ]
  },
  {
   "cell_type": "code",
   "execution_count": 26,
   "metadata": {},
   "outputs": [],
   "source": [
    "model_data_labels_completed = model_data_labels_completed.groupby(['person','offer_id']\n",
    "                                                                  ,as_index = False)['time'].min()"
   ]
  },
  {
   "cell_type": "code",
   "execution_count": 27,
   "metadata": {},
   "outputs": [
    {
     "name": "stdout",
     "output_type": "stream",
     "text": [
      "<class 'pandas.core.frame.DataFrame'>\n",
      "Int64Index: 21372 entries, 0 to 21371\n",
      "Data columns (total 3 columns):\n",
      "person      21372 non-null object\n",
      "offer_id    21372 non-null object\n",
      "time        21372 non-null int64\n",
      "dtypes: int64(1), object(2)\n",
      "memory usage: 667.9+ KB\n"
     ]
    }
   ],
   "source": [
    "model_data_labels_completed.info()"
   ]
  },
  {
   "cell_type": "code",
   "execution_count": 28,
   "metadata": {},
   "outputs": [],
   "source": [
    "model_data_labels_completed['label_completed'] = 1\n",
    "model_data_labels = pd.merge(model_data_labels,model_data_labels_completed,how = 'left',on = ['person','offer_id','time'])"
   ]
  },
  {
   "cell_type": "code",
   "execution_count": 29,
   "metadata": {},
   "outputs": [],
   "source": [
    "model_data_labels['label'] = np.where(model_data_labels['label_completed'] ==1,1,0)"
   ]
  },
  {
   "cell_type": "code",
   "execution_count": 30,
   "metadata": {},
   "outputs": [
    {
     "name": "stdout",
     "output_type": "stream",
     "text": [
      "<class 'pandas.core.frame.DataFrame'>\n",
      "Int64Index: 76277 entries, 0 to 76276\n",
      "Data columns (total 6 columns):\n",
      "person             76277 non-null object\n",
      "time               76277 non-null int64\n",
      "offer_id           76277 non-null object\n",
      "label              76277 non-null int64\n",
      "duration           76277 non-null int64\n",
      "label_completed    21372 non-null float64\n",
      "dtypes: float64(1), int64(3), object(2)\n",
      "memory usage: 4.1+ MB\n"
     ]
    }
   ],
   "source": [
    "model_data_labels.info()"
   ]
  },
  {
   "cell_type": "code",
   "execution_count": 31,
   "metadata": {},
   "outputs": [],
   "source": [
    "model_data_labels0 = model_data_labels[model_data_labels['label'] == 0].copy().reset_index(drop = True)"
   ]
  },
  {
   "cell_type": "code",
   "execution_count": 38,
   "metadata": {},
   "outputs": [],
   "source": [
    "model_data_labels0_not_completed = model_data_labels0[model_data_labels0['time'] > 714 - \n",
    "                                                      model_data_labels0['duration'] * 24].copy()\\\n",
    "                                                                                        .reset_index(drop = True)"
   ]
  },
  {
   "cell_type": "code",
   "execution_count": 39,
   "metadata": {},
   "outputs": [
    {
     "name": "stdout",
     "output_type": "stream",
     "text": [
      "<class 'pandas.core.frame.DataFrame'>\n",
      "RangeIndex: 7405 entries, 0 to 7404\n",
      "Data columns (total 6 columns):\n",
      "person             7405 non-null object\n",
      "time               7405 non-null int64\n",
      "offer_id           7405 non-null object\n",
      "label              7405 non-null int64\n",
      "duration           7405 non-null int64\n",
      "label_completed    0 non-null float64\n",
      "dtypes: float64(1), int64(3), object(2)\n",
      "memory usage: 347.2+ KB\n"
     ]
    }
   ],
   "source": [
    "model_data_labels0_not_completed.info()"
   ]
  },
  {
   "cell_type": "code",
   "execution_count": 40,
   "metadata": {},
   "outputs": [
    {
     "data": {
      "text/html": [
       "<div>\n",
       "<style scoped>\n",
       "    .dataframe tbody tr th:only-of-type {\n",
       "        vertical-align: middle;\n",
       "    }\n",
       "\n",
       "    .dataframe tbody tr th {\n",
       "        vertical-align: top;\n",
       "    }\n",
       "\n",
       "    .dataframe thead th {\n",
       "        text-align: right;\n",
       "    }\n",
       "</style>\n",
       "<table border=\"1\" class=\"dataframe\">\n",
       "  <thead>\n",
       "    <tr style=\"text-align: right;\">\n",
       "      <th></th>\n",
       "      <th>person</th>\n",
       "      <th>offer_id</th>\n",
       "      <th>time</th>\n",
       "    </tr>\n",
       "  </thead>\n",
       "  <tbody>\n",
       "    <tr>\n",
       "      <th>1381</th>\n",
       "      <td>3044e3dd3805485e9d39bcda615c6be5</td>\n",
       "      <td>0b1e1539f2cc45b7b9fa7c272da2e1d7</td>\n",
       "      <td>2</td>\n",
       "    </tr>\n",
       "    <tr>\n",
       "      <th>1500</th>\n",
       "      <td>345f9431137a49b3963221a55567c4a8</td>\n",
       "      <td>0b1e1539f2cc45b7b9fa7c272da2e1d7</td>\n",
       "      <td>2</td>\n",
       "    </tr>\n",
       "    <tr>\n",
       "      <th>2621</th>\n",
       "      <td>5a7136999fa240838c28e52359f6533d</td>\n",
       "      <td>fafdcd668e3743c1bb461111dcafc2a4</td>\n",
       "      <td>2</td>\n",
       "    </tr>\n",
       "    <tr>\n",
       "      <th>2417</th>\n",
       "      <td>535966e0a95d45389d4b8e935723b046</td>\n",
       "      <td>0b1e1539f2cc45b7b9fa7c272da2e1d7</td>\n",
       "      <td>2</td>\n",
       "    </tr>\n",
       "    <tr>\n",
       "      <th>3523</th>\n",
       "      <td>79904d30eb8a4763b5011a010e53fb97</td>\n",
       "      <td>fafdcd668e3743c1bb461111dcafc2a4</td>\n",
       "      <td>2</td>\n",
       "    </tr>\n",
       "    <tr>\n",
       "      <th>5584</th>\n",
       "      <td>c0852430ada44573a218de7c3b92abbe</td>\n",
       "      <td>0b1e1539f2cc45b7b9fa7c272da2e1d7</td>\n",
       "      <td>2</td>\n",
       "    </tr>\n",
       "    <tr>\n",
       "      <th>3284</th>\n",
       "      <td>70e89b09554b457598b077139ef10585</td>\n",
       "      <td>fafdcd668e3743c1bb461111dcafc2a4</td>\n",
       "      <td>2</td>\n",
       "    </tr>\n",
       "    <tr>\n",
       "      <th>1285</th>\n",
       "      <td>2d59f307fcbf4f4dab5218893231e522</td>\n",
       "      <td>0b1e1539f2cc45b7b9fa7c272da2e1d7</td>\n",
       "      <td>2</td>\n",
       "    </tr>\n",
       "    <tr>\n",
       "      <th>2427</th>\n",
       "      <td>53f9276cd0f24fe08a42f99ae60ba2b4</td>\n",
       "      <td>0b1e1539f2cc45b7b9fa7c272da2e1d7</td>\n",
       "      <td>2</td>\n",
       "    </tr>\n",
       "    <tr>\n",
       "      <th>2604</th>\n",
       "      <td>5a16683f3bf14ea9aa0b79b0cf8cbf40</td>\n",
       "      <td>0b1e1539f2cc45b7b9fa7c272da2e1d7</td>\n",
       "      <td>2</td>\n",
       "    </tr>\n",
       "    <tr>\n",
       "      <th>2023</th>\n",
       "      <td>45da79fb1a6040c0864e788ddce7af10</td>\n",
       "      <td>fafdcd668e3743c1bb461111dcafc2a4</td>\n",
       "      <td>2</td>\n",
       "    </tr>\n",
       "    <tr>\n",
       "      <th>4468</th>\n",
       "      <td>9a0f56740b7a46e8b03138e0fee212e8</td>\n",
       "      <td>fafdcd668e3743c1bb461111dcafc2a4</td>\n",
       "      <td>2</td>\n",
       "    </tr>\n",
       "    <tr>\n",
       "      <th>3505</th>\n",
       "      <td>7924f921b7f04e34aafd37c1b58a4ca9</td>\n",
       "      <td>0b1e1539f2cc45b7b9fa7c272da2e1d7</td>\n",
       "      <td>2</td>\n",
       "    </tr>\n",
       "    <tr>\n",
       "      <th>6477</th>\n",
       "      <td>e22206bf65234c0e9f273bef859c02a1</td>\n",
       "      <td>0b1e1539f2cc45b7b9fa7c272da2e1d7</td>\n",
       "      <td>2</td>\n",
       "    </tr>\n",
       "    <tr>\n",
       "      <th>804</th>\n",
       "      <td>1bd41beee6624c11a3c8948ab7df415e</td>\n",
       "      <td>0b1e1539f2cc45b7b9fa7c272da2e1d7</td>\n",
       "      <td>2</td>\n",
       "    </tr>\n",
       "    <tr>\n",
       "      <th>5609</th>\n",
       "      <td>c157fd7091b14bf1b2f7ffdaf1982d3f</td>\n",
       "      <td>fafdcd668e3743c1bb461111dcafc2a4</td>\n",
       "      <td>2</td>\n",
       "    </tr>\n",
       "    <tr>\n",
       "      <th>7098</th>\n",
       "      <td>f9a7e07a2ff640d8a0838cb5c325554c</td>\n",
       "      <td>0b1e1539f2cc45b7b9fa7c272da2e1d7</td>\n",
       "      <td>2</td>\n",
       "    </tr>\n",
       "    <tr>\n",
       "      <th>6651</th>\n",
       "      <td>e898f8d0cc514692aee817765d1584e9</td>\n",
       "      <td>fafdcd668e3743c1bb461111dcafc2a4</td>\n",
       "      <td>2</td>\n",
       "    </tr>\n",
       "    <tr>\n",
       "      <th>2439</th>\n",
       "      <td>54463e5d95124b7fb3133fc1eae71952</td>\n",
       "      <td>0b1e1539f2cc45b7b9fa7c272da2e1d7</td>\n",
       "      <td>2</td>\n",
       "    </tr>\n",
       "    <tr>\n",
       "      <th>5107</th>\n",
       "      <td>af4843b3494c4e9483f2a7d2c45095ae</td>\n",
       "      <td>0b1e1539f2cc45b7b9fa7c272da2e1d7</td>\n",
       "      <td>2</td>\n",
       "    </tr>\n",
       "    <tr>\n",
       "      <th>2414</th>\n",
       "      <td>53396c0045fc48f9a89f58f7716b0a70</td>\n",
       "      <td>fafdcd668e3743c1bb461111dcafc2a4</td>\n",
       "      <td>2</td>\n",
       "    </tr>\n",
       "    <tr>\n",
       "      <th>839</th>\n",
       "      <td>1d2018a7775c4c73b084e9c701560092</td>\n",
       "      <td>0b1e1539f2cc45b7b9fa7c272da2e1d7</td>\n",
       "      <td>2</td>\n",
       "    </tr>\n",
       "    <tr>\n",
       "      <th>1334</th>\n",
       "      <td>2ecc1d321e4241f38124bc703dcdf63e</td>\n",
       "      <td>fafdcd668e3743c1bb461111dcafc2a4</td>\n",
       "      <td>2</td>\n",
       "    </tr>\n",
       "    <tr>\n",
       "      <th>4672</th>\n",
       "      <td>a02bb1e96a9b452cbd38a5a3c250b2c6</td>\n",
       "      <td>0b1e1539f2cc45b7b9fa7c272da2e1d7</td>\n",
       "      <td>2</td>\n",
       "    </tr>\n",
       "    <tr>\n",
       "      <th>1328</th>\n",
       "      <td>2ea50de315514ccaa5079db4c1ecbc0b</td>\n",
       "      <td>fafdcd668e3743c1bb461111dcafc2a4</td>\n",
       "      <td>2</td>\n",
       "    </tr>\n",
       "    <tr>\n",
       "      <th>6837</th>\n",
       "      <td>f017b77d373f480299a8035d844286ff</td>\n",
       "      <td>fafdcd668e3743c1bb461111dcafc2a4</td>\n",
       "      <td>2</td>\n",
       "    </tr>\n",
       "    <tr>\n",
       "      <th>3577</th>\n",
       "      <td>7b262b5d16eb491e8681f2e44106d70e</td>\n",
       "      <td>0b1e1539f2cc45b7b9fa7c272da2e1d7</td>\n",
       "      <td>2</td>\n",
       "    </tr>\n",
       "    <tr>\n",
       "      <th>875</th>\n",
       "      <td>1e78f244cac34e758dff086f30dbc1be</td>\n",
       "      <td>fafdcd668e3743c1bb461111dcafc2a4</td>\n",
       "      <td>2</td>\n",
       "    </tr>\n",
       "    <tr>\n",
       "      <th>577</th>\n",
       "      <td>131d42c477cf4ea9a4823922d1f3f831</td>\n",
       "      <td>fafdcd668e3743c1bb461111dcafc2a4</td>\n",
       "      <td>2</td>\n",
       "    </tr>\n",
       "    <tr>\n",
       "      <th>3573</th>\n",
       "      <td>7b0fe46288a44fb98514bbcd83db3c6c</td>\n",
       "      <td>fafdcd668e3743c1bb461111dcafc2a4</td>\n",
       "      <td>2</td>\n",
       "    </tr>\n",
       "    <tr>\n",
       "      <th>...</th>\n",
       "      <td>...</td>\n",
       "      <td>...</td>\n",
       "      <td>...</td>\n",
       "    </tr>\n",
       "    <tr>\n",
       "      <th>2406</th>\n",
       "      <td>52f2882d9d7b457f914589fcd20ed1b3</td>\n",
       "      <td>fafdcd668e3743c1bb461111dcafc2a4</td>\n",
       "      <td>1</td>\n",
       "    </tr>\n",
       "    <tr>\n",
       "      <th>2433</th>\n",
       "      <td>5419d29bda4e48e68165a57e3e78370a</td>\n",
       "      <td>0b1e1539f2cc45b7b9fa7c272da2e1d7</td>\n",
       "      <td>1</td>\n",
       "    </tr>\n",
       "    <tr>\n",
       "      <th>2435</th>\n",
       "      <td>5431d49609b44ecf95a5a406fac90544</td>\n",
       "      <td>fafdcd668e3743c1bb461111dcafc2a4</td>\n",
       "      <td>1</td>\n",
       "    </tr>\n",
       "    <tr>\n",
       "      <th>2463</th>\n",
       "      <td>5519acfc31b94c0e84f78c71bd993b77</td>\n",
       "      <td>2298d6c36e964ae4a3e7e9706d1fb8c2</td>\n",
       "      <td>1</td>\n",
       "    </tr>\n",
       "    <tr>\n",
       "      <th>2451</th>\n",
       "      <td>54c7dd73acc945cbba13de64ec9a5c99</td>\n",
       "      <td>9b98b8c7a33c4b65b9aebfe6a799e6d9</td>\n",
       "      <td>1</td>\n",
       "    </tr>\n",
       "    <tr>\n",
       "      <th>2462</th>\n",
       "      <td>55103915b4bf48d1b8b51117f426dcb5</td>\n",
       "      <td>fafdcd668e3743c1bb461111dcafc2a4</td>\n",
       "      <td>1</td>\n",
       "    </tr>\n",
       "    <tr>\n",
       "      <th>2461</th>\n",
       "      <td>55103915b4bf48d1b8b51117f426dcb5</td>\n",
       "      <td>0b1e1539f2cc45b7b9fa7c272da2e1d7</td>\n",
       "      <td>1</td>\n",
       "    </tr>\n",
       "    <tr>\n",
       "      <th>2460</th>\n",
       "      <td>5507b146d8db47c298843f45e128b9e2</td>\n",
       "      <td>fafdcd668e3743c1bb461111dcafc2a4</td>\n",
       "      <td>1</td>\n",
       "    </tr>\n",
       "    <tr>\n",
       "      <th>2459</th>\n",
       "      <td>54f9d74bfac742c2bda750340476af30</td>\n",
       "      <td>2298d6c36e964ae4a3e7e9706d1fb8c2</td>\n",
       "      <td>1</td>\n",
       "    </tr>\n",
       "    <tr>\n",
       "      <th>2458</th>\n",
       "      <td>54eaf9f5ddc04ce6a91d8385bb0a8d17</td>\n",
       "      <td>ae264e3637204a6fb9bb56bc8210ddfd</td>\n",
       "      <td>1</td>\n",
       "    </tr>\n",
       "    <tr>\n",
       "      <th>2457</th>\n",
       "      <td>54dedf2f67614b3b801a67cde46c8ea7</td>\n",
       "      <td>2906b810c7d4411798c6938adc9daaa5</td>\n",
       "      <td>1</td>\n",
       "    </tr>\n",
       "    <tr>\n",
       "      <th>2456</th>\n",
       "      <td>54ddebb6c4a744fab1b222aabf7581f6</td>\n",
       "      <td>2906b810c7d4411798c6938adc9daaa5</td>\n",
       "      <td>1</td>\n",
       "    </tr>\n",
       "    <tr>\n",
       "      <th>2455</th>\n",
       "      <td>54dd0ebf9ac74e7b876341509876e06a</td>\n",
       "      <td>9b98b8c7a33c4b65b9aebfe6a799e6d9</td>\n",
       "      <td>1</td>\n",
       "    </tr>\n",
       "    <tr>\n",
       "      <th>2454</th>\n",
       "      <td>54d60cf626294a1685867c5f31dbf7b8</td>\n",
       "      <td>ae264e3637204a6fb9bb56bc8210ddfd</td>\n",
       "      <td>1</td>\n",
       "    </tr>\n",
       "    <tr>\n",
       "      <th>2453</th>\n",
       "      <td>54ce16dc2b7b4fbb8d540a7d1161f92e</td>\n",
       "      <td>ae264e3637204a6fb9bb56bc8210ddfd</td>\n",
       "      <td>1</td>\n",
       "    </tr>\n",
       "    <tr>\n",
       "      <th>2452</th>\n",
       "      <td>54cd64837ce04f0ab2d7c1153091dc53</td>\n",
       "      <td>2298d6c36e964ae4a3e7e9706d1fb8c2</td>\n",
       "      <td>1</td>\n",
       "    </tr>\n",
       "    <tr>\n",
       "      <th>2450</th>\n",
       "      <td>54bead4179c44b71acc4e8398181d183</td>\n",
       "      <td>2906b810c7d4411798c6938adc9daaa5</td>\n",
       "      <td>1</td>\n",
       "    </tr>\n",
       "    <tr>\n",
       "      <th>2436</th>\n",
       "      <td>543df9ba7ffd41e3a806ad6388e1673e</td>\n",
       "      <td>0b1e1539f2cc45b7b9fa7c272da2e1d7</td>\n",
       "      <td>1</td>\n",
       "    </tr>\n",
       "    <tr>\n",
       "      <th>2449</th>\n",
       "      <td>54b38aa97c7f4ce8829830725f67f167</td>\n",
       "      <td>0b1e1539f2cc45b7b9fa7c272da2e1d7</td>\n",
       "      <td>1</td>\n",
       "    </tr>\n",
       "    <tr>\n",
       "      <th>2447</th>\n",
       "      <td>54ac605ec4354bbfa726012d5236f4a1</td>\n",
       "      <td>2298d6c36e964ae4a3e7e9706d1fb8c2</td>\n",
       "      <td>1</td>\n",
       "    </tr>\n",
       "    <tr>\n",
       "      <th>2446</th>\n",
       "      <td>54a93e6e0f864be19c02f7726770a059</td>\n",
       "      <td>0b1e1539f2cc45b7b9fa7c272da2e1d7</td>\n",
       "      <td>1</td>\n",
       "    </tr>\n",
       "    <tr>\n",
       "      <th>2445</th>\n",
       "      <td>54a7bb02e8e84d028346d004cc461224</td>\n",
       "      <td>0b1e1539f2cc45b7b9fa7c272da2e1d7</td>\n",
       "      <td>1</td>\n",
       "    </tr>\n",
       "    <tr>\n",
       "      <th>2444</th>\n",
       "      <td>5499b8b628354735bd656d900fec8179</td>\n",
       "      <td>0b1e1539f2cc45b7b9fa7c272da2e1d7</td>\n",
       "      <td>1</td>\n",
       "    </tr>\n",
       "    <tr>\n",
       "      <th>2443</th>\n",
       "      <td>5485849d917a4311b8c28b2dea9ad7e0</td>\n",
       "      <td>9b98b8c7a33c4b65b9aebfe6a799e6d9</td>\n",
       "      <td>1</td>\n",
       "    </tr>\n",
       "    <tr>\n",
       "      <th>2442</th>\n",
       "      <td>546e724e2f474bea9d1c94c0590a45ef</td>\n",
       "      <td>2298d6c36e964ae4a3e7e9706d1fb8c2</td>\n",
       "      <td>1</td>\n",
       "    </tr>\n",
       "    <tr>\n",
       "      <th>2441</th>\n",
       "      <td>546ce705bc3d48b7a8992a37bd3d53e9</td>\n",
       "      <td>0b1e1539f2cc45b7b9fa7c272da2e1d7</td>\n",
       "      <td>1</td>\n",
       "    </tr>\n",
       "    <tr>\n",
       "      <th>2440</th>\n",
       "      <td>54658f58643948239b5f782535922002</td>\n",
       "      <td>0b1e1539f2cc45b7b9fa7c272da2e1d7</td>\n",
       "      <td>1</td>\n",
       "    </tr>\n",
       "    <tr>\n",
       "      <th>2438</th>\n",
       "      <td>543fda4e7a1842c589960b0304e8ecde</td>\n",
       "      <td>ae264e3637204a6fb9bb56bc8210ddfd</td>\n",
       "      <td>1</td>\n",
       "    </tr>\n",
       "    <tr>\n",
       "      <th>2437</th>\n",
       "      <td>543ea0deb4dc4234ac6f5237eedffc9f</td>\n",
       "      <td>fafdcd668e3743c1bb461111dcafc2a4</td>\n",
       "      <td>1</td>\n",
       "    </tr>\n",
       "    <tr>\n",
       "      <th>7277</th>\n",
       "      <td>ffff82501cea40309d5fdd7edcca4a07</td>\n",
       "      <td>2906b810c7d4411798c6938adc9daaa5</td>\n",
       "      <td>1</td>\n",
       "    </tr>\n",
       "  </tbody>\n",
       "</table>\n",
       "<p>7278 rows × 3 columns</p>\n",
       "</div>"
      ],
      "text/plain": [
       "                                person                          offer_id  time\n",
       "1381  3044e3dd3805485e9d39bcda615c6be5  0b1e1539f2cc45b7b9fa7c272da2e1d7     2\n",
       "1500  345f9431137a49b3963221a55567c4a8  0b1e1539f2cc45b7b9fa7c272da2e1d7     2\n",
       "2621  5a7136999fa240838c28e52359f6533d  fafdcd668e3743c1bb461111dcafc2a4     2\n",
       "2417  535966e0a95d45389d4b8e935723b046  0b1e1539f2cc45b7b9fa7c272da2e1d7     2\n",
       "3523  79904d30eb8a4763b5011a010e53fb97  fafdcd668e3743c1bb461111dcafc2a4     2\n",
       "5584  c0852430ada44573a218de7c3b92abbe  0b1e1539f2cc45b7b9fa7c272da2e1d7     2\n",
       "3284  70e89b09554b457598b077139ef10585  fafdcd668e3743c1bb461111dcafc2a4     2\n",
       "1285  2d59f307fcbf4f4dab5218893231e522  0b1e1539f2cc45b7b9fa7c272da2e1d7     2\n",
       "2427  53f9276cd0f24fe08a42f99ae60ba2b4  0b1e1539f2cc45b7b9fa7c272da2e1d7     2\n",
       "2604  5a16683f3bf14ea9aa0b79b0cf8cbf40  0b1e1539f2cc45b7b9fa7c272da2e1d7     2\n",
       "2023  45da79fb1a6040c0864e788ddce7af10  fafdcd668e3743c1bb461111dcafc2a4     2\n",
       "4468  9a0f56740b7a46e8b03138e0fee212e8  fafdcd668e3743c1bb461111dcafc2a4     2\n",
       "3505  7924f921b7f04e34aafd37c1b58a4ca9  0b1e1539f2cc45b7b9fa7c272da2e1d7     2\n",
       "6477  e22206bf65234c0e9f273bef859c02a1  0b1e1539f2cc45b7b9fa7c272da2e1d7     2\n",
       "804   1bd41beee6624c11a3c8948ab7df415e  0b1e1539f2cc45b7b9fa7c272da2e1d7     2\n",
       "5609  c157fd7091b14bf1b2f7ffdaf1982d3f  fafdcd668e3743c1bb461111dcafc2a4     2\n",
       "7098  f9a7e07a2ff640d8a0838cb5c325554c  0b1e1539f2cc45b7b9fa7c272da2e1d7     2\n",
       "6651  e898f8d0cc514692aee817765d1584e9  fafdcd668e3743c1bb461111dcafc2a4     2\n",
       "2439  54463e5d95124b7fb3133fc1eae71952  0b1e1539f2cc45b7b9fa7c272da2e1d7     2\n",
       "5107  af4843b3494c4e9483f2a7d2c45095ae  0b1e1539f2cc45b7b9fa7c272da2e1d7     2\n",
       "2414  53396c0045fc48f9a89f58f7716b0a70  fafdcd668e3743c1bb461111dcafc2a4     2\n",
       "839   1d2018a7775c4c73b084e9c701560092  0b1e1539f2cc45b7b9fa7c272da2e1d7     2\n",
       "1334  2ecc1d321e4241f38124bc703dcdf63e  fafdcd668e3743c1bb461111dcafc2a4     2\n",
       "4672  a02bb1e96a9b452cbd38a5a3c250b2c6  0b1e1539f2cc45b7b9fa7c272da2e1d7     2\n",
       "1328  2ea50de315514ccaa5079db4c1ecbc0b  fafdcd668e3743c1bb461111dcafc2a4     2\n",
       "6837  f017b77d373f480299a8035d844286ff  fafdcd668e3743c1bb461111dcafc2a4     2\n",
       "3577  7b262b5d16eb491e8681f2e44106d70e  0b1e1539f2cc45b7b9fa7c272da2e1d7     2\n",
       "875   1e78f244cac34e758dff086f30dbc1be  fafdcd668e3743c1bb461111dcafc2a4     2\n",
       "577   131d42c477cf4ea9a4823922d1f3f831  fafdcd668e3743c1bb461111dcafc2a4     2\n",
       "3573  7b0fe46288a44fb98514bbcd83db3c6c  fafdcd668e3743c1bb461111dcafc2a4     2\n",
       "...                                ...                               ...   ...\n",
       "2406  52f2882d9d7b457f914589fcd20ed1b3  fafdcd668e3743c1bb461111dcafc2a4     1\n",
       "2433  5419d29bda4e48e68165a57e3e78370a  0b1e1539f2cc45b7b9fa7c272da2e1d7     1\n",
       "2435  5431d49609b44ecf95a5a406fac90544  fafdcd668e3743c1bb461111dcafc2a4     1\n",
       "2463  5519acfc31b94c0e84f78c71bd993b77  2298d6c36e964ae4a3e7e9706d1fb8c2     1\n",
       "2451  54c7dd73acc945cbba13de64ec9a5c99  9b98b8c7a33c4b65b9aebfe6a799e6d9     1\n",
       "2462  55103915b4bf48d1b8b51117f426dcb5  fafdcd668e3743c1bb461111dcafc2a4     1\n",
       "2461  55103915b4bf48d1b8b51117f426dcb5  0b1e1539f2cc45b7b9fa7c272da2e1d7     1\n",
       "2460  5507b146d8db47c298843f45e128b9e2  fafdcd668e3743c1bb461111dcafc2a4     1\n",
       "2459  54f9d74bfac742c2bda750340476af30  2298d6c36e964ae4a3e7e9706d1fb8c2     1\n",
       "2458  54eaf9f5ddc04ce6a91d8385bb0a8d17  ae264e3637204a6fb9bb56bc8210ddfd     1\n",
       "2457  54dedf2f67614b3b801a67cde46c8ea7  2906b810c7d4411798c6938adc9daaa5     1\n",
       "2456  54ddebb6c4a744fab1b222aabf7581f6  2906b810c7d4411798c6938adc9daaa5     1\n",
       "2455  54dd0ebf9ac74e7b876341509876e06a  9b98b8c7a33c4b65b9aebfe6a799e6d9     1\n",
       "2454  54d60cf626294a1685867c5f31dbf7b8  ae264e3637204a6fb9bb56bc8210ddfd     1\n",
       "2453  54ce16dc2b7b4fbb8d540a7d1161f92e  ae264e3637204a6fb9bb56bc8210ddfd     1\n",
       "2452  54cd64837ce04f0ab2d7c1153091dc53  2298d6c36e964ae4a3e7e9706d1fb8c2     1\n",
       "2450  54bead4179c44b71acc4e8398181d183  2906b810c7d4411798c6938adc9daaa5     1\n",
       "2436  543df9ba7ffd41e3a806ad6388e1673e  0b1e1539f2cc45b7b9fa7c272da2e1d7     1\n",
       "2449  54b38aa97c7f4ce8829830725f67f167  0b1e1539f2cc45b7b9fa7c272da2e1d7     1\n",
       "2447  54ac605ec4354bbfa726012d5236f4a1  2298d6c36e964ae4a3e7e9706d1fb8c2     1\n",
       "2446  54a93e6e0f864be19c02f7726770a059  0b1e1539f2cc45b7b9fa7c272da2e1d7     1\n",
       "2445  54a7bb02e8e84d028346d004cc461224  0b1e1539f2cc45b7b9fa7c272da2e1d7     1\n",
       "2444  5499b8b628354735bd656d900fec8179  0b1e1539f2cc45b7b9fa7c272da2e1d7     1\n",
       "2443  5485849d917a4311b8c28b2dea9ad7e0  9b98b8c7a33c4b65b9aebfe6a799e6d9     1\n",
       "2442  546e724e2f474bea9d1c94c0590a45ef  2298d6c36e964ae4a3e7e9706d1fb8c2     1\n",
       "2441  546ce705bc3d48b7a8992a37bd3d53e9  0b1e1539f2cc45b7b9fa7c272da2e1d7     1\n",
       "2440  54658f58643948239b5f782535922002  0b1e1539f2cc45b7b9fa7c272da2e1d7     1\n",
       "2438  543fda4e7a1842c589960b0304e8ecde  ae264e3637204a6fb9bb56bc8210ddfd     1\n",
       "2437  543ea0deb4dc4234ac6f5237eedffc9f  fafdcd668e3743c1bb461111dcafc2a4     1\n",
       "7277  ffff82501cea40309d5fdd7edcca4a07  2906b810c7d4411798c6938adc9daaa5     1\n",
       "\n",
       "[7278 rows x 3 columns]"
      ]
     },
     "execution_count": 40,
     "metadata": {},
     "output_type": "execute_result"
    }
   ],
   "source": [
    "model_data_labels0_not_completed.groupby(['person','offer_id'],as_index = False)['time'].count()\\\n",
    ".sort_values(by = 'time',ascending = False)"
   ]
  },
  {
   "cell_type": "code",
   "execution_count": 34,
   "metadata": {},
   "outputs": [],
   "source": [
    "offer_completed = offer_completed.rename(columns = {'person':'person_right','offer_id' : 'offer_id_right'})\n",
    "model_data_labels0_not_completed = pd.merge(model_data_labels0_not_completed,\n",
    "                                            offer_completed,\n",
    "                                            how = 'inner',\n",
    "                                            left_on = ['person','offer_id'],\n",
    "                                            right_on = ['person_right','offer_id_right']\n",
    "                                           )"
   ]
  },
  {
   "cell_type": "code",
   "execution_count": null,
   "metadata": {},
   "outputs": [],
   "source": [
    "model_data_labels0_not_completed['time_diff'] = model_data_labels0_not_completed['time_y'] - model_data_labels0_not_completed['time']\n",
    "model_data_labels0_not_completed = model_data_labels0_not_completed[model_data_labels0_not_completed['time_diff'] <= model_data_labels0_not_completed['duration'] * 24].copy().reset_index(drop = True)\n"
   ]
  },
  {
   "cell_type": "code",
   "execution_count": 35,
   "metadata": {},
   "outputs": [
    {
     "name": "stdout",
     "output_type": "stream",
     "text": [
      "<class 'pandas.core.frame.DataFrame'>\n",
      "Int64Index: 4633 entries, 0 to 4632\n",
      "Data columns (total 8 columns):\n",
      "person             4633 non-null object\n",
      "time_x             4633 non-null int64\n",
      "offer_id           4633 non-null object\n",
      "label              4633 non-null int64\n",
      "duration           4633 non-null int64\n",
      "label_completed    0 non-null float64\n",
      "value              4633 non-null object\n",
      "time_y             4633 non-null int64\n",
      "dtypes: float64(1), int64(4), object(3)\n",
      "memory usage: 325.8+ KB\n"
     ]
    }
   ],
   "source": [
    "model_data_labels0_not_completed.info()"
   ]
  },
  {
   "cell_type": "code",
   "execution_count": 24,
   "metadata": {},
   "outputs": [],
   "source": [
    "model_data_labels0_unique = model_data_labels0.groupby(['person','offer_id'],as_index = False)['time'].max()\n",
    "model_data_labels0_unique['label'] = 0"
   ]
  },
  {
   "cell_type": "code",
   "execution_count": 25,
   "metadata": {},
   "outputs": [],
   "source": [
    "final_data = pd.concat([model_data_labels0_unique,\n",
    "                        model_data_labels[model_data_labels['label'] == 1][['person','offer_id','time','label']]],\n",
    "                       ignore_index = True)"
   ]
  },
  {
   "cell_type": "code",
   "execution_count": 26,
   "metadata": {},
   "outputs": [
    {
     "name": "stdout",
     "output_type": "stream",
     "text": [
      "<class 'pandas.core.frame.DataFrame'>\n",
      "RangeIndex: 68686 entries, 0 to 68685\n",
      "Data columns (total 4 columns):\n",
      "person      68686 non-null object\n",
      "offer_id    68686 non-null object\n",
      "time        68686 non-null int64\n",
      "label       68686 non-null int64\n",
      "dtypes: int64(2), object(2)\n",
      "memory usage: 2.1+ MB\n"
     ]
    }
   ],
   "source": [
    "final_data.info()"
   ]
  },
  {
   "cell_type": "code",
   "execution_count": 27,
   "metadata": {},
   "outputs": [],
   "source": [
    "final_data = final_data.drop_duplicates(subset = ['person','offer_id'],keep = 'last').reset_index(drop = True)"
   ]
  },
  {
   "cell_type": "code",
   "execution_count": 28,
   "metadata": {},
   "outputs": [
    {
     "name": "stdout",
     "output_type": "stream",
     "text": [
      "<class 'pandas.core.frame.DataFrame'>\n",
      "RangeIndex: 63288 entries, 0 to 63287\n",
      "Data columns (total 4 columns):\n",
      "person      63288 non-null object\n",
      "offer_id    63288 non-null object\n",
      "time        63288 non-null int64\n",
      "label       63288 non-null int64\n",
      "dtypes: int64(2), object(2)\n",
      "memory usage: 1.9+ MB\n"
     ]
    }
   ],
   "source": [
    "final_data.info()"
   ]
  },
  {
   "cell_type": "code",
   "execution_count": 29,
   "metadata": {},
   "outputs": [
    {
     "name": "stdout",
     "output_type": "stream",
     "text": [
      "<class 'pandas.core.frame.DataFrame'>\n",
      "RangeIndex: 10 entries, 0 to 9\n",
      "Data columns (total 6 columns):\n",
      "channels      10 non-null object\n",
      "difficulty    10 non-null int64\n",
      "duration      10 non-null int64\n",
      "offer_id      10 non-null object\n",
      "offer_type    10 non-null object\n",
      "reward        10 non-null int64\n",
      "dtypes: int64(3), object(3)\n",
      "memory usage: 560.0+ bytes\n"
     ]
    }
   ],
   "source": [
    "#offer exploration\n",
    "portfolio.info()"
   ]
  },
  {
   "cell_type": "code",
   "execution_count": 30,
   "metadata": {},
   "outputs": [],
   "source": [
    "import seaborn as sns\n",
    "import matplotlib.pyplot as plt"
   ]
  },
  {
   "cell_type": "code",
   "execution_count": 31,
   "metadata": {},
   "outputs": [],
   "source": [
    "portfolio['number_channels'] = portfolio['channels'].apply(lambda x: len(x))"
   ]
  },
  {
   "cell_type": "code",
   "execution_count": 32,
   "metadata": {},
   "outputs": [
    {
     "name": "stdout",
     "output_type": "stream",
     "text": [
      "<class 'pandas.core.frame.DataFrame'>\n",
      "Int64Index: 63288 entries, 0 to 63287\n",
      "Data columns (total 10 columns):\n",
      "person             63288 non-null object\n",
      "offer_id           63288 non-null object\n",
      "time               63288 non-null int64\n",
      "label              63288 non-null int64\n",
      "channels           63288 non-null object\n",
      "difficulty         63288 non-null int64\n",
      "duration           63288 non-null int64\n",
      "offer_type         63288 non-null object\n",
      "reward             63288 non-null int64\n",
      "number_channels    63288 non-null int64\n",
      "dtypes: int64(6), object(4)\n",
      "memory usage: 5.3+ MB\n"
     ]
    }
   ],
   "source": [
    "final_data = pd.merge(final_data,portfolio,on = 'offer_id',how = 'left')\n",
    "final_data.info()"
   ]
  },
  {
   "cell_type": "code",
   "execution_count": 33,
   "metadata": {},
   "outputs": [
    {
     "data": {
      "text/plain": [
       "<matplotlib.axes._subplots.AxesSubplot at 0x7fbfe9b19fd0>"
      ]
     },
     "execution_count": 33,
     "metadata": {},
     "output_type": "execute_result"
    },
    {
     "data": {
      "image/png": "[encoded data removed]",
      "text/plain": [
       "<matplotlib.figure.Figure at 0x7fbfe9b19828>"
      ]
     },
     "metadata": {
      "needs_background": "light"
     },
     "output_type": "display_data"
    }
   ],
   "source": [
    "offer_type_data = final_data.groupby('offer_type',as_index = False)['label'].mean()\n",
    "sns.barplot(data = offer_type_data,x='offer_type',y='label')"
   ]
  },
  {
   "cell_type": "code",
   "execution_count": 34,
   "metadata": {},
   "outputs": [
    {
     "data": {
      "text/plain": [
       "bogo             25321\n",
       "discount         25316\n",
       "informational    12651\n",
       "Name: offer_type, dtype: int64"
      ]
     },
     "execution_count": 34,
     "metadata": {},
     "output_type": "execute_result"
    }
   ],
   "source": [
    "final_data['offer_type'].value_counts()"
   ]
  },
  {
   "cell_type": "code",
   "execution_count": 35,
   "metadata": {},
   "outputs": [
    {
     "data": {
      "image/png": "[encoded data removed]",
      "text/plain": [
       "<matplotlib.figure.Figure at 0x7fbfe9b21d30>"
      ]
     },
     "metadata": {
      "needs_background": "light"
     },
     "output_type": "display_data"
    }
   ],
   "source": [
    "fig,axes=plt.subplots(figsize=(10,5))\n",
    "sns.boxplot(data=final_data,x='label',y='difficulty',palette='rainbow')\n",
    "plt.tight_layout()"
   ]
  },
  {
   "cell_type": "code",
   "execution_count": 36,
   "metadata": {},
   "outputs": [
    {
     "data": {
      "image/png": "[encoded data removed]",
      "text/plain": [
       "<matplotlib.figure.Figure at 0x7fbfe9f8b320>"
      ]
     },
     "metadata": {
      "needs_background": "light"
     },
     "output_type": "display_data"
    }
   ],
   "source": [
    "fig,axes=plt.subplots(figsize=(10,5))\n",
    "sns.boxplot(data=final_data,x='label',y='duration',palette='rainbow')\n",
    "plt.tight_layout()"
   ]
  },
  {
   "cell_type": "code",
   "execution_count": 37,
   "metadata": {},
   "outputs": [
    {
     "data": {
      "text/plain": [
       "<matplotlib.axes._subplots.AxesSubplot at 0x7fbfe9a4a240>"
      ]
     },
     "execution_count": 37,
     "metadata": {},
     "output_type": "execute_result"
    },
    {
     "data": {
      "image/png": "[encoded data removed]",
      "text/plain": [
       "<matplotlib.figure.Figure at 0x7fbfe9a970f0>"
      ]
     },
     "metadata": {
      "needs_background": "light"
     },
     "output_type": "display_data"
    }
   ],
   "source": [
    "fig,axes=plt.subplots(figsize=(10,5))\n",
    "offer_type_data = final_data.groupby('offer_id',as_index = False)['label'].mean()\n",
    "plt.xticks(rotation=45)\n",
    "sns.barplot(data = offer_type_data,x='offer_id',y='label')"
   ]
  },
  {
   "cell_type": "code",
   "execution_count": 38,
   "metadata": {},
   "outputs": [
    {
     "data": {
      "text/html": [
       "<div>\n",
       "<style scoped>\n",
       "    .dataframe tbody tr th:only-of-type {\n",
       "        vertical-align: middle;\n",
       "    }\n",
       "\n",
       "    .dataframe tbody tr th {\n",
       "        vertical-align: top;\n",
       "    }\n",
       "\n",
       "    .dataframe thead th {\n",
       "        text-align: right;\n",
       "    }\n",
       "</style>\n",
       "<table border=\"1\" class=\"dataframe\">\n",
       "  <thead>\n",
       "    <tr style=\"text-align: right;\">\n",
       "      <th></th>\n",
       "      <th>offer_id</th>\n",
       "      <th>label</th>\n",
       "    </tr>\n",
       "  </thead>\n",
       "  <tbody>\n",
       "    <tr>\n",
       "      <th>0</th>\n",
       "      <td>0b1e1539f2cc45b7b9fa7c272da2e1d7</td>\n",
       "      <td>0.198149</td>\n",
       "    </tr>\n",
       "    <tr>\n",
       "      <th>1</th>\n",
       "      <td>2298d6c36e964ae4a3e7e9706d1fb8c2</td>\n",
       "      <td>0.615968</td>\n",
       "    </tr>\n",
       "    <tr>\n",
       "      <th>2</th>\n",
       "      <td>2906b810c7d4411798c6938adc9daaa5</td>\n",
       "      <td>0.318059</td>\n",
       "    </tr>\n",
       "    <tr>\n",
       "      <th>3</th>\n",
       "      <td>3f207df678b143eea3cee63160fa8bed</td>\n",
       "      <td>0.000000</td>\n",
       "    </tr>\n",
       "    <tr>\n",
       "      <th>4</th>\n",
       "      <td>4d5c57ea9a6940dd891ad53e9dbe8da0</td>\n",
       "      <td>0.392259</td>\n",
       "    </tr>\n",
       "    <tr>\n",
       "      <th>5</th>\n",
       "      <td>5a8bc65990b245e5a138643cd4eb9837</td>\n",
       "      <td>0.000000</td>\n",
       "    </tr>\n",
       "    <tr>\n",
       "      <th>6</th>\n",
       "      <td>9b98b8c7a33c4b65b9aebfe6a799e6d9</td>\n",
       "      <td>0.319748</td>\n",
       "    </tr>\n",
       "    <tr>\n",
       "      <th>7</th>\n",
       "      <td>ae264e3637204a6fb9bb56bc8210ddfd</td>\n",
       "      <td>0.375431</td>\n",
       "    </tr>\n",
       "    <tr>\n",
       "      <th>8</th>\n",
       "      <td>f19421c1d4aa40978ebb69ca19b0e20d</td>\n",
       "      <td>0.511817</td>\n",
       "    </tr>\n",
       "    <tr>\n",
       "      <th>9</th>\n",
       "      <td>fafdcd668e3743c1bb461111dcafc2a4</td>\n",
       "      <td>0.647663</td>\n",
       "    </tr>\n",
       "  </tbody>\n",
       "</table>\n",
       "</div>"
      ],
      "text/plain": [
       "                           offer_id     label\n",
       "0  0b1e1539f2cc45b7b9fa7c272da2e1d7  0.198149\n",
       "1  2298d6c36e964ae4a3e7e9706d1fb8c2  0.615968\n",
       "2  2906b810c7d4411798c6938adc9daaa5  0.318059\n",
       "3  3f207df678b143eea3cee63160fa8bed  0.000000\n",
       "4  4d5c57ea9a6940dd891ad53e9dbe8da0  0.392259\n",
       "5  5a8bc65990b245e5a138643cd4eb9837  0.000000\n",
       "6  9b98b8c7a33c4b65b9aebfe6a799e6d9  0.319748\n",
       "7  ae264e3637204a6fb9bb56bc8210ddfd  0.375431\n",
       "8  f19421c1d4aa40978ebb69ca19b0e20d  0.511817\n",
       "9  fafdcd668e3743c1bb461111dcafc2a4  0.647663"
      ]
     },
     "execution_count": 38,
     "metadata": {},
     "output_type": "execute_result"
    }
   ],
   "source": [
    "offer_type_data"
   ]
  },
  {
   "cell_type": "code",
   "execution_count": 39,
   "metadata": {},
   "outputs": [
    {
     "data": {
      "text/html": [
       "<div>\n",
       "<style scoped>\n",
       "    .dataframe tbody tr th:only-of-type {\n",
       "        vertical-align: middle;\n",
       "    }\n",
       "\n",
       "    .dataframe tbody tr th {\n",
       "        vertical-align: top;\n",
       "    }\n",
       "\n",
       "    .dataframe thead th {\n",
       "        text-align: right;\n",
       "    }\n",
       "</style>\n",
       "<table border=\"1\" class=\"dataframe\">\n",
       "  <thead>\n",
       "    <tr style=\"text-align: right;\">\n",
       "      <th></th>\n",
       "      <th>channels</th>\n",
       "      <th>difficulty</th>\n",
       "      <th>duration</th>\n",
       "      <th>offer_id</th>\n",
       "      <th>offer_type</th>\n",
       "      <th>reward</th>\n",
       "      <th>number_channels</th>\n",
       "    </tr>\n",
       "  </thead>\n",
       "  <tbody>\n",
       "    <tr>\n",
       "      <th>6</th>\n",
       "      <td>[web, email, mobile, social]</td>\n",
       "      <td>10</td>\n",
       "      <td>10</td>\n",
       "      <td>fafdcd668e3743c1bb461111dcafc2a4</td>\n",
       "      <td>discount</td>\n",
       "      <td>2</td>\n",
       "      <td>4</td>\n",
       "    </tr>\n",
       "  </tbody>\n",
       "</table>\n",
       "</div>"
      ],
      "text/plain": [
       "                       channels  difficulty  duration  \\\n",
       "6  [web, email, mobile, social]          10        10   \n",
       "\n",
       "                           offer_id offer_type  reward  number_channels  \n",
       "6  fafdcd668e3743c1bb461111dcafc2a4   discount       2                4  "
      ]
     },
     "execution_count": 39,
     "metadata": {},
     "output_type": "execute_result"
    }
   ],
   "source": [
    "portfolio[portfolio['offer_id'] == 'fafdcd668e3743c1bb461111dcafc2a4']"
   ]
  },
  {
   "cell_type": "code",
   "execution_count": null,
   "metadata": {},
   "outputs": [],
   "source": []
  },
  {
   "cell_type": "code",
   "execution_count": 40,
   "metadata": {},
   "outputs": [
    {
     "data": {
      "text/html": [
       "<div>\n",
       "<style scoped>\n",
       "    .dataframe tbody tr th:only-of-type {\n",
       "        vertical-align: middle;\n",
       "    }\n",
       "\n",
       "    .dataframe tbody tr th {\n",
       "        vertical-align: top;\n",
       "    }\n",
       "\n",
       "    .dataframe thead th {\n",
       "        text-align: right;\n",
       "    }\n",
       "</style>\n",
       "<table border=\"1\" class=\"dataframe\">\n",
       "  <thead>\n",
       "    <tr style=\"text-align: right;\">\n",
       "      <th></th>\n",
       "      <th>channels</th>\n",
       "      <th>difficulty</th>\n",
       "      <th>duration</th>\n",
       "      <th>offer_id</th>\n",
       "      <th>offer_type</th>\n",
       "      <th>reward</th>\n",
       "      <th>number_channels</th>\n",
       "    </tr>\n",
       "  </thead>\n",
       "  <tbody>\n",
       "    <tr>\n",
       "      <th>0</th>\n",
       "      <td>[email, mobile, social]</td>\n",
       "      <td>10</td>\n",
       "      <td>7</td>\n",
       "      <td>ae264e3637204a6fb9bb56bc8210ddfd</td>\n",
       "      <td>bogo</td>\n",
       "      <td>10</td>\n",
       "      <td>3</td>\n",
       "    </tr>\n",
       "    <tr>\n",
       "      <th>1</th>\n",
       "      <td>[web, email, mobile, social]</td>\n",
       "      <td>10</td>\n",
       "      <td>5</td>\n",
       "      <td>4d5c57ea9a6940dd891ad53e9dbe8da0</td>\n",
       "      <td>bogo</td>\n",
       "      <td>10</td>\n",
       "      <td>4</td>\n",
       "    </tr>\n",
       "    <tr>\n",
       "      <th>2</th>\n",
       "      <td>[web, email, mobile]</td>\n",
       "      <td>0</td>\n",
       "      <td>4</td>\n",
       "      <td>3f207df678b143eea3cee63160fa8bed</td>\n",
       "      <td>informational</td>\n",
       "      <td>0</td>\n",
       "      <td>3</td>\n",
       "    </tr>\n",
       "    <tr>\n",
       "      <th>3</th>\n",
       "      <td>[web, email, mobile]</td>\n",
       "      <td>5</td>\n",
       "      <td>7</td>\n",
       "      <td>9b98b8c7a33c4b65b9aebfe6a799e6d9</td>\n",
       "      <td>bogo</td>\n",
       "      <td>5</td>\n",
       "      <td>3</td>\n",
       "    </tr>\n",
       "    <tr>\n",
       "      <th>4</th>\n",
       "      <td>[web, email]</td>\n",
       "      <td>20</td>\n",
       "      <td>10</td>\n",
       "      <td>0b1e1539f2cc45b7b9fa7c272da2e1d7</td>\n",
       "      <td>discount</td>\n",
       "      <td>5</td>\n",
       "      <td>2</td>\n",
       "    </tr>\n",
       "    <tr>\n",
       "      <th>5</th>\n",
       "      <td>[web, email, mobile, social]</td>\n",
       "      <td>7</td>\n",
       "      <td>7</td>\n",
       "      <td>2298d6c36e964ae4a3e7e9706d1fb8c2</td>\n",
       "      <td>discount</td>\n",
       "      <td>3</td>\n",
       "      <td>4</td>\n",
       "    </tr>\n",
       "    <tr>\n",
       "      <th>6</th>\n",
       "      <td>[web, email, mobile, social]</td>\n",
       "      <td>10</td>\n",
       "      <td>10</td>\n",
       "      <td>fafdcd668e3743c1bb461111dcafc2a4</td>\n",
       "      <td>discount</td>\n",
       "      <td>2</td>\n",
       "      <td>4</td>\n",
       "    </tr>\n",
       "    <tr>\n",
       "      <th>7</th>\n",
       "      <td>[email, mobile, social]</td>\n",
       "      <td>0</td>\n",
       "      <td>3</td>\n",
       "      <td>5a8bc65990b245e5a138643cd4eb9837</td>\n",
       "      <td>informational</td>\n",
       "      <td>0</td>\n",
       "      <td>3</td>\n",
       "    </tr>\n",
       "    <tr>\n",
       "      <th>8</th>\n",
       "      <td>[web, email, mobile, social]</td>\n",
       "      <td>5</td>\n",
       "      <td>5</td>\n",
       "      <td>f19421c1d4aa40978ebb69ca19b0e20d</td>\n",
       "      <td>bogo</td>\n",
       "      <td>5</td>\n",
       "      <td>4</td>\n",
       "    </tr>\n",
       "    <tr>\n",
       "      <th>9</th>\n",
       "      <td>[web, email, mobile]</td>\n",
       "      <td>10</td>\n",
       "      <td>7</td>\n",
       "      <td>2906b810c7d4411798c6938adc9daaa5</td>\n",
       "      <td>discount</td>\n",
       "      <td>2</td>\n",
       "      <td>3</td>\n",
       "    </tr>\n",
       "  </tbody>\n",
       "</table>\n",
       "</div>"
      ],
      "text/plain": [
       "                       channels  difficulty  duration  \\\n",
       "0       [email, mobile, social]          10         7   \n",
       "1  [web, email, mobile, social]          10         5   \n",
       "2          [web, email, mobile]           0         4   \n",
       "3          [web, email, mobile]           5         7   \n",
       "4                  [web, email]          20        10   \n",
       "5  [web, email, mobile, social]           7         7   \n",
       "6  [web, email, mobile, social]          10        10   \n",
       "7       [email, mobile, social]           0         3   \n",
       "8  [web, email, mobile, social]           5         5   \n",
       "9          [web, email, mobile]          10         7   \n",
       "\n",
       "                           offer_id     offer_type  reward  number_channels  \n",
       "0  ae264e3637204a6fb9bb56bc8210ddfd           bogo      10                3  \n",
       "1  4d5c57ea9a6940dd891ad53e9dbe8da0           bogo      10                4  \n",
       "2  3f207df678b143eea3cee63160fa8bed  informational       0                3  \n",
       "3  9b98b8c7a33c4b65b9aebfe6a799e6d9           bogo       5                3  \n",
       "4  0b1e1539f2cc45b7b9fa7c272da2e1d7       discount       5                2  \n",
       "5  2298d6c36e964ae4a3e7e9706d1fb8c2       discount       3                4  \n",
       "6  fafdcd668e3743c1bb461111dcafc2a4       discount       2                4  \n",
       "7  5a8bc65990b245e5a138643cd4eb9837  informational       0                3  \n",
       "8  f19421c1d4aa40978ebb69ca19b0e20d           bogo       5                4  \n",
       "9  2906b810c7d4411798c6938adc9daaa5       discount       2                3  "
      ]
     },
     "execution_count": 40,
     "metadata": {},
     "output_type": "execute_result"
    }
   ],
   "source": [
    "portfolio"
   ]
  },
  {
   "cell_type": "code",
   "execution_count": 41,
   "metadata": {},
   "outputs": [
    {
     "data": {
      "text/plain": [
       "<matplotlib.axes._subplots.AxesSubplot at 0x7fbfe9a14fd0>"
      ]
     },
     "execution_count": 41,
     "metadata": {},
     "output_type": "execute_result"
    },
    {
     "data": {
      "image/png": "[encoded data removed]",
      "text/plain": [
       "<matplotlib.figure.Figure at 0x7fbfe9a14860>"
      ]
     },
     "metadata": {
      "needs_background": "light"
     },
     "output_type": "display_data"
    }
   ],
   "source": [
    "fig,axes=plt.subplots(figsize=(10,5))\n",
    "offer_type_data = final_data.groupby('number_channels',as_index = False)['label'].mean()\n",
    "plt.xticks(rotation=45)\n",
    "sns.barplot(data = offer_type_data,x='number_channels',y='label')"
   ]
  },
  {
   "cell_type": "code",
   "execution_count": 42,
   "metadata": {},
   "outputs": [
    {
     "name": "stdout",
     "output_type": "stream",
     "text": [
      "<class 'pandas.core.frame.DataFrame'>\n",
      "RangeIndex: 17000 entries, 0 to 16999\n",
      "Data columns (total 5 columns):\n",
      "age                 17000 non-null int64\n",
      "became_member_on    17000 non-null int64\n",
      "gender              14825 non-null object\n",
      "id                  17000 non-null object\n",
      "income              14825 non-null float64\n",
      "dtypes: float64(1), int64(2), object(2)\n",
      "memory usage: 664.1+ KB\n"
     ]
    }
   ],
   "source": [
    "profile.info()"
   ]
  },
  {
   "cell_type": "code",
   "execution_count": 43,
   "metadata": {},
   "outputs": [
    {
     "data": {
      "text/html": [
       "<div>\n",
       "<style scoped>\n",
       "    .dataframe tbody tr th:only-of-type {\n",
       "        vertical-align: middle;\n",
       "    }\n",
       "\n",
       "    .dataframe tbody tr th {\n",
       "        vertical-align: top;\n",
       "    }\n",
       "\n",
       "    .dataframe thead th {\n",
       "        text-align: right;\n",
       "    }\n",
       "</style>\n",
       "<table border=\"1\" class=\"dataframe\">\n",
       "  <thead>\n",
       "    <tr style=\"text-align: right;\">\n",
       "      <th></th>\n",
       "      <th>age</th>\n",
       "      <th>became_member_on</th>\n",
       "      <th>gender</th>\n",
       "      <th>id</th>\n",
       "      <th>income</th>\n",
       "    </tr>\n",
       "  </thead>\n",
       "  <tbody>\n",
       "    <tr>\n",
       "      <th>0</th>\n",
       "      <td>118</td>\n",
       "      <td>20170212</td>\n",
       "      <td>None</td>\n",
       "      <td>68be06ca386d4c31939f3a4f0e3dd783</td>\n",
       "      <td>NaN</td>\n",
       "    </tr>\n",
       "    <tr>\n",
       "      <th>1</th>\n",
       "      <td>55</td>\n",
       "      <td>20170715</td>\n",
       "      <td>F</td>\n",
       "      <td>0610b486422d4921ae7d2bf64640c50b</td>\n",
       "      <td>112000.0</td>\n",
       "    </tr>\n",
       "    <tr>\n",
       "      <th>2</th>\n",
       "      <td>118</td>\n",
       "      <td>20180712</td>\n",
       "      <td>None</td>\n",
       "      <td>38fe809add3b4fcf9315a9694bb96ff5</td>\n",
       "      <td>NaN</td>\n",
       "    </tr>\n",
       "    <tr>\n",
       "      <th>3</th>\n",
       "      <td>75</td>\n",
       "      <td>20170509</td>\n",
       "      <td>F</td>\n",
       "      <td>78afa995795e4d85b5d9ceeca43f5fef</td>\n",
       "      <td>100000.0</td>\n",
       "    </tr>\n",
       "    <tr>\n",
       "      <th>4</th>\n",
       "      <td>118</td>\n",
       "      <td>20170804</td>\n",
       "      <td>None</td>\n",
       "      <td>a03223e636434f42ac4c3df47e8bac43</td>\n",
       "      <td>NaN</td>\n",
       "    </tr>\n",
       "  </tbody>\n",
       "</table>\n",
       "</div>"
      ],
      "text/plain": [
       "   age  became_member_on gender                                id    income\n",
       "0  118          20170212   None  68be06ca386d4c31939f3a4f0e3dd783       NaN\n",
       "1   55          20170715      F  0610b486422d4921ae7d2bf64640c50b  112000.0\n",
       "2  118          20180712   None  38fe809add3b4fcf9315a9694bb96ff5       NaN\n",
       "3   75          20170509      F  78afa995795e4d85b5d9ceeca43f5fef  100000.0\n",
       "4  118          20170804   None  a03223e636434f42ac4c3df47e8bac43       NaN"
      ]
     },
     "execution_count": 43,
     "metadata": {},
     "output_type": "execute_result"
    }
   ],
   "source": [
    "profile.head()"
   ]
  },
  {
   "cell_type": "code",
   "execution_count": 44,
   "metadata": {},
   "outputs": [],
   "source": [
    "profile = profile.rename(columns = {'id':'person'})"
   ]
  },
  {
   "cell_type": "code",
   "execution_count": 45,
   "metadata": {},
   "outputs": [
    {
     "data": {
      "text/html": [
       "<div>\n",
       "<style scoped>\n",
       "    .dataframe tbody tr th:only-of-type {\n",
       "        vertical-align: middle;\n",
       "    }\n",
       "\n",
       "    .dataframe tbody tr th {\n",
       "        vertical-align: top;\n",
       "    }\n",
       "\n",
       "    .dataframe thead th {\n",
       "        text-align: right;\n",
       "    }\n",
       "</style>\n",
       "<table border=\"1\" class=\"dataframe\">\n",
       "  <thead>\n",
       "    <tr style=\"text-align: right;\">\n",
       "      <th></th>\n",
       "      <th>age</th>\n",
       "      <th>became_member_on</th>\n",
       "      <th>gender</th>\n",
       "      <th>person</th>\n",
       "      <th>income</th>\n",
       "    </tr>\n",
       "  </thead>\n",
       "  <tbody>\n",
       "    <tr>\n",
       "      <th>31</th>\n",
       "      <td>53</td>\n",
       "      <td>20170916</td>\n",
       "      <td>O</td>\n",
       "      <td>d1ede868e29245ea91818a903fec04c6</td>\n",
       "      <td>52000.0</td>\n",
       "    </tr>\n",
       "    <tr>\n",
       "      <th>273</th>\n",
       "      <td>60</td>\n",
       "      <td>20180216</td>\n",
       "      <td>O</td>\n",
       "      <td>d0be9ff460964c3398a33ad9b2829f3a</td>\n",
       "      <td>94000.0</td>\n",
       "    </tr>\n",
       "    <tr>\n",
       "      <th>383</th>\n",
       "      <td>49</td>\n",
       "      <td>20171207</td>\n",
       "      <td>O</td>\n",
       "      <td>0d0a9ca9281248a8a35806c9ae68f872</td>\n",
       "      <td>42000.0</td>\n",
       "    </tr>\n",
       "    <tr>\n",
       "      <th>513</th>\n",
       "      <td>63</td>\n",
       "      <td>20150920</td>\n",
       "      <td>O</td>\n",
       "      <td>01f46a5191424005af436cdf48a5da7c</td>\n",
       "      <td>89000.0</td>\n",
       "    </tr>\n",
       "    <tr>\n",
       "      <th>576</th>\n",
       "      <td>73</td>\n",
       "      <td>20180316</td>\n",
       "      <td>O</td>\n",
       "      <td>644ac06dc9b34a5bbd237a465cf47571</td>\n",
       "      <td>88000.0</td>\n",
       "    </tr>\n",
       "    <tr>\n",
       "      <th>851</th>\n",
       "      <td>48</td>\n",
       "      <td>20160729</td>\n",
       "      <td>O</td>\n",
       "      <td>338c28f32c5944a99a0529be26d145dd</td>\n",
       "      <td>80000.0</td>\n",
       "    </tr>\n",
       "    <tr>\n",
       "      <th>889</th>\n",
       "      <td>32</td>\n",
       "      <td>20161223</td>\n",
       "      <td>O</td>\n",
       "      <td>0d96a963d3e94044aa7934276db005e4</td>\n",
       "      <td>54000.0</td>\n",
       "    </tr>\n",
       "    <tr>\n",
       "      <th>895</th>\n",
       "      <td>59</td>\n",
       "      <td>20170805</td>\n",
       "      <td>O</td>\n",
       "      <td>494a99f508f74ad0ae047c68bf837791</td>\n",
       "      <td>73000.0</td>\n",
       "    </tr>\n",
       "    <tr>\n",
       "      <th>979</th>\n",
       "      <td>74</td>\n",
       "      <td>20150910</td>\n",
       "      <td>O</td>\n",
       "      <td>2ddc7d63c32d4606a7a45e3e70439b44</td>\n",
       "      <td>61000.0</td>\n",
       "    </tr>\n",
       "    <tr>\n",
       "      <th>981</th>\n",
       "      <td>55</td>\n",
       "      <td>20170504</td>\n",
       "      <td>O</td>\n",
       "      <td>acde74ee0f4d418e8fd5bf4f4da8f56c</td>\n",
       "      <td>76000.0</td>\n",
       "    </tr>\n",
       "    <tr>\n",
       "      <th>1057</th>\n",
       "      <td>81</td>\n",
       "      <td>20180324</td>\n",
       "      <td>O</td>\n",
       "      <td>5cac1f0d55c3466fb29e8de342a5e9c9</td>\n",
       "      <td>57000.0</td>\n",
       "    </tr>\n",
       "    <tr>\n",
       "      <th>1349</th>\n",
       "      <td>35</td>\n",
       "      <td>20171115</td>\n",
       "      <td>O</td>\n",
       "      <td>f366d7306e6b4aa984e359357cf4e5dc</td>\n",
       "      <td>54000.0</td>\n",
       "    </tr>\n",
       "    <tr>\n",
       "      <th>1356</th>\n",
       "      <td>56</td>\n",
       "      <td>20180501</td>\n",
       "      <td>O</td>\n",
       "      <td>10e4aeef401f4b7d8a700e365cca1a4b</td>\n",
       "      <td>33000.0</td>\n",
       "    </tr>\n",
       "    <tr>\n",
       "      <th>1477</th>\n",
       "      <td>20</td>\n",
       "      <td>20180205</td>\n",
       "      <td>O</td>\n",
       "      <td>24ca64fbcf5e433fba3554d60b0d0433</td>\n",
       "      <td>33000.0</td>\n",
       "    </tr>\n",
       "    <tr>\n",
       "      <th>1483</th>\n",
       "      <td>47</td>\n",
       "      <td>20161012</td>\n",
       "      <td>O</td>\n",
       "      <td>dec189ccab874c059b32e2c6596c362d</td>\n",
       "      <td>39000.0</td>\n",
       "    </tr>\n",
       "    <tr>\n",
       "      <th>1541</th>\n",
       "      <td>64</td>\n",
       "      <td>20180529</td>\n",
       "      <td>O</td>\n",
       "      <td>f5f1e2044c7d4fa68938640809cbb4bd</td>\n",
       "      <td>31000.0</td>\n",
       "    </tr>\n",
       "    <tr>\n",
       "      <th>1646</th>\n",
       "      <td>57</td>\n",
       "      <td>20180124</td>\n",
       "      <td>O</td>\n",
       "      <td>54b0aabbe655480c880c8423b30a09e0</td>\n",
       "      <td>32000.0</td>\n",
       "    </tr>\n",
       "    <tr>\n",
       "      <th>1649</th>\n",
       "      <td>35</td>\n",
       "      <td>20170815</td>\n",
       "      <td>O</td>\n",
       "      <td>e690a6ff8e78481ca126e1e8e1eb4212</td>\n",
       "      <td>31000.0</td>\n",
       "    </tr>\n",
       "    <tr>\n",
       "      <th>1991</th>\n",
       "      <td>26</td>\n",
       "      <td>20160725</td>\n",
       "      <td>O</td>\n",
       "      <td>4d8dcd13e33649578c756363d039870c</td>\n",
       "      <td>53000.0</td>\n",
       "    </tr>\n",
       "    <tr>\n",
       "      <th>2023</th>\n",
       "      <td>53</td>\n",
       "      <td>20170127</td>\n",
       "      <td>O</td>\n",
       "      <td>9f8b97dbbf3740199a0c701febb6a687</td>\n",
       "      <td>100000.0</td>\n",
       "    </tr>\n",
       "    <tr>\n",
       "      <th>2058</th>\n",
       "      <td>76</td>\n",
       "      <td>20180207</td>\n",
       "      <td>O</td>\n",
       "      <td>1a4ccc5cba79437caf2a42d7ae64e16d</td>\n",
       "      <td>60000.0</td>\n",
       "    </tr>\n",
       "    <tr>\n",
       "      <th>2290</th>\n",
       "      <td>67</td>\n",
       "      <td>20170214</td>\n",
       "      <td>O</td>\n",
       "      <td>9bfcb9551d364ef89f928f6ef195318d</td>\n",
       "      <td>57000.0</td>\n",
       "    </tr>\n",
       "    <tr>\n",
       "      <th>2322</th>\n",
       "      <td>58</td>\n",
       "      <td>20150831</td>\n",
       "      <td>O</td>\n",
       "      <td>c3b922f22b3949579681bd9198d8f266</td>\n",
       "      <td>73000.0</td>\n",
       "    </tr>\n",
       "    <tr>\n",
       "      <th>2350</th>\n",
       "      <td>42</td>\n",
       "      <td>20170926</td>\n",
       "      <td>O</td>\n",
       "      <td>8ead309bb7254edbab114c8837cd54b2</td>\n",
       "      <td>63000.0</td>\n",
       "    </tr>\n",
       "    <tr>\n",
       "      <th>2374</th>\n",
       "      <td>49</td>\n",
       "      <td>20170919</td>\n",
       "      <td>O</td>\n",
       "      <td>e490d5694a114facabe8b70470000a2e</td>\n",
       "      <td>68000.0</td>\n",
       "    </tr>\n",
       "    <tr>\n",
       "      <th>2623</th>\n",
       "      <td>57</td>\n",
       "      <td>20170720</td>\n",
       "      <td>O</td>\n",
       "      <td>8a60e707c2d6445a91bb1b0a87bdf0ca</td>\n",
       "      <td>65000.0</td>\n",
       "    </tr>\n",
       "    <tr>\n",
       "      <th>2744</th>\n",
       "      <td>46</td>\n",
       "      <td>20171024</td>\n",
       "      <td>O</td>\n",
       "      <td>2334c3155e884d3c9529ee471f814a49</td>\n",
       "      <td>91000.0</td>\n",
       "    </tr>\n",
       "    <tr>\n",
       "      <th>3008</th>\n",
       "      <td>49</td>\n",
       "      <td>20171122</td>\n",
       "      <td>O</td>\n",
       "      <td>6db6c774200b4c99bdbd8e7e2ab98b31</td>\n",
       "      <td>80000.0</td>\n",
       "    </tr>\n",
       "    <tr>\n",
       "      <th>3111</th>\n",
       "      <td>74</td>\n",
       "      <td>20151010</td>\n",
       "      <td>O</td>\n",
       "      <td>c1bb5a4b6d4a47ee8c5c009bbae056e3</td>\n",
       "      <td>56000.0</td>\n",
       "    </tr>\n",
       "    <tr>\n",
       "      <th>3191</th>\n",
       "      <td>75</td>\n",
       "      <td>20151014</td>\n",
       "      <td>O</td>\n",
       "      <td>7025289419d44b4ca63e394bc870c88e</td>\n",
       "      <td>60000.0</td>\n",
       "    </tr>\n",
       "    <tr>\n",
       "      <th>...</th>\n",
       "      <td>...</td>\n",
       "      <td>...</td>\n",
       "      <td>...</td>\n",
       "      <td>...</td>\n",
       "      <td>...</td>\n",
       "    </tr>\n",
       "    <tr>\n",
       "      <th>14819</th>\n",
       "      <td>43</td>\n",
       "      <td>20160728</td>\n",
       "      <td>O</td>\n",
       "      <td>14462e564e044822b4b29684512ee428</td>\n",
       "      <td>100000.0</td>\n",
       "    </tr>\n",
       "    <tr>\n",
       "      <th>14976</th>\n",
       "      <td>85</td>\n",
       "      <td>20161103</td>\n",
       "      <td>O</td>\n",
       "      <td>b2daf4ff73cc4791b6ae6d9c41223b69</td>\n",
       "      <td>65000.0</td>\n",
       "    </tr>\n",
       "    <tr>\n",
       "      <th>15043</th>\n",
       "      <td>20</td>\n",
       "      <td>20180512</td>\n",
       "      <td>O</td>\n",
       "      <td>8b9658d02943407d8e014a9bc971a3d5</td>\n",
       "      <td>58000.0</td>\n",
       "    </tr>\n",
       "    <tr>\n",
       "      <th>15210</th>\n",
       "      <td>68</td>\n",
       "      <td>20170417</td>\n",
       "      <td>O</td>\n",
       "      <td>fb33c4e72dc44e4aaa7dda815437e68c</td>\n",
       "      <td>76000.0</td>\n",
       "    </tr>\n",
       "    <tr>\n",
       "      <th>15245</th>\n",
       "      <td>67</td>\n",
       "      <td>20171004</td>\n",
       "      <td>O</td>\n",
       "      <td>880bc4be716e412b8015e2e4fe32a7de</td>\n",
       "      <td>33000.0</td>\n",
       "    </tr>\n",
       "    <tr>\n",
       "      <th>15285</th>\n",
       "      <td>67</td>\n",
       "      <td>20180114</td>\n",
       "      <td>O</td>\n",
       "      <td>914b49e0ccc8461f936a87ddeeae5660</td>\n",
       "      <td>58000.0</td>\n",
       "    </tr>\n",
       "    <tr>\n",
       "      <th>15360</th>\n",
       "      <td>31</td>\n",
       "      <td>20170321</td>\n",
       "      <td>O</td>\n",
       "      <td>06b81e95ef4b41d494b03f4832b2c82e</td>\n",
       "      <td>35000.0</td>\n",
       "    </tr>\n",
       "    <tr>\n",
       "      <th>15431</th>\n",
       "      <td>38</td>\n",
       "      <td>20150729</td>\n",
       "      <td>O</td>\n",
       "      <td>74aaf7e635f140ca8316d5b5071b57dc</td>\n",
       "      <td>58000.0</td>\n",
       "    </tr>\n",
       "    <tr>\n",
       "      <th>15490</th>\n",
       "      <td>72</td>\n",
       "      <td>20180404</td>\n",
       "      <td>O</td>\n",
       "      <td>5fd694ac11244daa87e48d39ee302f46</td>\n",
       "      <td>82000.0</td>\n",
       "    </tr>\n",
       "    <tr>\n",
       "      <th>15553</th>\n",
       "      <td>73</td>\n",
       "      <td>20170908</td>\n",
       "      <td>O</td>\n",
       "      <td>47849ffd86e34e40a763bb66ad81fbb1</td>\n",
       "      <td>43000.0</td>\n",
       "    </tr>\n",
       "    <tr>\n",
       "      <th>15641</th>\n",
       "      <td>48</td>\n",
       "      <td>20170623</td>\n",
       "      <td>O</td>\n",
       "      <td>3d6dda5a29c345fa99982972c7012b15</td>\n",
       "      <td>94000.0</td>\n",
       "    </tr>\n",
       "    <tr>\n",
       "      <th>15811</th>\n",
       "      <td>55</td>\n",
       "      <td>20171022</td>\n",
       "      <td>O</td>\n",
       "      <td>694d6543c6fe4b2696d25b825475833a</td>\n",
       "      <td>80000.0</td>\n",
       "    </tr>\n",
       "    <tr>\n",
       "      <th>15824</th>\n",
       "      <td>47</td>\n",
       "      <td>20160310</td>\n",
       "      <td>O</td>\n",
       "      <td>e1c6ff66f7a84bea8e9f1024b8738571</td>\n",
       "      <td>78000.0</td>\n",
       "    </tr>\n",
       "    <tr>\n",
       "      <th>15920</th>\n",
       "      <td>73</td>\n",
       "      <td>20180430</td>\n",
       "      <td>O</td>\n",
       "      <td>f6251250f1044d7cb66270f8aa380d9a</td>\n",
       "      <td>52000.0</td>\n",
       "    </tr>\n",
       "    <tr>\n",
       "      <th>15932</th>\n",
       "      <td>51</td>\n",
       "      <td>20170430</td>\n",
       "      <td>O</td>\n",
       "      <td>37ce8e0c55ea4cf4a7b09f3a71550a40</td>\n",
       "      <td>84000.0</td>\n",
       "    </tr>\n",
       "    <tr>\n",
       "      <th>15950</th>\n",
       "      <td>58</td>\n",
       "      <td>20180318</td>\n",
       "      <td>O</td>\n",
       "      <td>b9a10fe4f43b4a25858739561f0ca42a</td>\n",
       "      <td>55000.0</td>\n",
       "    </tr>\n",
       "    <tr>\n",
       "      <th>16041</th>\n",
       "      <td>52</td>\n",
       "      <td>20160312</td>\n",
       "      <td>O</td>\n",
       "      <td>425a1b6efc454b329d8723f9966cf72f</td>\n",
       "      <td>59000.0</td>\n",
       "    </tr>\n",
       "    <tr>\n",
       "      <th>16051</th>\n",
       "      <td>47</td>\n",
       "      <td>20180602</td>\n",
       "      <td>O</td>\n",
       "      <td>6eb9d5bea74d4cc1a16452f73a50e8d1</td>\n",
       "      <td>48000.0</td>\n",
       "    </tr>\n",
       "    <tr>\n",
       "      <th>16085</th>\n",
       "      <td>66</td>\n",
       "      <td>20171221</td>\n",
       "      <td>O</td>\n",
       "      <td>a6fce370a2ce4df995fc4899bfeb3b6a</td>\n",
       "      <td>40000.0</td>\n",
       "    </tr>\n",
       "    <tr>\n",
       "      <th>16215</th>\n",
       "      <td>63</td>\n",
       "      <td>20160826</td>\n",
       "      <td>O</td>\n",
       "      <td>46a7f04dd4464075932dfc7bf5c3d6f9</td>\n",
       "      <td>71000.0</td>\n",
       "    </tr>\n",
       "    <tr>\n",
       "      <th>16278</th>\n",
       "      <td>73</td>\n",
       "      <td>20170704</td>\n",
       "      <td>O</td>\n",
       "      <td>ea6cfa381e2c492e99541d4b04d24356</td>\n",
       "      <td>64000.0</td>\n",
       "    </tr>\n",
       "    <tr>\n",
       "      <th>16391</th>\n",
       "      <td>49</td>\n",
       "      <td>20171116</td>\n",
       "      <td>O</td>\n",
       "      <td>176e0f2b33704068bc2d828c1cf2871e</td>\n",
       "      <td>91000.0</td>\n",
       "    </tr>\n",
       "    <tr>\n",
       "      <th>16611</th>\n",
       "      <td>89</td>\n",
       "      <td>20180529</td>\n",
       "      <td>O</td>\n",
       "      <td>a12433fc99bd4cf8972c70afbd420c82</td>\n",
       "      <td>88000.0</td>\n",
       "    </tr>\n",
       "    <tr>\n",
       "      <th>16620</th>\n",
       "      <td>70</td>\n",
       "      <td>20171228</td>\n",
       "      <td>O</td>\n",
       "      <td>0f4eeccda01547bdaa30113a09725a2b</td>\n",
       "      <td>55000.0</td>\n",
       "    </tr>\n",
       "    <tr>\n",
       "      <th>16648</th>\n",
       "      <td>49</td>\n",
       "      <td>20161028</td>\n",
       "      <td>O</td>\n",
       "      <td>17cd1a02965e439da1f0029d50792c56</td>\n",
       "      <td>79000.0</td>\n",
       "    </tr>\n",
       "    <tr>\n",
       "      <th>16670</th>\n",
       "      <td>76</td>\n",
       "      <td>20180320</td>\n",
       "      <td>O</td>\n",
       "      <td>e8926849bbe24ce488d4f3fcd3b537e8</td>\n",
       "      <td>52000.0</td>\n",
       "    </tr>\n",
       "    <tr>\n",
       "      <th>16683</th>\n",
       "      <td>49</td>\n",
       "      <td>20170607</td>\n",
       "      <td>O</td>\n",
       "      <td>1f68e9b6850f49348235a281a47d9f15</td>\n",
       "      <td>56000.0</td>\n",
       "    </tr>\n",
       "    <tr>\n",
       "      <th>16731</th>\n",
       "      <td>51</td>\n",
       "      <td>20160707</td>\n",
       "      <td>O</td>\n",
       "      <td>a97208c5be42445d9949e82e0f70f622</td>\n",
       "      <td>55000.0</td>\n",
       "    </tr>\n",
       "    <tr>\n",
       "      <th>16741</th>\n",
       "      <td>56</td>\n",
       "      <td>20180221</td>\n",
       "      <td>O</td>\n",
       "      <td>994b6ef7a8ca46e3b379518399f6ec93</td>\n",
       "      <td>52000.0</td>\n",
       "    </tr>\n",
       "    <tr>\n",
       "      <th>16920</th>\n",
       "      <td>60</td>\n",
       "      <td>20180125</td>\n",
       "      <td>O</td>\n",
       "      <td>7a3f1c41fc684f8b9631fd20e498c97a</td>\n",
       "      <td>47000.0</td>\n",
       "    </tr>\n",
       "  </tbody>\n",
       "</table>\n",
       "<p>212 rows × 5 columns</p>\n",
       "</div>"
      ],
      "text/plain": [
       "       age  became_member_on gender                            person  \\\n",
       "31      53          20170916      O  d1ede868e29245ea91818a903fec04c6   \n",
       "273     60          20180216      O  d0be9ff460964c3398a33ad9b2829f3a   \n",
       "383     49          20171207      O  0d0a9ca9281248a8a35806c9ae68f872   \n",
       "513     63          20150920      O  01f46a5191424005af436cdf48a5da7c   \n",
       "576     73          20180316      O  644ac06dc9b34a5bbd237a465cf47571   \n",
       "851     48          20160729      O  338c28f32c5944a99a0529be26d145dd   \n",
       "889     32          20161223      O  0d96a963d3e94044aa7934276db005e4   \n",
       "895     59          20170805      O  494a99f508f74ad0ae047c68bf837791   \n",
       "979     74          20150910      O  2ddc7d63c32d4606a7a45e3e70439b44   \n",
       "981     55          20170504      O  acde74ee0f4d418e8fd5bf4f4da8f56c   \n",
       "1057    81          20180324      O  5cac1f0d55c3466fb29e8de342a5e9c9   \n",
       "1349    35          20171115      O  f366d7306e6b4aa984e359357cf4e5dc   \n",
       "1356    56          20180501      O  10e4aeef401f4b7d8a700e365cca1a4b   \n",
       "1477    20          20180205      O  24ca64fbcf5e433fba3554d60b0d0433   \n",
       "1483    47          20161012      O  dec189ccab874c059b32e2c6596c362d   \n",
       "1541    64          20180529      O  f5f1e2044c7d4fa68938640809cbb4bd   \n",
       "1646    57          20180124      O  54b0aabbe655480c880c8423b30a09e0   \n",
       "1649    35          20170815      O  e690a6ff8e78481ca126e1e8e1eb4212   \n",
       "1991    26          20160725      O  4d8dcd13e33649578c756363d039870c   \n",
       "2023    53          20170127      O  9f8b97dbbf3740199a0c701febb6a687   \n",
       "2058    76          20180207      O  1a4ccc5cba79437caf2a42d7ae64e16d   \n",
       "2290    67          20170214      O  9bfcb9551d364ef89f928f6ef195318d   \n",
       "2322    58          20150831      O  c3b922f22b3949579681bd9198d8f266   \n",
       "2350    42          20170926      O  8ead309bb7254edbab114c8837cd54b2   \n",
       "2374    49          20170919      O  e490d5694a114facabe8b70470000a2e   \n",
       "2623    57          20170720      O  8a60e707c2d6445a91bb1b0a87bdf0ca   \n",
       "2744    46          20171024      O  2334c3155e884d3c9529ee471f814a49   \n",
       "3008    49          20171122      O  6db6c774200b4c99bdbd8e7e2ab98b31   \n",
       "3111    74          20151010      O  c1bb5a4b6d4a47ee8c5c009bbae056e3   \n",
       "3191    75          20151014      O  7025289419d44b4ca63e394bc870c88e   \n",
       "...    ...               ...    ...                               ...   \n",
       "14819   43          20160728      O  14462e564e044822b4b29684512ee428   \n",
       "14976   85          20161103      O  b2daf4ff73cc4791b6ae6d9c41223b69   \n",
       "15043   20          20180512      O  8b9658d02943407d8e014a9bc971a3d5   \n",
       "15210   68          20170417      O  fb33c4e72dc44e4aaa7dda815437e68c   \n",
       "15245   67          20171004      O  880bc4be716e412b8015e2e4fe32a7de   \n",
       "15285   67          20180114      O  914b49e0ccc8461f936a87ddeeae5660   \n",
       "15360   31          20170321      O  06b81e95ef4b41d494b03f4832b2c82e   \n",
       "15431   38          20150729      O  74aaf7e635f140ca8316d5b5071b57dc   \n",
       "15490   72          20180404      O  5fd694ac11244daa87e48d39ee302f46   \n",
       "15553   73          20170908      O  47849ffd86e34e40a763bb66ad81fbb1   \n",
       "15641   48          20170623      O  3d6dda5a29c345fa99982972c7012b15   \n",
       "15811   55          20171022      O  694d6543c6fe4b2696d25b825475833a   \n",
       "15824   47          20160310      O  e1c6ff66f7a84bea8e9f1024b8738571   \n",
       "15920   73          20180430      O  f6251250f1044d7cb66270f8aa380d9a   \n",
       "15932   51          20170430      O  37ce8e0c55ea4cf4a7b09f3a71550a40   \n",
       "15950   58          20180318      O  b9a10fe4f43b4a25858739561f0ca42a   \n",
       "16041   52          20160312      O  425a1b6efc454b329d8723f9966cf72f   \n",
       "16051   47          20180602      O  6eb9d5bea74d4cc1a16452f73a50e8d1   \n",
       "16085   66          20171221      O  a6fce370a2ce4df995fc4899bfeb3b6a   \n",
       "16215   63          20160826      O  46a7f04dd4464075932dfc7bf5c3d6f9   \n",
       "16278   73          20170704      O  ea6cfa381e2c492e99541d4b04d24356   \n",
       "16391   49          20171116      O  176e0f2b33704068bc2d828c1cf2871e   \n",
       "16611   89          20180529      O  a12433fc99bd4cf8972c70afbd420c82   \n",
       "16620   70          20171228      O  0f4eeccda01547bdaa30113a09725a2b   \n",
       "16648   49          20161028      O  17cd1a02965e439da1f0029d50792c56   \n",
       "16670   76          20180320      O  e8926849bbe24ce488d4f3fcd3b537e8   \n",
       "16683   49          20170607      O  1f68e9b6850f49348235a281a47d9f15   \n",
       "16731   51          20160707      O  a97208c5be42445d9949e82e0f70f622   \n",
       "16741   56          20180221      O  994b6ef7a8ca46e3b379518399f6ec93   \n",
       "16920   60          20180125      O  7a3f1c41fc684f8b9631fd20e498c97a   \n",
       "\n",
       "         income  \n",
       "31      52000.0  \n",
       "273     94000.0  \n",
       "383     42000.0  \n",
       "513     89000.0  \n",
       "576     88000.0  \n",
       "851     80000.0  \n",
       "889     54000.0  \n",
       "895     73000.0  \n",
       "979     61000.0  \n",
       "981     76000.0  \n",
       "1057    57000.0  \n",
       "1349    54000.0  \n",
       "1356    33000.0  \n",
       "1477    33000.0  \n",
       "1483    39000.0  \n",
       "1541    31000.0  \n",
       "1646    32000.0  \n",
       "1649    31000.0  \n",
       "1991    53000.0  \n",
       "2023   100000.0  \n",
       "2058    60000.0  \n",
       "2290    57000.0  \n",
       "2322    73000.0  \n",
       "2350    63000.0  \n",
       "2374    68000.0  \n",
       "2623    65000.0  \n",
       "2744    91000.0  \n",
       "3008    80000.0  \n",
       "3111    56000.0  \n",
       "3191    60000.0  \n",
       "...         ...  \n",
       "14819  100000.0  \n",
       "14976   65000.0  \n",
       "15043   58000.0  \n",
       "15210   76000.0  \n",
       "15245   33000.0  \n",
       "15285   58000.0  \n",
       "15360   35000.0  \n",
       "15431   58000.0  \n",
       "15490   82000.0  \n",
       "15553   43000.0  \n",
       "15641   94000.0  \n",
       "15811   80000.0  \n",
       "15824   78000.0  \n",
       "15920   52000.0  \n",
       "15932   84000.0  \n",
       "15950   55000.0  \n",
       "16041   59000.0  \n",
       "16051   48000.0  \n",
       "16085   40000.0  \n",
       "16215   71000.0  \n",
       "16278   64000.0  \n",
       "16391   91000.0  \n",
       "16611   88000.0  \n",
       "16620   55000.0  \n",
       "16648   79000.0  \n",
       "16670   52000.0  \n",
       "16683   56000.0  \n",
       "16731   55000.0  \n",
       "16741   52000.0  \n",
       "16920   47000.0  \n",
       "\n",
       "[212 rows x 5 columns]"
      ]
     },
     "execution_count": 45,
     "metadata": {},
     "output_type": "execute_result"
    }
   ],
   "source": [
    "profile[profile['gender'] == 'O']"
   ]
  },
  {
   "cell_type": "code",
   "execution_count": 46,
   "metadata": {},
   "outputs": [],
   "source": [
    "profile = profile.dropna().reset_index(drop = True)"
   ]
  },
  {
   "cell_type": "code",
   "execution_count": 47,
   "metadata": {},
   "outputs": [
    {
     "name": "stdout",
     "output_type": "stream",
     "text": [
      "<class 'pandas.core.frame.DataFrame'>\n",
      "RangeIndex: 14825 entries, 0 to 14824\n",
      "Data columns (total 5 columns):\n",
      "age                 14825 non-null int64\n",
      "became_member_on    14825 non-null int64\n",
      "gender              14825 non-null object\n",
      "person              14825 non-null object\n",
      "income              14825 non-null float64\n",
      "dtypes: float64(1), int64(2), object(2)\n",
      "memory usage: 579.2+ KB\n"
     ]
    }
   ],
   "source": [
    "profile.info()"
   ]
  },
  {
   "cell_type": "code",
   "execution_count": 48,
   "metadata": {},
   "outputs": [
    {
     "data": {
      "text/plain": [
       "58     408\n",
       "53     372\n",
       "51     363\n",
       "59     359\n",
       "54     359\n",
       "57     353\n",
       "52     351\n",
       "55     350\n",
       "56     342\n",
       "63     338\n",
       "60     333\n",
       "49     321\n",
       "62     318\n",
       "67     317\n",
       "64     311\n",
       "61     309\n",
       "48     288\n",
       "66     284\n",
       "50     284\n",
       "65     280\n",
       "68     259\n",
       "70     252\n",
       "69     242\n",
       "47     232\n",
       "45     231\n",
       "71     230\n",
       "42     227\n",
       "43     215\n",
       "46     212\n",
       "73     209\n",
       "      ... \n",
       "22     131\n",
       "30     131\n",
       "29     129\n",
       "23     126\n",
       "35     118\n",
       "81     118\n",
       "79     117\n",
       "80     116\n",
       "31     113\n",
       "82     105\n",
       "83     102\n",
       "84      83\n",
       "18      70\n",
       "85      70\n",
       "87      66\n",
       "88      64\n",
       "86      54\n",
       "89      53\n",
       "90      52\n",
       "91      47\n",
       "92      40\n",
       "94      33\n",
       "93      29\n",
       "95      22\n",
       "97      13\n",
       "100     12\n",
       "96       8\n",
       "98       5\n",
       "101      5\n",
       "99       5\n",
       "Name: age, Length: 84, dtype: int64"
      ]
     },
     "execution_count": 48,
     "metadata": {},
     "output_type": "execute_result"
    }
   ],
   "source": [
    "profile['age'].value_counts()"
   ]
  },
  {
   "cell_type": "code",
   "execution_count": 49,
   "metadata": {},
   "outputs": [
    {
     "name": "stdout",
     "output_type": "stream",
     "text": [
      "<class 'pandas.core.frame.DataFrame'>\n",
      "Int64Index: 63288 entries, 0 to 63287\n",
      "Data columns (total 14 columns):\n",
      "person              63288 non-null object\n",
      "offer_id            63288 non-null object\n",
      "time                63288 non-null int64\n",
      "label               63288 non-null int64\n",
      "channels            63288 non-null object\n",
      "difficulty          63288 non-null int64\n",
      "duration            63288 non-null int64\n",
      "offer_type          63288 non-null object\n",
      "reward              63288 non-null int64\n",
      "number_channels     63288 non-null int64\n",
      "age                 55222 non-null float64\n",
      "became_member_on    55222 non-null float64\n",
      "gender              55222 non-null object\n",
      "income              55222 non-null float64\n",
      "dtypes: float64(3), int64(6), object(5)\n",
      "memory usage: 7.2+ MB\n"
     ]
    }
   ],
   "source": [
    "final_data = pd.merge(final_data,profile,on = 'person',how = 'left')\n",
    "final_data.info()"
   ]
  },
  {
   "cell_type": "code",
   "execution_count": 50,
   "metadata": {},
   "outputs": [
    {
     "data": {
      "text/plain": [
       "<matplotlib.axes._subplots.AxesSubplot at 0x7fbfe99db748>"
      ]
     },
     "execution_count": 50,
     "metadata": {},
     "output_type": "execute_result"
    },
    {
     "data": {
      "image/png": "[encoded data removed]",
      "text/plain": [
       "<matplotlib.figure.Figure at 0x7fbfe99dbf60>"
      ]
     },
     "metadata": {
      "needs_background": "light"
     },
     "output_type": "display_data"
    }
   ],
   "source": [
    "fig,axes=plt.subplots(figsize=(10,5))\n",
    "gender_data = final_data.groupby('gender',as_index = False)['label'].mean()\n",
    "plt.xticks(rotation=45)\n",
    "sns.barplot(data = gender_data,x='gender',y='label')"
   ]
  },
  {
   "cell_type": "code",
   "execution_count": 51,
   "metadata": {},
   "outputs": [
    {
     "data": {
      "image/png": "[encoded data removed]",
      "text/plain": [
       "<matplotlib.figure.Figure at 0x7fbfe99db6a0>"
      ]
     },
     "metadata": {
      "needs_background": "light"
     },
     "output_type": "display_data"
    }
   ],
   "source": [
    "fig,axes=plt.subplots(figsize=(10,5))\n",
    "sns.boxplot(data=final_data,x='label',y='income',palette='rainbow')\n",
    "plt.tight_layout()"
   ]
  },
  {
   "cell_type": "code",
   "execution_count": 52,
   "metadata": {},
   "outputs": [
    {
     "data": {
      "image/png": "[encoded data removed]",
      "text/plain": [
       "<matplotlib.figure.Figure at 0x7fbfe9992748>"
      ]
     },
     "metadata": {
      "needs_background": "light"
     },
     "output_type": "display_data"
    }
   ],
   "source": [
    "fig,axes=plt.subplots(figsize=(10,5))\n",
    "sns.boxplot(data=final_data,x='label',y='age',palette='rainbow')\n",
    "plt.tight_layout()"
   ]
  },
  {
   "cell_type": "code",
   "execution_count": 53,
   "metadata": {},
   "outputs": [],
   "source": [
    "final_data_copy = final_data.dropna().reset_index(drop = True)"
   ]
  },
  {
   "cell_type": "code",
   "execution_count": 54,
   "metadata": {},
   "outputs": [],
   "source": [
    "person_group = final_data_copy.groupby('person',as_index = False).agg({'offer_id':lambda x : x.nunique(),\n",
    "                                                   'gender':lambda x:x.mode()[0],\n",
    "                                                   'income' : 'max',\n",
    "                                                   'age' : 'max'})"
   ]
  },
  {
   "cell_type": "code",
   "execution_count": 55,
   "metadata": {},
   "outputs": [
    {
     "data": {
      "text/html": [
       "<div>\n",
       "<style scoped>\n",
       "    .dataframe tbody tr th:only-of-type {\n",
       "        vertical-align: middle;\n",
       "    }\n",
       "\n",
       "    .dataframe tbody tr th {\n",
       "        vertical-align: top;\n",
       "    }\n",
       "\n",
       "    .dataframe thead th {\n",
       "        text-align: right;\n",
       "    }\n",
       "</style>\n",
       "<table border=\"1\" class=\"dataframe\">\n",
       "  <thead>\n",
       "    <tr style=\"text-align: right;\">\n",
       "      <th></th>\n",
       "      <th>person</th>\n",
       "      <th>offer_id</th>\n",
       "      <th>gender</th>\n",
       "      <th>income</th>\n",
       "      <th>age</th>\n",
       "    </tr>\n",
       "  </thead>\n",
       "  <tbody>\n",
       "    <tr>\n",
       "      <th>0</th>\n",
       "      <td>0009655768c64bdeb2e877511632db8f</td>\n",
       "      <td>5</td>\n",
       "      <td>M</td>\n",
       "      <td>72000.0</td>\n",
       "      <td>33.0</td>\n",
       "    </tr>\n",
       "    <tr>\n",
       "      <th>1</th>\n",
       "      <td>0011e0d4e6b944f998e987f904e8c1e5</td>\n",
       "      <td>5</td>\n",
       "      <td>O</td>\n",
       "      <td>57000.0</td>\n",
       "      <td>40.0</td>\n",
       "    </tr>\n",
       "    <tr>\n",
       "      <th>2</th>\n",
       "      <td>0020c2b971eb4e9188eac86d93036a77</td>\n",
       "      <td>4</td>\n",
       "      <td>F</td>\n",
       "      <td>90000.0</td>\n",
       "      <td>59.0</td>\n",
       "    </tr>\n",
       "    <tr>\n",
       "      <th>3</th>\n",
       "      <td>0020ccbbb6d84e358d3414a3ff76cffd</td>\n",
       "      <td>4</td>\n",
       "      <td>F</td>\n",
       "      <td>60000.0</td>\n",
       "      <td>24.0</td>\n",
       "    </tr>\n",
       "    <tr>\n",
       "      <th>4</th>\n",
       "      <td>003d66b6608740288d6cc97a6903f4f0</td>\n",
       "      <td>4</td>\n",
       "      <td>F</td>\n",
       "      <td>73000.0</td>\n",
       "      <td>26.0</td>\n",
       "    </tr>\n",
       "  </tbody>\n",
       "</table>\n",
       "</div>"
      ],
      "text/plain": [
       "                             person  offer_id gender   income   age\n",
       "0  0009655768c64bdeb2e877511632db8f         5      M  72000.0  33.0\n",
       "1  0011e0d4e6b944f998e987f904e8c1e5         5      O  57000.0  40.0\n",
       "2  0020c2b971eb4e9188eac86d93036a77         4      F  90000.0  59.0\n",
       "3  0020ccbbb6d84e358d3414a3ff76cffd         4      F  60000.0  24.0\n",
       "4  003d66b6608740288d6cc97a6903f4f0         4      F  73000.0  26.0"
      ]
     },
     "execution_count": 55,
     "metadata": {},
     "output_type": "execute_result"
    }
   ],
   "source": [
    "person_group.head()"
   ]
  },
  {
   "cell_type": "code",
   "execution_count": 56,
   "metadata": {},
   "outputs": [
    {
     "data": {
      "text/plain": [
       "4    5747\n",
       "3    4375\n",
       "5    2763\n",
       "2    1394\n",
       "6     393\n",
       "1     148\n",
       "Name: offer_id, dtype: int64"
      ]
     },
     "execution_count": 56,
     "metadata": {},
     "output_type": "execute_result"
    }
   ],
   "source": [
    "person_group['offer_id'].value_counts()"
   ]
  },
  {
   "cell_type": "code",
   "execution_count": 57,
   "metadata": {},
   "outputs": [
    {
     "data": {
      "image/png": "[encoded data removed]",
      "text/plain": [
       "<matplotlib.figure.Figure at 0x7fbfe9a93860>"
      ]
     },
     "metadata": {
      "needs_background": "light"
     },
     "output_type": "display_data"
    }
   ],
   "source": [
    "fig,axes=plt.subplots(figsize=(10,5))\n",
    "sns.boxplot(data=person_group,x='offer_id',y='income',palette='rainbow')\n",
    "plt.tight_layout()"
   ]
  },
  {
   "cell_type": "code",
   "execution_count": 58,
   "metadata": {},
   "outputs": [
    {
     "data": {
      "image/png": "[encoded data removed]",
      "text/plain": [
       "<matplotlib.figure.Figure at 0x7fbfe9935080>"
      ]
     },
     "metadata": {
      "needs_background": "light"
     },
     "output_type": "display_data"
    }
   ],
   "source": [
    "fig,axes=plt.subplots(figsize=(10,5))\n",
    "sns.boxplot(data=person_group,x='offer_id',y='age',palette='rainbow')\n",
    "plt.tight_layout()"
   ]
  },
  {
   "cell_type": "code",
   "execution_count": 59,
   "metadata": {},
   "outputs": [],
   "source": [
    "#creating order data\n",
    "transaction_data = transcript[transcript['event'] == 'transaction'][['person','value','time']].reset_index(drop = True)"
   ]
  },
  {
   "cell_type": "code",
   "execution_count": 60,
   "metadata": {},
   "outputs": [
    {
     "data": {
      "text/html": [
       "<div>\n",
       "<style scoped>\n",
       "    .dataframe tbody tr th:only-of-type {\n",
       "        vertical-align: middle;\n",
       "    }\n",
       "\n",
       "    .dataframe tbody tr th {\n",
       "        vertical-align: top;\n",
       "    }\n",
       "\n",
       "    .dataframe thead th {\n",
       "        text-align: right;\n",
       "    }\n",
       "</style>\n",
       "<table border=\"1\" class=\"dataframe\">\n",
       "  <thead>\n",
       "    <tr style=\"text-align: right;\">\n",
       "      <th></th>\n",
       "      <th>person</th>\n",
       "      <th>value</th>\n",
       "      <th>time</th>\n",
       "    </tr>\n",
       "  </thead>\n",
       "  <tbody>\n",
       "    <tr>\n",
       "      <th>0</th>\n",
       "      <td>02c083884c7d45b39cc68e1314fec56c</td>\n",
       "      <td>{'amount': 0.8300000000000001}</td>\n",
       "      <td>0</td>\n",
       "    </tr>\n",
       "    <tr>\n",
       "      <th>1</th>\n",
       "      <td>9fa9ae8f57894cc9a3b8a9bbe0fc1b2f</td>\n",
       "      <td>{'amount': 34.56}</td>\n",
       "      <td>0</td>\n",
       "    </tr>\n",
       "    <tr>\n",
       "      <th>2</th>\n",
       "      <td>54890f68699049c2a04d415abc25e717</td>\n",
       "      <td>{'amount': 13.23}</td>\n",
       "      <td>0</td>\n",
       "    </tr>\n",
       "    <tr>\n",
       "      <th>3</th>\n",
       "      <td>b2f1cd155b864803ad8334cdf13c4bd2</td>\n",
       "      <td>{'amount': 19.51}</td>\n",
       "      <td>0</td>\n",
       "    </tr>\n",
       "    <tr>\n",
       "      <th>4</th>\n",
       "      <td>fe97aa22dd3e48c8b143116a8403dd52</td>\n",
       "      <td>{'amount': 18.97}</td>\n",
       "      <td>0</td>\n",
       "    </tr>\n",
       "  </tbody>\n",
       "</table>\n",
       "</div>"
      ],
      "text/plain": [
       "                             person                           value  time\n",
       "0  02c083884c7d45b39cc68e1314fec56c  {'amount': 0.8300000000000001}     0\n",
       "1  9fa9ae8f57894cc9a3b8a9bbe0fc1b2f               {'amount': 34.56}     0\n",
       "2  54890f68699049c2a04d415abc25e717               {'amount': 13.23}     0\n",
       "3  b2f1cd155b864803ad8334cdf13c4bd2               {'amount': 19.51}     0\n",
       "4  fe97aa22dd3e48c8b143116a8403dd52               {'amount': 18.97}     0"
      ]
     },
     "execution_count": 60,
     "metadata": {},
     "output_type": "execute_result"
    }
   ],
   "source": [
    "transaction_data.head()"
   ]
  },
  {
   "cell_type": "code",
   "execution_count": 61,
   "metadata": {},
   "outputs": [],
   "source": [
    "transaction_data['amount'] = transaction_data['value'].apply(lambda x: x.get('amount'))"
   ]
  },
  {
   "cell_type": "code",
   "execution_count": 73,
   "metadata": {},
   "outputs": [
    {
     "data": {
      "text/plain": [
       "16578"
      ]
     },
     "execution_count": 73,
     "metadata": {},
     "output_type": "execute_result"
    }
   ],
   "source": [
    "transaction_data['person'].nunique()"
   ]
  },
  {
   "cell_type": "code",
   "execution_count": 62,
   "metadata": {},
   "outputs": [
    {
     "name": "stdout",
     "output_type": "stream",
     "text": [
      "<class 'pandas.core.frame.DataFrame'>\n",
      "RangeIndex: 138953 entries, 0 to 138952\n",
      "Data columns (total 4 columns):\n",
      "person    138953 non-null object\n",
      "value     138953 non-null object\n",
      "time      138953 non-null int64\n",
      "amount    138953 non-null float64\n",
      "dtypes: float64(1), int64(1), object(2)\n",
      "memory usage: 4.2+ MB\n"
     ]
    }
   ],
   "source": [
    "transaction_data.info()"
   ]
  },
  {
   "cell_type": "code",
   "execution_count": 63,
   "metadata": {},
   "outputs": [
    {
     "data": {
      "text/plain": [
       "<matplotlib.axes._subplots.AxesSubplot at 0x7fbfe9953470>"
      ]
     },
     "execution_count": 63,
     "metadata": {},
     "output_type": "execute_result"
    },
    {
     "data": {
      "image/png": "[encoded data removed]",
      "text/plain": [
       "<matplotlib.figure.Figure at 0x7fbfe41e6b70>"
      ]
     },
     "metadata": {
      "needs_background": "light"
     },
     "output_type": "display_data"
    }
   ],
   "source": [
    "transaction_data['amount'].plot(kind = 'hist')"
   ]
  },
  {
   "cell_type": "code",
   "execution_count": 64,
   "metadata": {},
   "outputs": [],
   "source": [
    "#number of distinct offers for customer by customer attributes\n",
    "# calculate transaction features prior to offer recieved time - Number of orders, Number of offers,\n",
    "# previous offer completed flag, sum of amount, \n",
    "# find discrepany in number of person in final_data df. \n",
    "# remove data that is not completed and not yet finished from modelling"
   ]
  },
  {
   "cell_type": "code",
   "execution_count": 65,
   "metadata": {},
   "outputs": [],
   "source": [
    "transaction_data_time = pd.merge(transaction_data,final_data[['person','time']].\\\n",
    "         rename(columns = {'time' : 'time_offer'}),how = 'left',on = 'person')"
   ]
  },
  {
   "cell_type": "code",
   "execution_count": 66,
   "metadata": {},
   "outputs": [
    {
     "name": "stdout",
     "output_type": "stream",
     "text": [
      "<class 'pandas.core.frame.DataFrame'>\n",
      "Int64Index: 527629 entries, 0 to 527628\n",
      "Data columns (total 5 columns):\n",
      "person        527629 non-null object\n",
      "value         527629 non-null object\n",
      "time          527629 non-null int64\n",
      "amount        527629 non-null float64\n",
      "time_offer    527609 non-null float64\n",
      "dtypes: float64(2), int64(1), object(2)\n",
      "memory usage: 24.2+ MB\n"
     ]
    }
   ],
   "source": [
    "transaction_data_time.info()"
   ]
  },
  {
   "cell_type": "code",
   "execution_count": 67,
   "metadata": {},
   "outputs": [],
   "source": [
    "transaction_data_time = transaction_data_time[transaction_data_time['time'] < transaction_data_time['time_offer']].\\\n",
    "        copy().\\\n",
    "        reset_index(drop = True)\n"
   ]
  },
  {
   "cell_type": "code",
   "execution_count": 68,
   "metadata": {},
   "outputs": [
    {
     "name": "stdout",
     "output_type": "stream",
     "text": [
      "<class 'pandas.core.frame.DataFrame'>\n",
      "RangeIndex: 218998 entries, 0 to 218997\n",
      "Data columns (total 5 columns):\n",
      "person        218998 non-null object\n",
      "value         218998 non-null object\n",
      "time          218998 non-null int64\n",
      "amount        218998 non-null float64\n",
      "time_offer    218998 non-null float64\n",
      "dtypes: float64(2), int64(1), object(2)\n",
      "memory usage: 8.4+ MB\n"
     ]
    }
   ],
   "source": [
    "transaction_data_time.info()"
   ]
  },
  {
   "cell_type": "code",
   "execution_count": 69,
   "metadata": {},
   "outputs": [
    {
     "data": {
      "text/html": [
       "<div>\n",
       "<style scoped>\n",
       "    .dataframe tbody tr th:only-of-type {\n",
       "        vertical-align: middle;\n",
       "    }\n",
       "\n",
       "    .dataframe tbody tr th {\n",
       "        vertical-align: top;\n",
       "    }\n",
       "\n",
       "    .dataframe thead th {\n",
       "        text-align: right;\n",
       "    }\n",
       "</style>\n",
       "<table border=\"1\" class=\"dataframe\">\n",
       "  <thead>\n",
       "    <tr style=\"text-align: right;\">\n",
       "      <th></th>\n",
       "      <th>person</th>\n",
       "      <th>value</th>\n",
       "      <th>time</th>\n",
       "      <th>amount</th>\n",
       "      <th>time_offer</th>\n",
       "    </tr>\n",
       "  </thead>\n",
       "  <tbody>\n",
       "    <tr>\n",
       "      <th>0</th>\n",
       "      <td>02c083884c7d45b39cc68e1314fec56c</td>\n",
       "      <td>{'amount': 0.8300000000000001}</td>\n",
       "      <td>0</td>\n",
       "      <td>0.83</td>\n",
       "      <td>408.0</td>\n",
       "    </tr>\n",
       "    <tr>\n",
       "      <th>1</th>\n",
       "      <td>9fa9ae8f57894cc9a3b8a9bbe0fc1b2f</td>\n",
       "      <td>{'amount': 34.56}</td>\n",
       "      <td>0</td>\n",
       "      <td>34.56</td>\n",
       "      <td>408.0</td>\n",
       "    </tr>\n",
       "    <tr>\n",
       "      <th>2</th>\n",
       "      <td>9fa9ae8f57894cc9a3b8a9bbe0fc1b2f</td>\n",
       "      <td>{'amount': 34.56}</td>\n",
       "      <td>0</td>\n",
       "      <td>34.56</td>\n",
       "      <td>504.0</td>\n",
       "    </tr>\n",
       "    <tr>\n",
       "      <th>3</th>\n",
       "      <td>9fa9ae8f57894cc9a3b8a9bbe0fc1b2f</td>\n",
       "      <td>{'amount': 34.56}</td>\n",
       "      <td>0</td>\n",
       "      <td>34.56</td>\n",
       "      <td>336.0</td>\n",
       "    </tr>\n",
       "    <tr>\n",
       "      <th>4</th>\n",
       "      <td>54890f68699049c2a04d415abc25e717</td>\n",
       "      <td>{'amount': 13.23}</td>\n",
       "      <td>0</td>\n",
       "      <td>13.23</td>\n",
       "      <td>336.0</td>\n",
       "    </tr>\n",
       "  </tbody>\n",
       "</table>\n",
       "</div>"
      ],
      "text/plain": [
       "                             person                           value  time  \\\n",
       "0  02c083884c7d45b39cc68e1314fec56c  {'amount': 0.8300000000000001}     0   \n",
       "1  9fa9ae8f57894cc9a3b8a9bbe0fc1b2f               {'amount': 34.56}     0   \n",
       "2  9fa9ae8f57894cc9a3b8a9bbe0fc1b2f               {'amount': 34.56}     0   \n",
       "3  9fa9ae8f57894cc9a3b8a9bbe0fc1b2f               {'amount': 34.56}     0   \n",
       "4  54890f68699049c2a04d415abc25e717               {'amount': 13.23}     0   \n",
       "\n",
       "   amount  time_offer  \n",
       "0    0.83       408.0  \n",
       "1   34.56       408.0  \n",
       "2   34.56       504.0  \n",
       "3   34.56       336.0  \n",
       "4   13.23       336.0  "
      ]
     },
     "execution_count": 69,
     "metadata": {},
     "output_type": "execute_result"
    }
   ],
   "source": [
    "transaction_data_time.head()"
   ]
  },
  {
   "cell_type": "code",
   "execution_count": 70,
   "metadata": {},
   "outputs": [
    {
     "name": "stdout",
     "output_type": "stream",
     "text": [
      "<class 'pandas.core.frame.DataFrame'>\n",
      "Int64Index: 63288 entries, 0 to 63287\n",
      "Data columns (total 14 columns):\n",
      "person              63288 non-null object\n",
      "offer_id            63288 non-null object\n",
      "time                63288 non-null int64\n",
      "label               63288 non-null int64\n",
      "channels            63288 non-null object\n",
      "difficulty          63288 non-null int64\n",
      "duration            63288 non-null int64\n",
      "offer_type          63288 non-null object\n",
      "reward              63288 non-null int64\n",
      "number_channels     63288 non-null int64\n",
      "age                 55222 non-null float64\n",
      "became_member_on    55222 non-null float64\n",
      "gender              55222 non-null object\n",
      "income              55222 non-null float64\n",
      "dtypes: float64(3), int64(6), object(5)\n",
      "memory usage: 9.7+ MB\n"
     ]
    }
   ],
   "source": [
    "final_data.info()"
   ]
  },
  {
   "cell_type": "code",
   "execution_count": 71,
   "metadata": {},
   "outputs": [
    {
     "data": {
      "text/plain": [
       "(63288, 2)"
      ]
     },
     "execution_count": 71,
     "metadata": {},
     "output_type": "execute_result"
    }
   ],
   "source": [
    "final_data[['person','time']].drop_duplicates().shape"
   ]
  },
  {
   "cell_type": "code",
   "execution_count": 72,
   "metadata": {},
   "outputs": [
    {
     "data": {
      "text/plain": [
       "(46461, 2)"
      ]
     },
     "execution_count": 72,
     "metadata": {},
     "output_type": "execute_result"
    }
   ],
   "source": [
    "transaction_data_time[['person','time_offer']].drop_duplicates().shape"
   ]
  },
  {
   "cell_type": "code",
   "execution_count": 74,
   "metadata": {},
   "outputs": [
    {
     "data": {
      "text/plain": [
       "16994"
      ]
     },
     "execution_count": 74,
     "metadata": {},
     "output_type": "execute_result"
    }
   ],
   "source": [
    "final_data['person'].nunique()"
   ]
  },
  {
   "cell_type": "code",
   "execution_count": null,
   "metadata": {},
   "outputs": [],
   "source": [
    "#person income number of orders number of offers sum of amount\n",
    "#day vs amount scatter plot\n",
    "\n"
   ]
  }
 ],
 "metadata": {
  "kernelspec": {
   "display_name": "Python 3",
   "language": "python",
   "name": "python3"
  },
  "language_info": {
   "codemirror_mode": {
    "name": "ipython",
    "version": 3
   },
   "file_extension": ".py",
   "mimetype": "text/x-python",
   "name": "python",
   "nbconvert_exporter": "python",
   "pygments_lexer": "ipython3",
   "version": "3.8.5"
  }
 },
 "nbformat": 4,
 "nbformat_minor": 2
}
